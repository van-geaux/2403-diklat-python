{
  "cells": [
    {
      "cell_type": "markdown",
      "metadata": {
        "id": "view-in-github",
        "colab_type": "text"
      },
      "source": [
        "<a href=\"https://colab.research.google.com/github/mihoku/MoF-Training-Python-for-Data-Analytics/blob/main/Day%201/Class_Discussion_Day_1_Python_for_Data_Analytics.ipynb\" target=\"_parent\"><img src=\"https://colab.research.google.com/assets/colab-badge.svg\" alt=\"Open In Colab\"/></a>"
      ]
    },
    {
      "cell_type": "markdown",
      "id": "b1ee8836-9b46-4d9f-bc7b-1242ec79443a",
      "metadata": {
        "id": "b1ee8836-9b46-4d9f-bc7b-1242ec79443a",
        "jp-MarkdownHeadingCollapsed": true,
        "tags": []
      },
      "source": [
        "# **Python for Data Analytics**"
      ]
    },
    {
      "cell_type": "markdown",
      "id": "eS7RDMHQu5-w",
      "metadata": {
        "id": "eS7RDMHQu5-w",
        "tags": []
      },
      "source": [
        "# **Basic Python**"
      ]
    },
    {
      "cell_type": "markdown",
      "id": "abb28ab4-a5e6-47ac-a687-cd5b0af7b5f7",
      "metadata": {
        "id": "abb28ab4-a5e6-47ac-a687-cd5b0af7b5f7"
      },
      "source": [
        "<img src=\"https://raw.githubusercontent.com/mihoku/repository-random/master/basic_python_building_blocks.png\" width=\"700\">\n",
        "\n",
        "Agenda (Hari Pertama) :\n",
        "1. ```Sintaksis``` dan ```Variabel```.\n",
        "2. ```Tipe data``` (atomic and collective).\n",
        "3. ```Indexing dan slicing```.\n",
        "4. ```Input & Output```\n",
        "5. ```Control Structures```.\n",
        "6. ```Functions```."
      ]
    },
    {
      "cell_type": "markdown",
      "id": "57e64917-5e2f-4d0f-9e2b-ddc9ca178899",
      "metadata": {
        "id": "57e64917-5e2f-4d0f-9e2b-ddc9ca178899"
      },
      "source": [
        "## Mari kita mulai"
      ]
    },
    {
      "cell_type": "code",
      "execution_count": null,
      "id": "4bbf1feb-441e-4107-8999-5918cdb76fac",
      "metadata": {
        "ExecuteTime": {
          "end_time": "2023-08-20T21:55:51.359803Z",
          "start_time": "2023-08-20T21:55:51.296348Z"
        },
        "colab": {
          "base_uri": "https://localhost:8080/",
          "height": 176
        },
        "id": "4bbf1feb-441e-4107-8999-5918cdb76fac",
        "outputId": "470351c7-5d17-45a5-89a7-3b6b177be776",
        "tags": []
      },
      "outputs": [
        {
          "output_type": "error",
          "ename": "NameError",
          "evalue": "name 'prin' is not defined",
          "traceback": [
            "\u001b[0;31m---------------------------------------------------------------------------\u001b[0m",
            "\u001b[0;31mNameError\u001b[0m                                 Traceback (most recent call last)",
            "\u001b[0;32m<ipython-input-5-18ef1241a513>\u001b[0m in \u001b[0;36m<cell line: 1>\u001b[0;34m()\u001b[0m\n\u001b[0;32m----> 1\u001b[0;31m \u001b[0mprin\u001b[0m\u001b[0;34m(\u001b[0m\u001b[0;34m'Hello World!'\u001b[0m\u001b[0;34m)\u001b[0m\u001b[0;34m\u001b[0m\u001b[0;34m\u001b[0m\u001b[0m\n\u001b[0m",
            "\u001b[0;31mNameError\u001b[0m: name 'prin' is not defined"
          ]
        }
      ],
      "source": [
        "\n",
        "prin('Hello World!')\n"
      ]
    },
    {
      "cell_type": "markdown",
      "id": "3f0ff1db-df75-41ed-b2a1-09e4294a959f",
      "metadata": {
        "id": "3f0ff1db-df75-41ed-b2a1-09e4294a959f"
      },
      "source": [
        "``` print('Hello World!') ``` <br>\n",
        "Program pertama kita terdiri dari:\n",
        " - kata ``` print ```\n",
        " - kurang buka\n",
        " - kutip\n",
        " - teks\n",
        " - kutip\n",
        " - kurung tutup"
      ]
    },
    {
      "cell_type": "code",
      "execution_count": null,
      "id": "53b53a1a-2d16-4bd7-9343-235f48eea4ae",
      "metadata": {
        "ExecuteTime": {
          "end_time": "2023-08-20T21:57:40.467096Z",
          "start_time": "2023-08-20T21:57:40.444851Z"
        },
        "tags": [],
        "id": "53b53a1a-2d16-4bd7-9343-235f48eea4ae",
        "outputId": "27c5ad12-1e5d-44c0-9b17-7eae8244d286"
      },
      "outputs": [
        {
          "ename": "SyntaxError",
          "evalue": "unexpected EOF while parsing (628126063.py, line 1)",
          "output_type": "error",
          "traceback": [
            "\u001b[1;36m  Input \u001b[1;32mIn [6]\u001b[1;36m\u001b[0m\n\u001b[1;33m    print('Hello World!'\u001b[0m\n\u001b[1;37m                        ^\u001b[0m\n\u001b[1;31mSyntaxError\u001b[0m\u001b[1;31m:\u001b[0m unexpected EOF while parsing\n"
          ]
        }
      ],
      "source": [
        "print('Hello World!'"
      ]
    },
    {
      "cell_type": "code",
      "execution_count": null,
      "id": "eaa5affa-253c-4a06-b603-3775115d137e",
      "metadata": {
        "ExecuteTime": {
          "end_time": "2023-08-20T21:57:41.830519Z",
          "start_time": "2023-08-20T21:57:41.320590Z"
        },
        "tags": [],
        "id": "eaa5affa-253c-4a06-b603-3775115d137e",
        "outputId": "5dba5c69-db65-4e00-ace2-7a54ceb3739a"
      },
      "outputs": [
        {
          "ename": "NameError",
          "evalue": "name 'prin' is not defined",
          "output_type": "error",
          "traceback": [
            "\u001b[1;31m---------------------------------------------------------------------------\u001b[0m",
            "\u001b[1;31mNameError\u001b[0m                                 Traceback (most recent call last)",
            "Input \u001b[1;32mIn [7]\u001b[0m, in \u001b[0;36m<cell line: 1>\u001b[1;34m()\u001b[0m\n\u001b[1;32m----> 1\u001b[0m \u001b[43mprin\u001b[49m(\u001b[38;5;124m\"\u001b[39m\u001b[38;5;124mHello World!\u001b[39m\u001b[38;5;124m\"\u001b[39m)\n",
            "\u001b[1;31mNameError\u001b[0m: name 'prin' is not defined"
          ]
        }
      ],
      "source": [
        "prin(\"Hello World!\")"
      ]
    },
    {
      "cell_type": "code",
      "execution_count": null,
      "id": "4f1d0ca7-f144-4a51-97ad-4a560cfd9f46",
      "metadata": {
        "ExecuteTime": {
          "end_time": "2023-08-20T21:57:43.265326Z",
          "start_time": "2023-08-20T21:57:43.242403Z"
        },
        "tags": [],
        "id": "4f1d0ca7-f144-4a51-97ad-4a560cfd9f46",
        "outputId": "52ce2cea-6f78-4764-b8b4-6c59df416830"
      },
      "outputs": [
        {
          "ename": "NameError",
          "evalue": "name 'meonk' is not defined",
          "output_type": "error",
          "traceback": [
            "\u001b[1;31m---------------------------------------------------------------------------\u001b[0m",
            "\u001b[1;31mNameError\u001b[0m                                 Traceback (most recent call last)",
            "Input \u001b[1;32mIn [8]\u001b[0m, in \u001b[0;36m<cell line: 1>\u001b[1;34m()\u001b[0m\n\u001b[1;32m----> 1\u001b[0m \u001b[43mmeonk\u001b[49m(\u001b[38;5;124m\"\u001b[39m\u001b[38;5;124mkucing\u001b[39m\u001b[38;5;124m\"\u001b[39m)\n",
            "\u001b[1;31mNameError\u001b[0m: name 'meonk' is not defined"
          ]
        }
      ],
      "source": [
        "meonk(\"kucing\")"
      ]
    },
    {
      "cell_type": "code",
      "execution_count": null,
      "id": "27dbe400-5a25-4380-96f2-5ae45d871bca",
      "metadata": {
        "ExecuteTime": {
          "end_time": "2023-08-20T21:57:57.486414Z",
          "start_time": "2023-08-20T21:57:57.471607Z"
        },
        "tags": [],
        "id": "27dbe400-5a25-4380-96f2-5ae45d871bca",
        "outputId": "50672d19-10af-4850-e43c-7355f363e3ac"
      },
      "outputs": [
        {
          "name": "stdout",
          "output_type": "stream",
          "text": [
            "\n"
          ]
        }
      ],
      "source": [
        "print()"
      ]
    },
    {
      "cell_type": "code",
      "execution_count": null,
      "id": "885a952d-ba13-45f2-a0d7-202ba92f8c36",
      "metadata": {
        "ExecuteTime": {
          "end_time": "2023-08-20T21:57:58.066236Z",
          "start_time": "2023-08-20T21:57:58.051285Z"
        },
        "tags": [],
        "id": "885a952d-ba13-45f2-a0d7-202ba92f8c36",
        "outputId": "dbb2ed77-47ef-443d-b45b-8ecf12c0f879"
      },
      "outputs": [
        {
          "name": "stdout",
          "output_type": "stream",
          "text": [
            "\n"
          ]
        }
      ],
      "source": [
        "# tampilkan ke layar nama Anda.\n",
        "print()"
      ]
    },
    {
      "cell_type": "markdown",
      "id": "436deccd-cc7b-4ba3-be9b-507f46179554",
      "metadata": {
        "id": "436deccd-cc7b-4ba3-be9b-507f46179554"
      },
      "source": [
        "Pesan error dalam warna **merah** terdiri dari:\n",
        "- Traceback, lokasi file yang error\n",
        "- Lokasi error di program kita ditunjukkan dengan tanda ```---->```\n",
        "- Konten errornya\n",
        "- Nama pesan errornya dan penjelasannya"
      ]
    },
    {
      "cell_type": "markdown",
      "id": "a56a2f5b-df9b-40d2-8545-0850834a556f",
      "metadata": {
        "id": "a56a2f5b-df9b-40d2-8545-0850834a556f",
        "tags": []
      },
      "source": [
        "## 1. Sintaksis dasar dan Variabel\n",
        "\n",
        "> Sintaksis dalam python bertujuan untuk memastikan kode yang dibuat mudah untuk dibaca dan dipahami. Artinya ada standar penulisan yang digunakan, dalam hal ini [PEP 8 - Style Guide for Python Code](https://peps.python.org/pep-0008/#code-lay-out).\n",
        "\n",
        "Beberapa hal dasar yang perlu dipahami:\n",
        "1. Penulisan komentar.\n",
        "2. Indentasi.\n",
        "3. Penggabungan code.\n",
        "3. Penamaan variable."
      ]
    },
    {
      "cell_type": "code",
      "execution_count": null,
      "id": "d2f0b17a-6ed5-4771-b4dd-4b08b5e38efa",
      "metadata": {
        "ExecuteTime": {
          "end_time": "2023-08-20T22:15:05.017410Z",
          "start_time": "2023-08-20T22:15:04.999818Z"
        },
        "colab": {
          "base_uri": "https://localhost:8080/"
        },
        "execution": {
          "iopub.execute_input": "2023-05-29T06:39:13.397531Z",
          "iopub.status.busy": "2023-05-29T06:39:13.396534Z",
          "iopub.status.idle": "2023-05-29T06:39:13.420470Z",
          "shell.execute_reply": "2023-05-29T06:39:13.418473Z",
          "shell.execute_reply.started": "2023-05-29T06:39:13.397531Z"
        },
        "id": "d2f0b17a-6ed5-4771-b4dd-4b08b5e38efa",
        "outputId": "d1bf4ef6-c8fe-4f21-b44b-4f34d742218f",
        "tags": []
      },
      "outputs": [
        {
          "output_type": "stream",
          "name": "stdout",
          "text": [
            "Sama\n",
            "Sama\n"
          ]
        }
      ],
      "source": [
        "#1. Penulisan komentar -> block code yang tidak di eksekusi\n",
        "#2. Indentasi\n",
        "# komentar\n",
        "# membuat variable bernama x        # > ini merupakan contoh dari komentar\n",
        "\n",
        "x = 2\n",
        "\n",
        "\"\"\"indentasi\n",
        "membuat if else statement\n",
        "jika value dalam x tidak sama dengan dua\n",
        "maka print 'Tidak Sama'\n",
        "jika sama\n",
        "#maka print 'Sama'\n",
        "\"\"\"\n",
        "\n",
        "if x == 2:\n",
        "    print(\"Sama\")\n",
        "    print(\"Sama\")             # > ini merupakan contoh dari indentansi, gunakan 4 spasi (bukan tabs) untuk indentasi (rekomendasi)\n",
        "else:\n",
        "    print(\" Tidak Sama\")"
      ]
    },
    {
      "cell_type": "code",
      "execution_count": null,
      "id": "ef94c8ca-bf53-4fff-83ec-3191632796f8",
      "metadata": {
        "ExecuteTime": {
          "end_time": "2023-08-20T22:13:47.583900Z",
          "start_time": "2023-08-20T22:13:47.565457Z"
        },
        "id": "ef94c8ca-bf53-4fff-83ec-3191632796f8",
        "outputId": "bc0fcba9-17fa-417d-bc90-25908ff63312",
        "tags": [],
        "colab": {
          "base_uri": "https://localhost:8080/"
        }
      },
      "outputs": [
        {
          "output_type": "stream",
          "name": "stdout",
          "text": [
            "3\n"
          ]
        }
      ],
      "source": [
        "# 3. Penggabungan code\n",
        "\n",
        "'''pertama variable bernama y\n",
        "kemudian print variable y\n",
        "digabungkan menggunakan semicolon (;)'''\n",
        "\n",
        "y = 3; print(y)"
      ]
    },
    {
      "cell_type": "code",
      "execution_count": null,
      "id": "d5ba2adf-31a2-468f-996f-e8f2661b60ec",
      "metadata": {
        "id": "d5ba2adf-31a2-468f-996f-e8f2661b60ec",
        "tags": []
      },
      "outputs": [],
      "source": [
        "# 4. Penamaan variable\n",
        "# bisa menggunakan kombinasi uppercase dan lowercase\n",
        "# tidak bisa dimulai dengan angka\n",
        "# antar kata bisa dihubungkan dengan underscore (_)\n",
        "nama_lengkap = 'ini Budi'  # kombinasi lowercase dengan underscore (snake case)\n",
        "NamaLengkap  = 'Ini Budi'  # kombinasi uppercase dan lowercase (camel case)\n",
        "1_nama = 'ini Budi'"
      ]
    },
    {
      "cell_type": "markdown",
      "id": "a8f7837a",
      "metadata": {
        "id": "a8f7837a"
      },
      "source": [
        "### Variable\n",
        "\n",
        "> [Lokasi memori yang dicadangkan untuk menyimpan values](https://www.w3schools.com/python/python_variables.asp).\n",
        "\n",
        "Variabel adalah nama yang dilampirkan ke objek tertentu. Untuk membuat variabel dalam python cukup menetapkan nilai dan kemudian mulai menggunakannya. Penugasan dilakukan dengan satu tanda sama dengan (=):\n",
        "\n",
        "Beberapa hal dasar yang perlu dipahami:\n",
        "1. Cara membuat variable.\n",
        "2. Overwrite variable dan interaksinya.\n",
        "3. Multiple assignment."
      ]
    },
    {
      "cell_type": "code",
      "source": [
        "A"
      ],
      "metadata": {
        "id": "IERhRfA28w16",
        "outputId": "d85307d7-5eb1-4a2f-d15d-8c382711ad9a",
        "colab": {
          "base_uri": "https://localhost:8080/",
          "height": 35
        }
      },
      "id": "IERhRfA28w16",
      "execution_count": null,
      "outputs": [
        {
          "output_type": "execute_result",
          "data": {
            "text/plain": [
              "'Python for Data Analytics'"
            ],
            "application/vnd.google.colaboratory.intrinsic+json": {
              "type": "string"
            }
          },
          "metadata": {},
          "execution_count": 18
        }
      ]
    },
    {
      "cell_type": "code",
      "execution_count": null,
      "id": "80a9aabe",
      "metadata": {
        "id": "80a9aabe"
      },
      "outputs": [],
      "source": [
        "# membuat variable A\n",
        "A = \"2abc\"\n",
        "# dibaca A diberi nilai 2"
      ]
    },
    {
      "cell_type": "code",
      "execution_count": null,
      "id": "9702df49",
      "metadata": {
        "id": "9702df49",
        "outputId": "445c5873-6cfd-4659-cb4d-216435248b62",
        "colab": {
          "base_uri": "https://localhost:8080/",
          "height": 35
        }
      },
      "outputs": [
        {
          "output_type": "execute_result",
          "data": {
            "text/plain": [
              "'2abc'"
            ],
            "application/vnd.google.colaboratory.intrinsic+json": {
              "type": "string"
            }
          },
          "metadata": {},
          "execution_count": 15
        }
      ],
      "source": [
        "# untuk melakukan fungsi print, value apa saja yang tersimpan di dalamnya\n",
        "# bisa menggunakan print(A)\n",
        "# atau langsung ketik A\n",
        "s =12\n",
        "A"
      ]
    },
    {
      "cell_type": "code",
      "execution_count": null,
      "id": "d21f1c06",
      "metadata": {
        "id": "d21f1c06",
        "outputId": "c6aa80d0-030f-4df8-c52d-ffc8f632dc3d",
        "colab": {
          "base_uri": "https://localhost:8080/"
        }
      },
      "outputs": [
        {
          "output_type": "stream",
          "name": "stdout",
          "text": [
            "2abc\n"
          ]
        }
      ],
      "source": [
        "print(A)"
      ]
    },
    {
      "cell_type": "code",
      "execution_count": null,
      "id": "c27c0882",
      "metadata": {
        "id": "c27c0882",
        "outputId": "a6c2b49f-8515-4bff-82f9-af011471994c"
      },
      "outputs": [
        {
          "data": {
            "text/plain": [
              "'tugas baru'"
            ]
          },
          "metadata": {},
          "output_type": "display_data"
        }
      ],
      "source": [
        "# print tanpa command print hanya dapat dilakukan jika dipanggil pada baris terakhir di cell Jupyter Notebook\n",
        "A\n",
        "B = 'tugas baru'\n",
        "B"
      ]
    },
    {
      "cell_type": "code",
      "execution_count": null,
      "id": "b287b7f9",
      "metadata": {
        "id": "b287b7f9",
        "outputId": "956a6166-8e34-4890-f2ff-0beb9741c58c",
        "colab": {
          "base_uri": "https://localhost:8080/"
        }
      },
      "outputs": [
        {
          "output_type": "stream",
          "name": "stdout",
          "text": [
            "Python for Data Analytics\n"
          ]
        }
      ],
      "source": [
        "# cek apakah jika kita melakukan overwrite atas A\n",
        "# value apa yang tersimpan di dalamnya\n",
        "# perhatikan interaksinya\n",
        "A = 'Python for Data Analytics'\n",
        "print(A)"
      ]
    },
    {
      "cell_type": "code",
      "execution_count": null,
      "id": "a786f17f",
      "metadata": {
        "id": "a786f17f",
        "outputId": "77d1fc28-8d03-4e82-8ad6-496f922d876d",
        "colab": {
          "base_uri": "https://localhost:8080/"
        }
      },
      "outputs": [
        {
          "output_type": "stream",
          "name": "stdout",
          "text": [
            "1\n",
            "2\n",
            "3\n",
            "5\n"
          ]
        }
      ],
      "source": [
        "# multiple assignment\n",
        "# biasanya akan ditulis beruntun\n",
        "A = 1\n",
        "B = 2\n",
        "print(A)\n",
        "print(B)\n",
        "\n",
        "# kita akan melakukan overwrite kembali\n",
        "# perhatikan cara penulisan multiple assignment yang lain\n",
        "A, B = 3, 5\n",
        "print(A)\n",
        "print(B)"
      ]
    },
    {
      "cell_type": "code",
      "source": [
        "A"
      ],
      "metadata": {
        "id": "PCWCL8fT979i",
        "outputId": "93afce2a-728d-44f8-c3ca-691a08cf0261",
        "colab": {
          "base_uri": "https://localhost:8080/"
        }
      },
      "id": "PCWCL8fT979i",
      "execution_count": null,
      "outputs": [
        {
          "output_type": "execute_result",
          "data": {
            "text/plain": [
              "3"
            ]
          },
          "metadata": {},
          "execution_count": 23
        }
      ]
    },
    {
      "cell_type": "code",
      "execution_count": null,
      "id": "613da9dd",
      "metadata": {
        "id": "613da9dd",
        "outputId": "92bb817b-c318-4177-994c-c170ce4e9edd",
        "colab": {
          "base_uri": "https://localhost:8080/",
          "height": 193
        }
      },
      "outputs": [
        {
          "output_type": "error",
          "ename": "NameError",
          "evalue": "name 'XX' is not defined",
          "traceback": [
            "\u001b[0;31m---------------------------------------------------------------------------\u001b[0m",
            "\u001b[0;31mNameError\u001b[0m                                 Traceback (most recent call last)",
            "\u001b[0;32m<ipython-input-24-440280e26f02>\u001b[0m in \u001b[0;36m<cell line: 2>\u001b[0;34m()\u001b[0m\n\u001b[1;32m      1\u001b[0m \u001b[0;31m# Catatan: Assignment tanpa value akan menyebabkan error\u001b[0m\u001b[0;34m\u001b[0m\u001b[0;34m\u001b[0m\u001b[0m\n\u001b[0;32m----> 2\u001b[0;31m \u001b[0mXX\u001b[0m\u001b[0;34m\u001b[0m\u001b[0;34m\u001b[0m\u001b[0m\n\u001b[0m",
            "\u001b[0;31mNameError\u001b[0m: name 'XX' is not defined"
          ]
        }
      ],
      "source": [
        "# Catatan: Assignment tanpa value akan menyebabkan error\n",
        "XX"
      ]
    },
    {
      "cell_type": "code",
      "source": [
        "a=0\n",
        "if a<1: # jika a < 1\n",
        "  print(\"a kurang dari 1\")\n",
        "elif a>1:\n",
        "    print(\"a lebih dari 0\")\n",
        "    print(\"a lebih dari 0\")\n"
      ],
      "metadata": {
        "id": "J-Gy4G1C_SbM",
        "outputId": "9c2782ed-1449-42b7-abfb-fe484e6d4960",
        "colab": {
          "base_uri": "https://localhost:8080/"
        }
      },
      "id": "J-Gy4G1C_SbM",
      "execution_count": null,
      "outputs": [
        {
          "output_type": "stream",
          "name": "stdout",
          "text": [
            "a kurang dari 1\n"
          ]
        }
      ]
    },
    {
      "cell_type": "code",
      "source": [],
      "metadata": {
        "id": "tG0-hCCH_Rzk"
      },
      "id": "tG0-hCCH_Rzk",
      "execution_count": null,
      "outputs": []
    },
    {
      "cell_type": "markdown",
      "id": "a43b5bcf",
      "metadata": {
        "id": "a43b5bcf"
      },
      "source": [
        "> Secara resmi, nama variabel dalam Python dapat memiliki panjang berapa pun dan dapat terdiri dari huruf besar dan huruf kecil (A-Z, a-z), angka (0-9), dan karakter garis bawah (_).\n",
        "\n",
        "> Batasan tambahan adalah bahwa nama variabel hanya dapat **dimulai** dengan huruf atau garis bawah dan disarankan untuk tidak menggunakan **nama-nama** dari fungsi atau variable bawaan python basic (print, str, type, etc)"
      ]
    },
    {
      "cell_type": "code",
      "execution_count": null,
      "id": "fcdb3a47",
      "metadata": {
        "id": "fcdb3a47",
        "outputId": "022ddf7e-4adb-4ef3-e387-aded4b51737e"
      },
      "outputs": [
        {
          "name": "stdout",
          "output_type": "stream",
          "text": [
            "Python for Data Analytics\n"
          ]
        }
      ],
      "source": [
        "_judul = 'Python for Data Analytics'\n",
        "print(_judul)"
      ]
    },
    {
      "cell_type": "code",
      "execution_count": null,
      "id": "1ae33b17",
      "metadata": {
        "id": "1ae33b17",
        "outputId": "28f694bb-06ed-4c3f-f070-1f8d4c7477d3",
        "colab": {
          "base_uri": "https://localhost:8080/"
        }
      },
      "outputs": [
        {
          "output_type": "stream",
          "name": "stdout",
          "text": [
            "Python for Data Analytics\n"
          ]
        }
      ],
      "source": [
        "judul2 = 'Python for Data Analytics'\n",
        "print(judul2)"
      ]
    },
    {
      "cell_type": "code",
      "execution_count": null,
      "id": "309b38fe",
      "metadata": {
        "id": "309b38fe",
        "outputId": "001875ff-a03e-4170-d032-2ed8701a6c7b"
      },
      "outputs": [
        {
          "name": "stdout",
          "output_type": "stream",
          "text": [
            "Python for Data Analytics\n"
          ]
        }
      ],
      "source": [
        "judul2 = 'Python for Data Analytics'\n",
        "print(judul2)"
      ]
    },
    {
      "cell_type": "markdown",
      "id": "94cd2509-64b6-4c88-8cb9-e7e61ff4250c",
      "metadata": {
        "id": "94cd2509-64b6-4c88-8cb9-e7e61ff4250c"
      },
      "source": [
        "## 2. Tipe data"
      ]
    },
    {
      "cell_type": "markdown",
      "id": "c91d103b-76b1-47bf-8a37-358fe70c7e6f",
      "metadata": {
        "id": "c91d103b-76b1-47bf-8a37-358fe70c7e6f"
      },
      "source": [
        "<img src=\"https://raw.githubusercontent.com/mihoku/repository-random/master/python_data_types.png\" width=\"500\">\n"
      ]
    },
    {
      "cell_type": "markdown",
      "id": "78faa193",
      "metadata": {
        "id": "78faa193"
      },
      "source": [
        "## 2.1. Tipe Data Tunggal (Atomic)"
      ]
    },
    {
      "cell_type": "markdown",
      "id": "81f36548",
      "metadata": {
        "id": "81f36548"
      },
      "source": [
        "### 2.1.1 Number\n",
        "\n",
        "Ada 2 jenis data number yang perlu diketahui, yaitu:\n",
        "* Integer, yakni bilangan bulat (tidak ada angka di belakang koma)\n",
        "* float, atau bilangan riil (memungkinkan punya angka di belakang koma)"
      ]
    },
    {
      "cell_type": "markdown",
      "id": "e3bc26bc",
      "metadata": {
        "id": "e3bc26bc"
      },
      "source": [
        "#### Integer"
      ]
    },
    {
      "cell_type": "code",
      "execution_count": null,
      "id": "f24cfad4-4478-4125-8593-bce6095a200d",
      "metadata": {
        "tags": [],
        "id": "f24cfad4-4478-4125-8593-bce6095a200d",
        "outputId": "04413267-c54c-4e49-bffe-baa22f40ebf1",
        "colab": {
          "base_uri": "https://localhost:8080/"
        }
      },
      "outputs": [
        {
          "output_type": "stream",
          "name": "stdout",
          "text": [
            "11111111 11111111\n"
          ]
        }
      ],
      "source": [
        "# Integers\n",
        "#  sebelas juta seratus sebelas ribu seratus sebelas rupiah\n",
        "angka1 = 11_111_111\n",
        "angka2 = 11111111\n",
        "print(angka1, angka2)"
      ]
    },
    {
      "cell_type": "markdown",
      "id": "61420559",
      "metadata": {
        "id": "61420559"
      },
      "source": [
        "#### Float"
      ]
    },
    {
      "cell_type": "code",
      "execution_count": null,
      "id": "HZD_fQHtXyQK",
      "metadata": {
        "colab": {
          "base_uri": "https://localhost:8080/"
        },
        "id": "HZD_fQHtXyQK",
        "outputId": "bbd855b6-af99-4cf1-fc0a-bdaa41bcb687",
        "tags": []
      },
      "outputs": [
        {
          "name": "stdout",
          "output_type": "stream",
          "text": [
            "0.7\n",
            "7.0\n",
            "3.1416\n",
            "0.002718\n"
          ]
        }
      ],
      "source": [
        "# Float\n",
        "f1 = 0.7\n",
        "print(f1)\n",
        "\n",
        "f2 = 7.\n",
        "print(f2)\n",
        "\n",
        "pi = 3.1416\n",
        "print(pi)\n",
        "\n",
        "euler_number = 2.718e-3\n",
        "print(euler_number)"
      ]
    },
    {
      "cell_type": "code",
      "source": [
        "# var a 1.000.000\n",
        "a =1e6\n",
        "a"
      ],
      "metadata": {
        "id": "mIgzIB7QEovm",
        "outputId": "a0e3ef53-b90a-43d5-990b-d57bbe58ad4f",
        "colab": {
          "base_uri": "https://localhost:8080/"
        }
      },
      "id": "mIgzIB7QEovm",
      "execution_count": null,
      "outputs": [
        {
          "output_type": "execute_result",
          "data": {
            "text/plain": [
              "1000000.0"
            ]
          },
          "metadata": {},
          "execution_count": 42
        }
      ]
    },
    {
      "cell_type": "markdown",
      "id": "7b1455d3",
      "metadata": {
        "id": "7b1455d3"
      },
      "source": [
        "### 2.1.2 String\n",
        "\n",
        "String adalah tipe data berupa teks. String bisa terdiri atas satu atau lebih karakter.\n",
        "\n",
        "Karakternya dapat berupa apapun, termasuk huruf alfabet (abc), angka (123), spasi ( ), jarak/tab (\\t), bahkan baris baru/enter/newline (\\n) dan lain sebagainya.\n",
        "\n",
        "String pada python ditandai oleh adanya 2 tanda petik/quote, baik single-quote ('') maupun double-quote (\"\")."
      ]
    },
    {
      "cell_type": "code",
      "execution_count": null,
      "id": "90234ed0-02c4-4fd9-bb7e-4ef41d3511dd",
      "metadata": {
        "tags": [],
        "id": "90234ed0-02c4-4fd9-bb7e-4ef41d3511dd",
        "outputId": "bba8f280-8cb7-431e-f303-17bb14510d0f"
      },
      "outputs": [
        {
          "name": "stdout",
          "output_type": "stream",
          "text": [
            "Budi\n"
          ]
        }
      ],
      "source": [
        "# String\n",
        "a = 'Budi'\n",
        "print(a)"
      ]
    },
    {
      "cell_type": "code",
      "execution_count": null,
      "id": "8a24e4c6",
      "metadata": {
        "id": "8a24e4c6",
        "outputId": "238ca1bb-6c43-4bd1-827b-21aa5b439271",
        "colab": {
          "base_uri": "https://localhost:8080/"
        }
      },
      "outputs": [
        {
          "output_type": "stream",
          "name": "stdout",
          "text": [
            "Ini adalah musim kemarau. \t Hari yang sangat panas\n"
          ]
        }
      ],
      "source": [
        "# String yang memiliki jarak\n",
        "b = 'Ini adalah musim kemarau. \\t Hari yang sangat panas'\n",
        "print(b)"
      ]
    },
    {
      "cell_type": "code",
      "execution_count": null,
      "id": "3aec3088",
      "metadata": {
        "id": "3aec3088",
        "outputId": "287dbb2b-0e3c-4135-dd03-b8bc26d0a6b4",
        "colab": {
          "base_uri": "https://localhost:8080/"
        }
      },
      "outputs": [
        {
          "output_type": "stream",
          "name": "stdout",
          "text": [
            "Bagaimana kabarmu? \n",
            "Baik. \n",
            "Aku tidak tahu lagi. \n",
            "Ada apa? \n",
            "Ibu terus-terusan menanyakan kabarmu, walaupun kita sudah tidak bersama.\n"
          ]
        }
      ],
      "source": [
        "# String yang memiliki beberapa baris\n",
        "c = 'Bagaimana kabarmu? \\nBaik. \\nAku tidak tahu lagi. \\nAda apa? \\nIbu terus-terusan menanyakan kabarmu, walaupun kita sudah tidak bersama.'\n",
        "print(c)"
      ]
    },
    {
      "cell_type": "code",
      "source": [
        "d=\"\"\"1234\n",
        "5678\n",
        "9011\n",
        "\"\"\"\n",
        "print(d)\n",
        "d"
      ],
      "metadata": {
        "id": "O4XA57xbDzCQ",
        "outputId": "e6909c4a-813a-4288-ba1d-af5c9bcd04bd",
        "colab": {
          "base_uri": "https://localhost:8080/",
          "height": 104
        }
      },
      "id": "O4XA57xbDzCQ",
      "execution_count": null,
      "outputs": [
        {
          "output_type": "stream",
          "name": "stdout",
          "text": [
            "1234\n",
            "5678\n",
            "9011\n",
            "\n"
          ]
        },
        {
          "output_type": "execute_result",
          "data": {
            "text/plain": [
              "'1234\\n5678\\n9011\\n'"
            ],
            "application/vnd.google.colaboratory.intrinsic+json": {
              "type": "string"
            }
          },
          "metadata": {},
          "execution_count": 41
        }
      ]
    },
    {
      "cell_type": "code",
      "execution_count": null,
      "id": "3521cefd",
      "metadata": {
        "id": "3521cefd",
        "outputId": "d3806ce8-d444-4fce-a14e-db130a187d6c",
        "colab": {
          "base_uri": "https://localhost:8080/"
        }
      },
      "outputs": [
        {
          "output_type": "stream",
          "name": "stdout",
          "text": [
            "\n"
          ]
        }
      ],
      "source": [
        "# String kosong\n",
        "d = ''\n",
        "print(d)"
      ]
    },
    {
      "cell_type": "markdown",
      "id": "805edff4",
      "metadata": {
        "id": "805edff4"
      },
      "source": [
        "bagaimana kalo strings kita terdapat tanda kutip didalamnya?"
      ]
    },
    {
      "cell_type": "code",
      "execution_count": null,
      "id": "836ed4db",
      "metadata": {
        "id": "836ed4db",
        "outputId": "bf491c81-e10d-41bc-879c-fb93d91ab5c7",
        "colab": {
          "base_uri": "https://localhost:8080/",
          "height": 141
        }
      },
      "outputs": [
        {
          "output_type": "error",
          "ename": "SyntaxError",
          "evalue": "invalid syntax (<ipython-input-43-5540149dd9b8>, line 2)",
          "traceback": [
            "\u001b[0;36m  File \u001b[0;32m\"<ipython-input-43-5540149dd9b8>\"\u001b[0;36m, line \u001b[0;32m2\u001b[0m\n\u001b[0;31m    \"kata Budi\"hai\"\"\u001b[0m\n\u001b[0m               ^\u001b[0m\n\u001b[0;31mSyntaxError\u001b[0m\u001b[0;31m:\u001b[0m invalid syntax\n"
          ]
        }
      ],
      "source": [
        "#cara yang salah\n",
        "\"kata Budi\"hai\"\""
      ]
    },
    {
      "cell_type": "code",
      "execution_count": null,
      "id": "2860c50e",
      "metadata": {
        "id": "2860c50e",
        "outputId": "9e6fa8f8-e595-40f6-c83a-80a73916b277",
        "colab": {
          "base_uri": "https://localhost:8080/",
          "height": 35
        }
      },
      "outputs": [
        {
          "output_type": "execute_result",
          "data": {
            "text/plain": [
              "'kata budi\"hai\"'"
            ],
            "application/vnd.google.colaboratory.intrinsic+json": {
              "type": "string"
            }
          },
          "metadata": {},
          "execution_count": 44
        }
      ],
      "source": [
        "#cara yang benar\n",
        "'kata budi\"hai\"'"
      ]
    },
    {
      "cell_type": "code",
      "execution_count": null,
      "id": "31f59e27",
      "metadata": {
        "id": "31f59e27",
        "outputId": "f5b1049c-b051-446c-e0e3-06a9a9072581",
        "colab": {
          "base_uri": "https://localhost:8080/",
          "height": 35
        }
      },
      "outputs": [
        {
          "output_type": "execute_result",
          "data": {
            "text/plain": [
              "'kata budi:\"hai\"'"
            ],
            "application/vnd.google.colaboratory.intrinsic+json": {
              "type": "string"
            }
          },
          "metadata": {},
          "execution_count": 45
        }
      ],
      "source": [
        "#cara yang benar\n",
        "\"kata budi:\\\"hai\\\"\""
      ]
    },
    {
      "cell_type": "markdown",
      "id": "c07893ae",
      "metadata": {
        "id": "c07893ae"
      },
      "source": [
        "### 2.1.3 Boolean\n",
        "\n",
        "Adalah tipe data yang merepresentasikan benar (True) dan salah (False)."
      ]
    },
    {
      "cell_type": "code",
      "execution_count": null,
      "id": "2d9d8713",
      "metadata": {
        "id": "2d9d8713",
        "outputId": "feda0c2e-1304-4426-c610-e27bca795b45",
        "colab": {
          "base_uri": "https://localhost:8080/"
        }
      },
      "outputs": [
        {
          "output_type": "stream",
          "name": "stdout",
          "text": [
            "True\n",
            "False\n",
            "True\n",
            "False\n"
          ]
        }
      ],
      "source": [
        "# Data boolean bernilai benar\n",
        "a = True\n",
        "print(a)\n",
        "\n",
        "# Data boolean bernilai salah\n",
        "b = False\n",
        "print(b)\n",
        "\n",
        "# Kalimat perbandingan yang bernilai benar\n",
        "c = 25<100\n",
        "print(c)\n",
        "\n",
        "# Kalimat perbandingan yang bernilai salah\n",
        "d = 1000<10\n",
        "print(d)"
      ]
    },
    {
      "cell_type": "markdown",
      "id": "0aa6dd89-97f0-43e4-91c3-a8ee89866593",
      "metadata": {
        "id": "0aa6dd89-97f0-43e4-91c3-a8ee89866593"
      },
      "source": [
        "### 2.1.4 Bagaimana cara untuk mengecek tipe data?"
      ]
    },
    {
      "cell_type": "code",
      "source": [
        "a=1\n",
        "b=1.0\n",
        "c=a*b\n",
        "type()"
      ],
      "metadata": {
        "id": "z0yOErptF8WG",
        "outputId": "84a0bed2-2d8e-4f69-9f09-68e6691696cf",
        "colab": {
          "base_uri": "https://localhost:8080/"
        }
      },
      "id": "z0yOErptF8WG",
      "execution_count": null,
      "outputs": [
        {
          "output_type": "execute_result",
          "data": {
            "text/plain": [
              "float"
            ]
          },
          "metadata": {},
          "execution_count": 49
        }
      ]
    },
    {
      "cell_type": "code",
      "execution_count": null,
      "id": "3dd487ad-69a4-4dbc-a0c1-d8743c8d99af",
      "metadata": {
        "id": "3dd487ad-69a4-4dbc-a0c1-d8743c8d99af",
        "outputId": "428ff450-1ab9-4a50-d0ee-3138be41c837",
        "tags": [],
        "colab": {
          "base_uri": "https://localhost:8080/"
        }
      },
      "outputs": [
        {
          "output_type": "execute_result",
          "data": {
            "text/plain": [
              "str"
            ]
          },
          "metadata": {},
          "execution_count": 50
        }
      ],
      "source": [
        "type(\"Budi\")"
      ]
    },
    {
      "cell_type": "code",
      "execution_count": null,
      "id": "4f786a3f-405a-4bce-b477-5d06d023c194",
      "metadata": {
        "id": "4f786a3f-405a-4bce-b477-5d06d023c194",
        "outputId": "b1eb0ce7-f70d-4eb8-af4e-da9ec669155e",
        "tags": [],
        "colab": {
          "base_uri": "https://localhost:8080/"
        }
      },
      "outputs": [
        {
          "output_type": "execute_result",
          "data": {
            "text/plain": [
              "float"
            ]
          },
          "metadata": {},
          "execution_count": 51
        }
      ],
      "source": [
        "type(10.01)"
      ]
    },
    {
      "cell_type": "markdown",
      "id": "cd84caee",
      "metadata": {
        "id": "cd84caee"
      },
      "source": [
        "<img src=\"https://raw.githubusercontent.com/mihoku/repository-random/master/latihan.png\" width=\"300\"/>"
      ]
    },
    {
      "cell_type": "code",
      "execution_count": null,
      "id": "65929745-17a7-453f-993b-dbe490841eb2",
      "metadata": {
        "id": "65929745-17a7-453f-993b-dbe490841eb2",
        "outputId": "6f15452a-74bf-40fd-966c-443c7e43367f",
        "colab": {
          "base_uri": "https://localhost:8080/"
        }
      },
      "outputs": [
        {
          "output_type": "execute_result",
          "data": {
            "text/plain": [
              "str"
            ]
          },
          "metadata": {},
          "execution_count": 55
        }
      ],
      "source": [
        "# Coba cek tipe dari variabel berikut\n",
        "\n",
        "a = 123456\n",
        "b = True\n",
        "c = \"123456\"\n",
        "d = \"True\"\n",
        "\n",
        "type(d)"
      ]
    },
    {
      "cell_type": "markdown",
      "id": "52440bff",
      "metadata": {
        "id": "52440bff"
      },
      "source": [
        "### 2.1.5 Bagaimana cara mengubah tipe data atomic?\n",
        "\n",
        "Python memungkinkan untuk mengubah tipe data atomik, yang dikenal sebagai operasi typecasting.\n",
        "\n",
        "* Untuk mengubah data menjadi bilangan bulat (integer), gunakan fungsi int()\n",
        "* Untuk mengubah data menjadi bilangan riil (float), gunakan fungsi float()\n",
        "* Untuk mengubah data menjadi teks (string), gunakan fungsi str()\n",
        "* Untuk mengubah data menjadi boolean, gunakan fungsi bool()"
      ]
    },
    {
      "cell_type": "code",
      "execution_count": null,
      "id": "f883a33a",
      "metadata": {
        "id": "f883a33a",
        "outputId": "da857812-edcc-4b74-f21c-cf4440232822",
        "colab": {
          "base_uri": "https://localhost:8080/"
        }
      },
      "outputs": [
        {
          "output_type": "execute_result",
          "data": {
            "text/plain": [
              "int"
            ]
          },
          "metadata": {},
          "execution_count": 56
        }
      ],
      "source": [
        "# mengubah string menjadi integer\n",
        "a = \"12345\"\n",
        "b= int(a)\n",
        "type(b)"
      ]
    },
    {
      "cell_type": "code",
      "execution_count": null,
      "id": "81e035c1",
      "metadata": {
        "id": "81e035c1",
        "outputId": "e2133166-9e00-4b67-8597-f0480aa1ea03",
        "colab": {
          "base_uri": "https://localhost:8080/"
        }
      },
      "outputs": [
        {
          "output_type": "stream",
          "name": "stdout",
          "text": [
            "100.0\n"
          ]
        },
        {
          "output_type": "execute_result",
          "data": {
            "text/plain": [
              "float"
            ]
          },
          "metadata": {},
          "execution_count": 57
        }
      ],
      "source": [
        "# mengubah integer menjadi float\n",
        "a = 100\n",
        "b = float(a)\n",
        "print(b)\n",
        "type(b)"
      ]
    },
    {
      "cell_type": "code",
      "source": [
        "a=\"[1,2,3]\"\n",
        "b=eval(a)\n",
        "type(b)"
      ],
      "metadata": {
        "id": "NVGocaa9I_M7",
        "outputId": "b15ebc60-c4a3-4da9-b43a-9658fdfe341f",
        "colab": {
          "base_uri": "https://localhost:8080/"
        }
      },
      "id": "NVGocaa9I_M7",
      "execution_count": null,
      "outputs": [
        {
          "output_type": "execute_result",
          "data": {
            "text/plain": [
              "list"
            ]
          },
          "metadata": {},
          "execution_count": 61
        }
      ]
    },
    {
      "cell_type": "code",
      "execution_count": null,
      "id": "d8849f64",
      "metadata": {
        "id": "d8849f64",
        "outputId": "15062c71-8de4-4df4-b172-b55a39673e87"
      },
      "outputs": [
        {
          "name": "stdout",
          "output_type": "stream",
          "text": [
            "789.22\n"
          ]
        },
        {
          "data": {
            "text/plain": [
              "float"
            ]
          },
          "execution_count": 36,
          "metadata": {},
          "output_type": "execute_result"
        }
      ],
      "source": [
        "# mengubah string menjadi float\n",
        "a = \"789.22\"\n",
        "b = float(a)\n",
        "print(b)\n",
        "type(b)"
      ]
    },
    {
      "cell_type": "code",
      "execution_count": null,
      "id": "bc086995",
      "metadata": {
        "id": "bc086995",
        "outputId": "7b88d514-1ba6-4fc1-d130-8af24d6ae10e",
        "colab": {
          "base_uri": "https://localhost:8080/"
        }
      },
      "outputs": [
        {
          "output_type": "stream",
          "name": "stdout",
          "text": [
            "789.22\n"
          ]
        },
        {
          "output_type": "execute_result",
          "data": {
            "text/plain": [
              "float"
            ]
          },
          "metadata": {},
          "execution_count": 63
        }
      ],
      "source": [
        "# sayangnya, untuk mengubah string menjadi float, pembatas desimalnya harus titik \".\", tidak bisa koma \",\"\n",
        "a = \"789,22\".replace(\",\",\".\")\n",
        "b = float(a)\n",
        "print(b)\n",
        "type(b)"
      ]
    },
    {
      "cell_type": "code",
      "execution_count": null,
      "id": "e4644250",
      "metadata": {
        "id": "e4644250",
        "outputId": "3bc5f2e4-f6c6-4de2-a6b6-50368354fb21"
      },
      "outputs": [
        {
          "name": "stdout",
          "output_type": "stream",
          "text": [
            "False\n"
          ]
        },
        {
          "data": {
            "text/plain": [
              "bool"
            ]
          },
          "execution_count": 40,
          "metadata": {},
          "output_type": "execute_result"
        }
      ],
      "source": [
        "# mengubah integer menjadi boolean\n",
        "a = 0\n",
        "b = bool(a)\n",
        "print(b)\n",
        "type(b)"
      ]
    },
    {
      "cell_type": "code",
      "execution_count": null,
      "id": "beaae5f3",
      "metadata": {
        "id": "beaae5f3",
        "outputId": "4f58f705-f14a-47ac-9903-c11d52d5e609"
      },
      "outputs": [
        {
          "name": "stdout",
          "output_type": "stream",
          "text": [
            "True\n"
          ]
        },
        {
          "data": {
            "text/plain": [
              "bool"
            ]
          },
          "execution_count": 43,
          "metadata": {},
          "output_type": "execute_result"
        }
      ],
      "source": [
        "# mengubah integer menjadi boolean\n",
        "a = 1\n",
        "b = bool(a)\n",
        "print(b)\n",
        "type(b)"
      ]
    },
    {
      "cell_type": "code",
      "execution_count": null,
      "id": "788a26f2",
      "metadata": {
        "id": "788a26f2",
        "outputId": "d8d0a4d6-120e-4d57-8eda-deedd33e4a45"
      },
      "outputs": [
        {
          "name": "stdout",
          "output_type": "stream",
          "text": [
            "True\n"
          ]
        },
        {
          "data": {
            "text/plain": [
              "bool"
            ]
          },
          "execution_count": 54,
          "metadata": {},
          "output_type": "execute_result"
        }
      ],
      "source": [
        "# mengubah integer menjadi boolean\n",
        "a = 2\n",
        "b = bool(a)\n",
        "print(b)\n",
        "type(b)"
      ]
    },
    {
      "cell_type": "markdown",
      "id": "be84989e-7bf0-41ee-86eb-8cbb49fec7c9",
      "metadata": {
        "id": "be84989e-7bf0-41ee-86eb-8cbb49fec7c9"
      },
      "source": [
        "### 2.1.6 Operators and Expressions untuk Data Atomic\n",
        "> Dalam python operator adalah **simbol khusus** yang menunjukkan bahwa beberapa jenis perhitungan harus dilakukan. Nilai yang dijalankan oleh operator disebut **operand**.\n",
        "\n",
        "> Urutan operan dan operator, seperti a + b - 5, disebut **ekspresi**."
      ]
    },
    {
      "cell_type": "markdown",
      "id": "62d7acc3-c441-4e36-9f69-ddb354402d19",
      "metadata": {
        "id": "62d7acc3-c441-4e36-9f69-ddb354402d19"
      },
      "source": [
        "#### 2.1.6.1 Arithmetic operator (Operator Aritmatika)\n",
        "\n",
        "> Gunakan kurung untuk memastikan arithmetic operator dijalankan terlebih dahulu.\n",
        "\n",
        "| Operator | Deskripsi | Contoh |\n",
        "| :-: | :-- | :-:|\n",
        "| `**`| Pangkat | `x ** 2`|\n",
        "| `*`| Perkalian | `x * 4` |\n",
        "| `/`| Pembagian, hasilnya float | `x / 5` |\n",
        "| `//`| Pembagian, hasilnya rounded | `x // 3` |\n",
        "| `%`| Sisa Bagi (modulo) | `x % 2`|\n",
        "| `+`| Penjumlahan | `x + y` |\n",
        "| `-`| Pengurangan | `x - y` |"
      ]
    },
    {
      "cell_type": "code",
      "execution_count": null,
      "id": "283bd378-589c-48a3-9d7b-a5d162d93559",
      "metadata": {
        "ExecuteTime": {
          "end_time": "2023-08-20T22:20:59.913041Z",
          "start_time": "2023-08-20T22:20:59.900343Z"
        },
        "id": "283bd378-589c-48a3-9d7b-a5d162d93559",
        "outputId": "6c5a5208-7b05-45e2-f44c-8e7f7b4bdd88",
        "colab": {
          "base_uri": "https://localhost:8080/"
        }
      },
      "outputs": [
        {
          "output_type": "execute_result",
          "data": {
            "text/plain": [
              "25"
            ]
          },
          "metadata": {},
          "execution_count": 64
        }
      ],
      "source": [
        "5**2"
      ]
    },
    {
      "cell_type": "code",
      "execution_count": null,
      "id": "87005935-d3b7-48d9-8a55-bd91fc94c87b",
      "metadata": {
        "ExecuteTime": {
          "end_time": "2023-08-20T22:21:00.975975Z",
          "start_time": "2023-08-20T22:21:00.962913Z"
        },
        "id": "87005935-d3b7-48d9-8a55-bd91fc94c87b",
        "outputId": "b9c170be-17b5-43e3-c71e-42135fe07948",
        "colab": {
          "base_uri": "https://localhost:8080/"
        }
      },
      "outputs": [
        {
          "output_type": "execute_result",
          "data": {
            "text/plain": [
              "10"
            ]
          },
          "metadata": {},
          "execution_count": 65
        }
      ],
      "source": [
        "5*2"
      ]
    },
    {
      "cell_type": "code",
      "execution_count": null,
      "id": "2a7b869d-d6d0-404b-ae01-730550887dbf",
      "metadata": {
        "ExecuteTime": {
          "end_time": "2023-08-20T22:21:02.703738Z",
          "start_time": "2023-08-20T22:21:02.693041Z"
        },
        "id": "2a7b869d-d6d0-404b-ae01-730550887dbf",
        "outputId": "9149147d-de61-4b98-fc53-13ec25f35aff"
      },
      "outputs": [
        {
          "data": {
            "text/plain": [
              "5.0"
            ]
          },
          "execution_count": 3,
          "metadata": {},
          "output_type": "execute_result"
        }
      ],
      "source": [
        "10/2"
      ]
    },
    {
      "cell_type": "code",
      "execution_count": null,
      "id": "34afd50a-dd60-4cca-b5d2-d239a67db319",
      "metadata": {
        "ExecuteTime": {
          "end_time": "2023-08-20T22:21:03.804463Z",
          "start_time": "2023-08-20T22:21:03.790032Z"
        },
        "id": "34afd50a-dd60-4cca-b5d2-d239a67db319",
        "outputId": "439dad0c-cb27-4320-e80c-ef8a0971bae8",
        "colab": {
          "base_uri": "https://localhost:8080/"
        }
      },
      "outputs": [
        {
          "output_type": "execute_result",
          "data": {
            "text/plain": [
              "6"
            ]
          },
          "metadata": {},
          "execution_count": 66
        }
      ],
      "source": [
        "13//2"
      ]
    },
    {
      "cell_type": "code",
      "execution_count": null,
      "id": "e5d4246c-19eb-40ae-ad20-665d39e41e29",
      "metadata": {
        "ExecuteTime": {
          "end_time": "2023-08-20T22:21:05.142313Z",
          "start_time": "2023-08-20T22:21:05.127260Z"
        },
        "id": "e5d4246c-19eb-40ae-ad20-665d39e41e29",
        "outputId": "cf72ae20-0045-4862-cdda-8d57057e1587",
        "colab": {
          "base_uri": "https://localhost:8080/"
        }
      },
      "outputs": [
        {
          "output_type": "execute_result",
          "data": {
            "text/plain": [
              "1"
            ]
          },
          "metadata": {},
          "execution_count": 68
        }
      ],
      "source": [
        "13%2"
      ]
    },
    {
      "cell_type": "code",
      "execution_count": null,
      "id": "b5fe6e01-2eaa-4a47-8d03-ff0fbfe99c46",
      "metadata": {
        "ExecuteTime": {
          "end_time": "2023-08-20T22:21:05.519531Z",
          "start_time": "2023-08-20T22:21:05.514832Z"
        },
        "id": "b5fe6e01-2eaa-4a47-8d03-ff0fbfe99c46",
        "outputId": "2b73e81f-22ca-415e-af3a-e8ff46cac6a0",
        "colab": {
          "base_uri": "https://localhost:8080/"
        }
      },
      "outputs": [
        {
          "output_type": "execute_result",
          "data": {
            "text/plain": [
              "9"
            ]
          },
          "metadata": {},
          "execution_count": 69
        }
      ],
      "source": [
        "4+5"
      ]
    },
    {
      "cell_type": "code",
      "execution_count": null,
      "id": "c436cf5d-f3b9-4209-b3f2-bddc17bc7e2d",
      "metadata": {
        "ExecuteTime": {
          "end_time": "2023-08-20T22:21:07.057743Z",
          "start_time": "2023-08-20T22:21:07.040543Z"
        },
        "id": "c436cf5d-f3b9-4209-b3f2-bddc17bc7e2d",
        "outputId": "f6556bee-48f6-442a-dfbf-cc1a28288ec4",
        "colab": {
          "base_uri": "https://localhost:8080/"
        }
      },
      "outputs": [
        {
          "output_type": "execute_result",
          "data": {
            "text/plain": [
              "4"
            ]
          },
          "metadata": {},
          "execution_count": 70
        }
      ],
      "source": [
        "9-5"
      ]
    },
    {
      "cell_type": "code",
      "execution_count": null,
      "id": "da89f75f",
      "metadata": {
        "ExecuteTime": {
          "end_time": "2023-08-20T22:21:07.684462Z",
          "start_time": "2023-08-20T22:21:07.670829Z"
        },
        "id": "da89f75f",
        "outputId": "242824d3-3d8e-42f4-e9fd-361d4df89cf2",
        "colab": {
          "base_uri": "https://localhost:8080/"
        }
      },
      "outputs": [
        {
          "output_type": "execute_result",
          "data": {
            "text/plain": [
              "16.799999999999997"
            ]
          },
          "metadata": {},
          "execution_count": 71
        }
      ],
      "source": [
        "12*1.4"
      ]
    },
    {
      "cell_type": "code",
      "execution_count": null,
      "id": "38667775-7952-4791-9b9a-0c6605ff8a42",
      "metadata": {
        "ExecuteTime": {
          "end_time": "2023-08-20T22:21:10.340042Z",
          "start_time": "2023-08-20T22:21:10.325911Z"
        },
        "id": "38667775-7952-4791-9b9a-0c6605ff8a42",
        "outputId": "eeb5c973-60d0-4771-ffab-adf5846a0427",
        "colab": {
          "base_uri": "https://localhost:8080/"
        }
      },
      "outputs": [
        {
          "output_type": "stream",
          "name": "stdout",
          "text": [
            "3\n",
            "<class 'int'>\n"
          ]
        }
      ],
      "source": [
        "# menjumlahkan nilai pada variable A dan B\n",
        "A = 1\n",
        "B = 2\n",
        "C = A + B\n",
        "print(C)\n",
        "print(type(C))"
      ]
    },
    {
      "cell_type": "markdown",
      "id": "e253c69c-250d-49bb-8618-0fe44618f16a",
      "metadata": {
        "id": "e253c69c-250d-49bb-8618-0fe44618f16a"
      },
      "source": [
        "---\n",
        "<img src=\"https://raw.githubusercontent.com/mihoku/repository-random/master/latihan.png\" width=\"300\"/>"
      ]
    },
    {
      "cell_type": "code",
      "execution_count": null,
      "id": "b31fe596-9293-4509-8fcb-231e3e5434bd",
      "metadata": {
        "id": "b31fe596-9293-4509-8fcb-231e3e5434bd",
        "outputId": "d820160e-61a1-491e-e436-e2dcd208032e",
        "colab": {
          "base_uri": "https://localhost:8080/"
        }
      },
      "outputs": [
        {
          "output_type": "execute_result",
          "data": {
            "text/plain": [
              "9765625"
            ]
          },
          "metadata": {},
          "execution_count": 73
        }
      ],
      "source": [
        "# Hitunglah 25 pangkat 5\n",
        "25**5"
      ]
    },
    {
      "cell_type": "code",
      "execution_count": null,
      "id": "f1d51d9f-a006-4bbb-abce-659f79eaa028",
      "metadata": {
        "id": "f1d51d9f-a006-4bbb-abce-659f79eaa028",
        "outputId": "3f99eb25-cc68-40d2-8f54-ba50c50a2fda",
        "colab": {
          "base_uri": "https://localhost:8080/"
        }
      },
      "outputs": [
        {
          "output_type": "execute_result",
          "data": {
            "text/plain": [
              "13.0"
            ]
          },
          "metadata": {},
          "execution_count": 74
        }
      ],
      "source": [
        "# Hitunglah akar kuadrat dari 169\n",
        "169**0.5"
      ]
    },
    {
      "cell_type": "code",
      "execution_count": null,
      "id": "032d07a5-f40b-4b77-8488-c5a5b7a5246b",
      "metadata": {
        "id": "032d07a5-f40b-4b77-8488-c5a5b7a5246b",
        "outputId": "445e5bd5-e32b-4e1f-b153-756e839f95b3",
        "colab": {
          "base_uri": "https://localhost:8080/"
        }
      },
      "outputs": [
        {
          "output_type": "execute_result",
          "data": {
            "text/plain": [
              "3"
            ]
          },
          "metadata": {},
          "execution_count": 75
        }
      ],
      "source": [
        "# Hitunglah pembagian bulat dari 17 dengan 5\n",
        "17//5"
      ]
    },
    {
      "cell_type": "code",
      "execution_count": null,
      "id": "87d2e19c-4db7-4e51-932e-e3dac58c4731",
      "metadata": {
        "id": "87d2e19c-4db7-4e51-932e-e3dac58c4731",
        "outputId": "35cff36f-d9de-4ba3-a291-199a525b4810",
        "colab": {
          "base_uri": "https://localhost:8080/"
        }
      },
      "outputs": [
        {
          "output_type": "stream",
          "name": "stdout",
          "text": [
            "pembagian bulat --> 32 sisa bagi-->1\n"
          ]
        }
      ],
      "source": [
        "from re import A\n",
        "# Hitunglah pembagian bulat dan sisa bagi dari 97 dengan 3\n",
        "a=97 // 3\n",
        "\n",
        "print(f\"pembagian bulat --> {a} sisa bagi-->{97% 3}\")\n"
      ]
    },
    {
      "cell_type": "markdown",
      "id": "100048b6-3cbf-458c-a475-aeb57f24df82",
      "metadata": {
        "id": "100048b6-3cbf-458c-a475-aeb57f24df82"
      },
      "source": [
        "##### 2.1.6.2 Urutan Operasi Aritmatik"
      ]
    },
    {
      "cell_type": "markdown",
      "id": "a24cbbe4-0969-4d0a-b3cb-3888c0383753",
      "metadata": {
        "id": "a24cbbe4-0969-4d0a-b3cb-3888c0383753"
      },
      "source": [
        "Setiap operasi Aritmatik di dalam python memiliki urutan dalam pengoperasiannya. Jika dalam satu ekpression terdapat lebih dari satu operasi, maka kode akan di eksekusi berdasarkan operasi yang lebih tinggi prioritasnya.\n",
        "\n",
        "<br>\n",
        "<br>\n",
        "\n",
        "| Operator|Simbol |\n",
        "| :-: | :-- |\n",
        "| Tanda Kurung|( )|\n",
        "| Pangkat|**|\n",
        "| kali, bagi, pembagian (dengan output pembulatan kebawah), hasil sisa pembagian| * , / , //, %|\n",
        "| Tambah, Kurang| + , - |\n",
        "\n",
        "<br>\n",
        "<br>"
      ]
    },
    {
      "cell_type": "code",
      "execution_count": null,
      "id": "535516dd-a1e3-4184-af8a-cc6bc731a65b",
      "metadata": {
        "colab": {
          "base_uri": "https://localhost:8080/"
        },
        "id": "535516dd-a1e3-4184-af8a-cc6bc731a65b",
        "outputId": "7ed80a66-d93e-463b-a539-162446045591"
      },
      "outputs": [
        {
          "output_type": "execute_result",
          "data": {
            "text/plain": [
              "15625"
            ]
          },
          "metadata": {},
          "execution_count": 84
        }
      ],
      "source": [
        "5/5 + 5**5*5\n"
      ]
    },
    {
      "cell_type": "markdown",
      "id": "f8f00a30-b4af-4f6b-a778-e2edb1a03546",
      "metadata": {
        "id": "f8f00a30-b4af-4f6b-a778-e2edb1a03546"
      },
      "source": [
        "#### 2.1.6.3 Comparison operator\n",
        "\n",
        "> Digunakan untuk membandingkan antara dua nilai. Menghasilkan nilai boolean (`True` atau `False`).\n",
        "\n",
        "| Operator | Deskripsi | Contoh |\n",
        "|:-:|:--|:-:|\n",
        "|`==`|`sama dengan`|`x == y`|\n",
        "|`!=`|`tidak sama dengan`|`x != y`|\n",
        "|`>`|`lebih dari`|`x > y`|\n",
        "|`<`|`kurang dari`|`x < y`|\n",
        "|`>=`|`lebih dari atau sama dengan`|`x >= y`|\n",
        "|`<=`|`kurang dari atau sama dengan`|`x <= y`|"
      ]
    },
    {
      "cell_type": "code",
      "execution_count": null,
      "id": "e87ab120-a2ae-4b79-817b-aff185f953a3",
      "metadata": {
        "id": "e87ab120-a2ae-4b79-817b-aff185f953a3",
        "outputId": "77713088-b444-45a2-f546-cd187c18d506",
        "colab": {
          "base_uri": "https://localhost:8080/"
        }
      },
      "outputs": [
        {
          "output_type": "stream",
          "name": "stdout",
          "text": [
            "True\n",
            "False\n"
          ]
        }
      ],
      "source": [
        "A = 10\n",
        "B = 10\n",
        "print(A==B)\n",
        "print(A>B)"
      ]
    },
    {
      "cell_type": "code",
      "execution_count": null,
      "id": "8ce12db5-c004-49a8-b0fe-0b2babb44b7c",
      "metadata": {
        "id": "8ce12db5-c004-49a8-b0fe-0b2babb44b7c",
        "outputId": "3cb16405-8b69-4f74-ed75-86a7da84f1dd",
        "colab": {
          "base_uri": "https://localhost:8080/"
        }
      },
      "outputs": [
        {
          "output_type": "execute_result",
          "data": {
            "text/plain": [
              "True"
            ]
          },
          "metadata": {},
          "execution_count": 86
        }
      ],
      "source": [
        "A = \"PYTHON\"\n",
        "B = \"PYTHON\"\n",
        "A==B"
      ]
    },
    {
      "cell_type": "code",
      "execution_count": null,
      "id": "7f7b192f-c0cd-4c92-835e-5995ce310111",
      "metadata": {
        "id": "7f7b192f-c0cd-4c92-835e-5995ce310111",
        "outputId": "5bdfbc1a-0f3b-471a-f50f-67c8dfbb3741",
        "colab": {
          "base_uri": "https://localhost:8080/"
        }
      },
      "outputs": [
        {
          "output_type": "stream",
          "name": "stdout",
          "text": [
            "False\n",
            "True\n"
          ]
        }
      ],
      "source": [
        "A = \"python\"\n",
        "B = \"PYTHON\"\n",
        "print(A==B)\n",
        "print(A!=B)"
      ]
    },
    {
      "cell_type": "code",
      "execution_count": null,
      "id": "c9735304-eea0-45ae-b76b-18f15e6c790e",
      "metadata": {
        "ExecuteTime": {
          "end_time": "2023-08-20T22:22:16.379652Z",
          "start_time": "2023-08-20T22:22:16.377080Z"
        },
        "id": "c9735304-eea0-45ae-b76b-18f15e6c790e"
      },
      "outputs": [],
      "source": [
        "x = 5"
      ]
    },
    {
      "cell_type": "code",
      "execution_count": null,
      "id": "ad6db750-20fd-411b-ad9d-00f2014bd2bc",
      "metadata": {
        "ExecuteTime": {
          "end_time": "2023-08-20T22:22:16.677321Z",
          "start_time": "2023-08-20T22:22:16.672314Z"
        },
        "id": "ad6db750-20fd-411b-ad9d-00f2014bd2bc"
      },
      "outputs": [],
      "source": [
        "b = x < 10"
      ]
    },
    {
      "cell_type": "code",
      "execution_count": null,
      "id": "7a089a7d-0f06-4386-b290-9b8bd9bd8d7c",
      "metadata": {
        "ExecuteTime": {
          "end_time": "2023-08-20T22:22:17.096465Z",
          "start_time": "2023-08-20T22:22:17.080025Z"
        },
        "id": "7a089a7d-0f06-4386-b290-9b8bd9bd8d7c",
        "outputId": "7955ec1a-7125-4e50-fd0f-ddd2d512a49a",
        "colab": {
          "base_uri": "https://localhost:8080/"
        }
      },
      "outputs": [
        {
          "output_type": "execute_result",
          "data": {
            "text/plain": [
              "False"
            ]
          },
          "metadata": {},
          "execution_count": 94
        }
      ],
      "source": [
        "not b"
      ]
    },
    {
      "cell_type": "code",
      "source": [
        "not False"
      ],
      "metadata": {
        "id": "TPHtlxZQP9Sx",
        "outputId": "4f3406a4-76f6-4eab-c311-531240853c49",
        "colab": {
          "base_uri": "https://localhost:8080/"
        }
      },
      "id": "TPHtlxZQP9Sx",
      "execution_count": null,
      "outputs": [
        {
          "output_type": "execute_result",
          "data": {
            "text/plain": [
              "True"
            ]
          },
          "metadata": {},
          "execution_count": 90
        }
      ]
    },
    {
      "cell_type": "code",
      "source": [
        "umur_budi = 10\n",
        "persyaratan_sim = umur_budi>=17\n",
        "persyaratan_sim"
      ],
      "metadata": {
        "id": "FoXXxYSDQNLb",
        "outputId": "a67b4c37-64d5-463a-b5bb-d5599d650daa",
        "colab": {
          "base_uri": "https://localhost:8080/"
        }
      },
      "id": "FoXXxYSDQNLb",
      "execution_count": null,
      "outputs": [
        {
          "output_type": "execute_result",
          "data": {
            "text/plain": [
              "False"
            ]
          },
          "metadata": {},
          "execution_count": 92
        }
      ]
    },
    {
      "cell_type": "markdown",
      "id": "6ddff162",
      "metadata": {
        "id": "6ddff162"
      },
      "source": [
        "#### 2.1.6.4 Logical operator\n",
        "\n",
        "> Digunakan untuk mengkombinasikan nilai boolean.\n",
        "\n",
        "| Operator | Deskripsi | Contoh |\n",
        "|:-:|:--|:-:|\n",
        "|`not`|\tMembalik nilai boolean, menghasilkan nilai `False` jika peryataan bernilai `True` dan sebaliknya\t|`not(x < y)`|\n",
        "|`and`| Menghasilkan `True` hanya jika kedua pernyataan bernilai `True`\t|`x < 5 and  x < 10`|\n",
        "|`or`|\tMenghasilkan `True` jika salah satu pernyataan bernilai `True`\t|`x < 5 or x > 4`|"
      ]
    },
    {
      "cell_type": "code",
      "execution_count": null,
      "id": "a7439fe1",
      "metadata": {
        "id": "a7439fe1",
        "outputId": "75780dc8-18dd-431f-f9db-c14c16623a81",
        "colab": {
          "base_uri": "https://localhost:8080/"
        }
      },
      "outputs": [
        {
          "output_type": "stream",
          "name": "stdout",
          "text": [
            "True\n"
          ]
        }
      ],
      "source": [
        "umur_andi = 19\n",
        "tinggi_andi = 169\n",
        "\n",
        "andi_boleh_daftar_tni = umur_andi>16 and tinggi_andi>165\n",
        "print(andi_boleh_daftar_tni)"
      ]
    },
    {
      "cell_type": "code",
      "execution_count": null,
      "id": "51337bb1",
      "metadata": {
        "id": "51337bb1",
        "outputId": "591b1d07-c11f-4916-f5c6-dc4e2277a22e",
        "colab": {
          "base_uri": "https://localhost:8080/"
        }
      },
      "outputs": [
        {
          "output_type": "stream",
          "name": "stdout",
          "text": [
            "False\n"
          ]
        }
      ],
      "source": [
        "umur_andi = 11\n",
        "tinggi_andi = 161\n",
        "rekomendasi = True\n",
        "\n",
        "andi_boleh_daftar_tni = (umur_andi>16 and tinggi_andi>165) and rekomendasi==True\n",
        "\n",
        "\n",
        "print(andi_boleh_daftar_tni)"
      ]
    },
    {
      "cell_type": "markdown",
      "id": "93d2f6bc-bdec-42fb-b7ca-f469bce803cb",
      "metadata": {
        "id": "93d2f6bc-bdec-42fb-b7ca-f469bce803cb"
      },
      "source": [
        "Boolean Logic\n",
        "\n",
        "| Condition 1 | Condition 2 | AND  | OR   |\n",
        "|-------------|-------------|------|------|\n",
        "| TRUE        | TRUE        | TRUE | TRUE |\n",
        "| TRUE        | FALSE       | FALSE| TRUE |\n",
        "| FALSE       | TRUE        | FALSE| TRUE |\n",
        "| FALSE       | FALSE       | FALSE| FALSE|"
      ]
    },
    {
      "cell_type": "code",
      "execution_count": null,
      "id": "e3d0e0a3-a707-4882-8b53-a2ab2f4d70e9",
      "metadata": {
        "ExecuteTime": {
          "end_time": "2023-08-20T22:22:48.231014Z",
          "start_time": "2023-08-20T22:22:48.213508Z"
        },
        "id": "e3d0e0a3-a707-4882-8b53-a2ab2f4d70e9",
        "outputId": "8399c357-c03a-45d2-b2f1-f9bbf93aeb26"
      },
      "outputs": [
        {
          "data": {
            "text/plain": [
              "False"
            ]
          },
          "execution_count": 16,
          "metadata": {},
          "output_type": "execute_result"
        }
      ],
      "source": [
        "x > 2 and x < 4"
      ]
    },
    {
      "cell_type": "code",
      "execution_count": null,
      "id": "7beaf62a-3f15-482f-b038-d719e189d30b",
      "metadata": {
        "ExecuteTime": {
          "end_time": "2023-08-20T22:22:48.882344Z",
          "start_time": "2023-08-20T22:22:48.865449Z"
        },
        "id": "7beaf62a-3f15-482f-b038-d719e189d30b",
        "outputId": "05f87bda-a862-4056-c56e-653b2f4b520b"
      },
      "outputs": [
        {
          "data": {
            "text/plain": [
              "True"
            ]
          },
          "execution_count": 17,
          "metadata": {},
          "output_type": "execute_result"
        }
      ],
      "source": [
        "x > 2 or x < 4"
      ]
    },
    {
      "cell_type": "markdown",
      "id": "dc77a295-da1f-40a3-b61b-911857b875ef",
      "metadata": {
        "id": "dc77a295-da1f-40a3-b61b-911857b875ef"
      },
      "source": [
        "#### 2.1.6.5 Strings Operations"
      ]
    },
    {
      "cell_type": "markdown",
      "id": "e96be2bd-c2f4-4209-9609-32f6d24acb6c",
      "metadata": {
        "id": "e96be2bd-c2f4-4209-9609-32f6d24acb6c"
      },
      "source": [
        "##### Penggabungan String"
      ]
    },
    {
      "cell_type": "code",
      "execution_count": null,
      "id": "c857f26f-558a-4875-8143-2761e66f549f",
      "metadata": {
        "ExecuteTime": {
          "end_time": "2023-08-20T22:23:39.704980Z",
          "start_time": "2023-08-20T22:23:39.687996Z"
        },
        "id": "c857f26f-558a-4875-8143-2761e66f549f",
        "outputId": "c1deff6a-857e-493a-f975-ef1096b562be",
        "colab": {
          "base_uri": "https://localhost:8080/"
        }
      },
      "outputs": [
        {
          "output_type": "stream",
          "name": "stdout",
          "text": [
            "halosemua\n"
          ]
        }
      ],
      "source": [
        "print(\"halo\" + \"semua\")"
      ]
    },
    {
      "cell_type": "code",
      "execution_count": null,
      "id": "cac76c2f-7dc3-49fe-99e0-b8e0da490d21",
      "metadata": {
        "ExecuteTime": {
          "end_time": "2023-08-20T22:23:40.287626Z",
          "start_time": "2023-08-20T22:23:40.279327Z"
        },
        "id": "cac76c2f-7dc3-49fe-99e0-b8e0da490d21",
        "outputId": "9c0f5c4d-9afa-45fd-c181-679d5ef2862e",
        "colab": {
          "base_uri": "https://localhost:8080/"
        }
      },
      "outputs": [
        {
          "output_type": "stream",
          "name": "stdout",
          "text": [
            "halo semua\n"
          ]
        }
      ],
      "source": [
        "print(\"halo\" + \" \" + \"semua\")"
      ]
    },
    {
      "cell_type": "code",
      "execution_count": null,
      "id": "7adcf040",
      "metadata": {
        "ExecuteTime": {
          "end_time": "2023-08-20T22:23:40.679361Z",
          "start_time": "2023-08-20T22:23:40.664402Z"
        },
        "id": "7adcf040",
        "outputId": "d8417ae3-5391-4733-9436-c3e72f1b5880",
        "colab": {
          "base_uri": "https://localhost:8080/"
        }
      },
      "outputs": [
        {
          "output_type": "stream",
          "name": "stdout",
          "text": [
            "halo semua halo\n"
          ]
        }
      ],
      "source": [
        "print(\"halo\",\"semua\", \"halo\")"
      ]
    },
    {
      "cell_type": "markdown",
      "id": "16cc110f-ca3b-40fd-9870-21145bf4bb9c",
      "metadata": {
        "id": "16cc110f-ca3b-40fd-9870-21145bf4bb9c"
      },
      "source": [
        "bagaimana kalo kita ingin menambah angka kedalam teks kita?"
      ]
    },
    {
      "cell_type": "code",
      "execution_count": null,
      "id": "c83516d0-2505-449e-8c2c-78bc183459d6",
      "metadata": {
        "ExecuteTime": {
          "end_time": "2023-08-20T22:24:20.981520Z",
          "start_time": "2023-08-20T22:24:20.950860Z"
        },
        "id": "c83516d0-2505-449e-8c2c-78bc183459d6",
        "outputId": "8a450ae5-eb7a-4f72-e429-619bead0f328",
        "tags": [],
        "colab": {
          "base_uri": "https://localhost:8080/",
          "height": 176
        }
      },
      "outputs": [
        {
          "output_type": "error",
          "ename": "TypeError",
          "evalue": "can only concatenate str (not \"int\") to str",
          "traceback": [
            "\u001b[0;31m---------------------------------------------------------------------------\u001b[0m",
            "\u001b[0;31mTypeError\u001b[0m                                 Traceback (most recent call last)",
            "\u001b[0;32m<ipython-input-104-9e62a207fd65>\u001b[0m in \u001b[0;36m<cell line: 1>\u001b[0;34m()\u001b[0m\n\u001b[0;32m----> 1\u001b[0;31m \u001b[0mprint\u001b[0m\u001b[0;34m(\u001b[0m\u001b[0;34m\"Umur Saya\"\u001b[0m \u001b[0;34m+\u001b[0m \u001b[0;36m25\u001b[0m\u001b[0;34m)\u001b[0m\u001b[0;34m\u001b[0m\u001b[0;34m\u001b[0m\u001b[0m\n\u001b[0m",
            "\u001b[0;31mTypeError\u001b[0m: can only concatenate str (not \"int\") to str"
          ]
        }
      ],
      "source": [
        "print(\"Umur Saya\" + 25)"
      ]
    },
    {
      "cell_type": "code",
      "execution_count": null,
      "id": "bd97d0c8-f5df-4c54-aed1-847a55926949",
      "metadata": {
        "ExecuteTime": {
          "end_time": "2023-08-20T22:24:24.976992Z",
          "start_time": "2023-08-20T22:24:24.959058Z"
        },
        "id": "bd97d0c8-f5df-4c54-aed1-847a55926949",
        "outputId": "510442ff-5315-44cf-90f8-2bbad66be895",
        "colab": {
          "base_uri": "https://localhost:8080/"
        }
      },
      "outputs": [
        {
          "output_type": "stream",
          "name": "stdout",
          "text": [
            "Umur Saya 25\n",
            "Umur Saya 25\n",
            "Umur Saya 25 45\n"
          ]
        }
      ],
      "source": [
        "print (\"Umur Saya\",25)\n",
        "print (\"Umur Saya \" + str(25))\n",
        "print (\"Umur Saya %d %d\" % (25.0, 45))\n",
        "%s\n",
        "%d\n",
        "%f"
      ]
    },
    {
      "cell_type": "code",
      "execution_count": null,
      "id": "c7342f2b-f829-44cf-b6e6-e201212043d0",
      "metadata": {
        "ExecuteTime": {
          "end_time": "2023-08-20T22:24:27.707187Z",
          "start_time": "2023-08-20T22:24:27.690243Z"
        },
        "id": "c7342f2b-f829-44cf-b6e6-e201212043d0",
        "outputId": "b1facdd3-810f-498e-e3d8-b48dea449485"
      },
      "outputs": [
        {
          "name": "stdout",
          "output_type": "stream",
          "text": [
            "halo halo halo halo halo \n"
          ]
        }
      ],
      "source": [
        "#kita juga bisa mengalikan string dengan angka yang akan menampilkan string sebanyak angka\n",
        "print(\"halo \"*5)"
      ]
    },
    {
      "cell_type": "markdown",
      "id": "e580d686",
      "metadata": {
        "id": "e580d686"
      },
      "source": [
        "Jika kita ingin print beberapa variabel sekaligus, kita cukup memisahkan antar variabel dan string yang ingin di-print dengan koma."
      ]
    },
    {
      "cell_type": "code",
      "execution_count": null,
      "id": "a6507d2e",
      "metadata": {
        "id": "a6507d2e",
        "outputId": "d936b7e3-9759-42b0-9d6f-2407c595f5b5",
        "colab": {
          "base_uri": "https://localhost:8080/"
        }
      },
      "outputs": [
        {
          "output_type": "stream",
          "name": "stdout",
          "text": [
            "Hai, nama saya Tono umur saya 12 tahun dan saya tinggal di negara Indonesia\n"
          ]
        }
      ],
      "source": [
        "nama_saya = \"Tono\"\n",
        "\n",
        "umur_saya = 12\n",
        "\n",
        "asal_negara = \"Indonesia\"\n",
        "\n",
        "print('Hai, nama saya',nama_saya,'umur saya',umur_saya,'tahun dan saya tinggal di negara',asal_negara)"
      ]
    },
    {
      "cell_type": "markdown",
      "id": "c28b702d",
      "metadata": {
        "id": "c28b702d"
      },
      "source": [
        "Kita juga bisa menggunakan ```f-string``` untuk print teks dengan variabel.\n",
        "\n",
        "```F-string``` dibuat dengan menambahkan huruf ```f``` di depan string, lalu variabel yang akan di-print diletakkan di dalam tanda kurung ```{}```"
      ]
    },
    {
      "cell_type": "code",
      "execution_count": null,
      "id": "ce4fc4bb",
      "metadata": {
        "id": "ce4fc4bb",
        "outputId": "8d94cc41-0d05-4b60-bb6a-9c63ef9df97a",
        "colab": {
          "base_uri": "https://localhost:8080/"
        }
      },
      "outputs": [
        {
          "output_type": "stream",
          "name": "stdout",
          "text": [
            "Hai, nama saya Tono. Umur saya 12 tahun dan saya tinggal di negara Indonesia\n"
          ]
        }
      ],
      "source": [
        "nama_saya = \"Tono\"\n",
        "\n",
        "umur_saya = 12\n",
        "\n",
        "asal_negara = \"Indonesia\"\n",
        "\n",
        "print(f'Hai, nama saya {nama_saya}. Umur saya {umur_saya} tahun dan saya tinggal di negara {asal_negara}')"
      ]
    },
    {
      "cell_type": "code",
      "source": [
        "a = \"abcd\"\n",
        "b=\"c\"\n",
        "a-b"
      ],
      "metadata": {
        "id": "VEBmbWT9bv7-",
        "outputId": "1aaafbc2-9c50-45a8-aae9-50880828bfe8",
        "colab": {
          "base_uri": "https://localhost:8080/",
          "height": 210
        }
      },
      "id": "VEBmbWT9bv7-",
      "execution_count": null,
      "outputs": [
        {
          "output_type": "error",
          "ename": "TypeError",
          "evalue": "unsupported operand type(s) for -: 'str' and 'str'",
          "traceback": [
            "\u001b[0;31m---------------------------------------------------------------------------\u001b[0m",
            "\u001b[0;31mTypeError\u001b[0m                                 Traceback (most recent call last)",
            "\u001b[0;32m<ipython-input-116-73063aba79bd>\u001b[0m in \u001b[0;36m<cell line: 3>\u001b[0;34m()\u001b[0m\n\u001b[1;32m      1\u001b[0m \u001b[0ma\u001b[0m \u001b[0;34m=\u001b[0m \u001b[0;34m\"abcd\"\u001b[0m\u001b[0;34m\u001b[0m\u001b[0;34m\u001b[0m\u001b[0m\n\u001b[1;32m      2\u001b[0m \u001b[0mb\u001b[0m\u001b[0;34m=\u001b[0m\u001b[0;34m\"c\"\u001b[0m\u001b[0;34m\u001b[0m\u001b[0;34m\u001b[0m\u001b[0m\n\u001b[0;32m----> 3\u001b[0;31m \u001b[0ma\u001b[0m\u001b[0;34m-\u001b[0m\u001b[0mb\u001b[0m\u001b[0;34m\u001b[0m\u001b[0;34m\u001b[0m\u001b[0m\n\u001b[0m",
            "\u001b[0;31mTypeError\u001b[0m: unsupported operand type(s) for -: 'str' and 'str'"
          ]
        }
      ]
    },
    {
      "cell_type": "markdown",
      "id": "3201e288-c0e4-438d-9e4e-bf23eaad005e",
      "metadata": {
        "id": "3201e288-c0e4-438d-9e4e-bf23eaad005e"
      },
      "source": [
        "#### 2.1.6.6 String Methods\n",
        "\n",
        "> Semua metode string mengembalikan nilai baru. Mereka tidak mengubah string asli.\n",
        "\n",
        "|Metode|Deskripsi|\n",
        "| :-: | :-: |\n",
        "|capitalize()| Mengubah karakter pertama menjadi huruf besar|\n",
        "|title()|Mengubah huruf pertama pada setiap kata menjadi huruf besar|\n",
        "|lower()|Mengubah semua karakter  menjadi huruf kecil|\n",
        "|upper()|Mengubah semua karakter menjadi huruf besar|\n",
        "|strip()|Menghilangkan spasi berlebih|\n",
        "|lstrip()|Menghilangkan spasi berlebih pada bagian kiri string|\n",
        "|rstrip()|Menghilangkan spasi berlebih pada bagian kanan string|\n",
        "|split()|Memotong string pada karakter yang ditentukan, dan dioutput sebagai list|\n",
        "|startswith()|Akan mengembalikan nilai True bila string diawali kata tertentu yang kita tentukan|\n",
        "|endswith()|Akan mengembalikan nilai True bila string diakhiri kata tertentu yang kita tentukan|\n",
        "|join()|Menggabungkan semua anggota menjadi string|\n",
        "\n",
        "sumber: https://www.w3schools.com/python/python_ref_string.asp"
      ]
    },
    {
      "cell_type": "code",
      "execution_count": null,
      "id": "c611d2aa-f001-4dad-8ac4-bf8a847b9e5f",
      "metadata": {
        "ExecuteTime": {
          "end_time": "2023-08-20T22:24:36.335573Z",
          "start_time": "2023-08-20T22:24:36.317633Z"
        },
        "id": "c611d2aa-f001-4dad-8ac4-bf8a847b9e5f",
        "outputId": "105bc2a1-312b-49ea-8bfa-9a099c184987",
        "colab": {
          "base_uri": "https://localhost:8080/",
          "height": 35
        }
      },
      "outputs": [
        {
          "output_type": "execute_result",
          "data": {
            "text/plain": [
              "'Python for data analytics'"
            ],
            "application/vnd.google.colaboratory.intrinsic+json": {
              "type": "string"
            }
          },
          "metadata": {},
          "execution_count": 117
        }
      ],
      "source": [
        "A = 'python for data analytics'\n",
        "A.capitalize()"
      ]
    },
    {
      "cell_type": "code",
      "execution_count": null,
      "id": "b5fb235b-0834-4212-896c-696ca9da3924",
      "metadata": {
        "ExecuteTime": {
          "end_time": "2023-08-20T22:24:36.919142Z",
          "start_time": "2023-08-20T22:24:36.900740Z"
        },
        "id": "b5fb235b-0834-4212-896c-696ca9da3924",
        "tags": [],
        "outputId": "33a5426c-f9ad-411a-87bf-2e432edc2444",
        "colab": {
          "base_uri": "https://localhost:8080/",
          "height": 35
        }
      },
      "outputs": [
        {
          "output_type": "execute_result",
          "data": {
            "text/plain": [
              "'Python For Data Analytics'"
            ],
            "application/vnd.google.colaboratory.intrinsic+json": {
              "type": "string"
            }
          },
          "metadata": {},
          "execution_count": 118
        }
      ],
      "source": [
        "A.title()"
      ]
    },
    {
      "cell_type": "code",
      "execution_count": null,
      "id": "caf47871-a0db-4264-aca9-80edc0ed2507",
      "metadata": {
        "ExecuteTime": {
          "end_time": "2023-08-20T22:24:41.129720Z",
          "start_time": "2023-08-20T22:24:41.124528Z"
        },
        "id": "caf47871-a0db-4264-aca9-80edc0ed2507",
        "outputId": "d00ba14d-8fe5-4b40-dede-15327ccb83c7",
        "colab": {
          "base_uri": "https://localhost:8080/",
          "height": 35
        }
      },
      "outputs": [
        {
          "output_type": "execute_result",
          "data": {
            "text/plain": [
              "'PYTHON FOR DATA ANALYTICS'"
            ],
            "application/vnd.google.colaboratory.intrinsic+json": {
              "type": "string"
            }
          },
          "metadata": {},
          "execution_count": 120
        }
      ],
      "source": [
        "A.upper()\n",
        "A = A.upper()\n",
        "A"
      ]
    },
    {
      "cell_type": "code",
      "execution_count": null,
      "id": "74990ceb-84ef-42a2-a85b-545387933de1",
      "metadata": {
        "ExecuteTime": {
          "end_time": "2023-08-20T22:24:42.719288Z",
          "start_time": "2023-08-20T22:24:42.715305Z"
        },
        "id": "74990ceb-84ef-42a2-a85b-545387933de1",
        "outputId": "197c1eb5-b526-4b65-99ac-57ec1c24c6fd",
        "colab": {
          "base_uri": "https://localhost:8080/",
          "height": 35
        }
      },
      "outputs": [
        {
          "output_type": "execute_result",
          "data": {
            "text/plain": [
              "'PYTHON FOR DATA ANALYTICS'"
            ],
            "application/vnd.google.colaboratory.intrinsic+json": {
              "type": "string"
            }
          },
          "metadata": {},
          "execution_count": 121
        }
      ],
      "source": [
        "A"
      ]
    },
    {
      "cell_type": "code",
      "execution_count": null,
      "id": "1ffe76b6-250a-429a-93c3-4366d422ec39",
      "metadata": {
        "ExecuteTime": {
          "end_time": "2023-08-20T22:24:44.104220Z",
          "start_time": "2023-08-20T22:24:44.089314Z"
        },
        "id": "1ffe76b6-250a-429a-93c3-4366d422ec39",
        "outputId": "c76b23e7-6112-4e94-da94-6602895349f0",
        "colab": {
          "base_uri": "https://localhost:8080/",
          "height": 35
        }
      },
      "outputs": [
        {
          "output_type": "execute_result",
          "data": {
            "text/plain": [
              "'python for data analytics'"
            ],
            "application/vnd.google.colaboratory.intrinsic+json": {
              "type": "string"
            }
          },
          "metadata": {},
          "execution_count": 122
        }
      ],
      "source": [
        "A.lower()"
      ]
    },
    {
      "cell_type": "code",
      "execution_count": null,
      "id": "24c88f7b-90fb-4271-9980-93dd6e2281c0",
      "metadata": {
        "ExecuteTime": {
          "end_time": "2023-08-20T22:24:44.460042Z",
          "start_time": "2023-08-20T22:24:44.453584Z"
        },
        "id": "24c88f7b-90fb-4271-9980-93dd6e2281c0",
        "outputId": "9604aaed-d9ae-47f3-d81c-7c90a510d2d7",
        "tags": [],
        "colab": {
          "base_uri": "https://localhost:8080/",
          "height": 35
        }
      },
      "outputs": [
        {
          "output_type": "execute_result",
          "data": {
            "text/plain": [
              "'python for data analytics'"
            ],
            "application/vnd.google.colaboratory.intrinsic+json": {
              "type": "string"
            }
          },
          "metadata": {},
          "execution_count": 124
        }
      ],
      "source": [
        "A = '    python for data analytics   '\n",
        "A.strip()"
      ]
    },
    {
      "cell_type": "code",
      "execution_count": null,
      "id": "8881520f-d3ce-4180-90c1-992cc2c7aef1",
      "metadata": {
        "ExecuteTime": {
          "end_time": "2023-08-20T22:24:45.904005Z",
          "start_time": "2023-08-20T22:24:45.898232Z"
        },
        "id": "8881520f-d3ce-4180-90c1-992cc2c7aef1",
        "outputId": "e285d3a7-d5e3-4cd3-ddc3-a81077e7b33c"
      },
      "outputs": [
        {
          "data": {
            "text/plain": [
              "'python for data analytics   '"
            ]
          },
          "execution_count": 36,
          "metadata": {},
          "output_type": "execute_result"
        }
      ],
      "source": [
        "A.lstrip()"
      ]
    },
    {
      "cell_type": "code",
      "execution_count": null,
      "id": "c91b50b2-33d2-45ee-9822-3da51d146c95",
      "metadata": {
        "ExecuteTime": {
          "end_time": "2023-08-20T22:24:46.203111Z",
          "start_time": "2023-08-20T22:24:46.192103Z"
        },
        "id": "c91b50b2-33d2-45ee-9822-3da51d146c95",
        "outputId": "c2d195ee-07cb-4cf4-ed42-404fa7bcbc43",
        "colab": {
          "base_uri": "https://localhost:8080/",
          "height": 35
        }
      },
      "outputs": [
        {
          "output_type": "execute_result",
          "data": {
            "text/plain": [
              "'    python for data analytics'"
            ],
            "application/vnd.google.colaboratory.intrinsic+json": {
              "type": "string"
            }
          },
          "metadata": {},
          "execution_count": 125
        }
      ],
      "source": [
        "A.rstrip()"
      ]
    },
    {
      "cell_type": "code",
      "execution_count": null,
      "id": "ed3740f3-2b59-4b39-a729-fa133f32ee93",
      "metadata": {
        "ExecuteTime": {
          "end_time": "2023-08-20T22:24:46.659277Z",
          "start_time": "2023-08-20T22:24:46.652253Z"
        },
        "id": "ed3740f3-2b59-4b39-a729-fa133f32ee93",
        "outputId": "19c6cfbe-7e4a-49a0-8121-e1fc39c6d099"
      },
      "outputs": [
        {
          "data": {
            "text/plain": [
              "['python for', ' data analytics']"
            ]
          },
          "execution_count": 38,
          "metadata": {},
          "output_type": "execute_result"
        }
      ],
      "source": [
        "A = 'python for, data analytics'\n",
        "A.split(',')"
      ]
    },
    {
      "cell_type": "code",
      "execution_count": null,
      "id": "245e2b78",
      "metadata": {
        "id": "245e2b78",
        "outputId": "0adcd77c-2deb-41eb-a53f-fbb561059688",
        "colab": {
          "base_uri": "https://localhost:8080/"
        }
      },
      "outputs": [
        {
          "output_type": "execute_result",
          "data": {
            "text/plain": [
              "['python', 'for', 'data', 'analytics']"
            ]
          },
          "metadata": {},
          "execution_count": 126
        }
      ],
      "source": [
        "# Jika tidak ditentukan split berdasarkan apa,\n",
        "# maka secara otomatis split akan dilakukan berdasarkan karakter spasi\n",
        "A = 'python for data analytics'\n",
        "A.split()"
      ]
    },
    {
      "cell_type": "code",
      "source": [
        "c = 'Bagaimana kabarmu? \\nBaik. \\nAku tidak tahu lagi. \\nAda apa? \\nIbu terus-terusan menanyakan kabarmu, walaupun kita sudah tidak bersama.'\n",
        "print(c)\n",
        "c.split('\\n')\n"
      ],
      "metadata": {
        "id": "bego72yhdkmd",
        "outputId": "39836dfb-a5ad-4c55-9abd-3440e0752781",
        "colab": {
          "base_uri": "https://localhost:8080/"
        }
      },
      "id": "bego72yhdkmd",
      "execution_count": null,
      "outputs": [
        {
          "output_type": "stream",
          "name": "stdout",
          "text": [
            "Bagaimana kabarmu? \n",
            "Baik. \n",
            "Aku tidak tahu lagi. \n",
            "Ada apa? \n",
            "Ibu terus-terusan menanyakan kabarmu, walaupun kita sudah tidak bersama.\n"
          ]
        },
        {
          "output_type": "execute_result",
          "data": {
            "text/plain": [
              "['Bagaimana kabarmu? ',\n",
              " 'Baik. ',\n",
              " 'Aku tidak tahu lagi. ',\n",
              " 'Ada apa? ',\n",
              " 'Ibu terus-terusan menanyakan kabarmu, walaupun kita sudah tidak bersama.']"
            ]
          },
          "metadata": {},
          "execution_count": 129
        }
      ]
    },
    {
      "cell_type": "code",
      "execution_count": null,
      "id": "pgoSMwKYrpcI",
      "metadata": {
        "ExecuteTime": {
          "end_time": "2023-08-20T22:24:51.305679Z",
          "start_time": "2023-08-20T22:24:51.288258Z"
        },
        "colab": {
          "base_uri": "https://localhost:8080/"
        },
        "id": "pgoSMwKYrpcI",
        "outputId": "fcf0ecac-ca08-4b0c-b211-3797968c3bf3"
      },
      "outputs": [
        {
          "output_type": "execute_result",
          "data": {
            "text/plain": [
              "True"
            ]
          },
          "metadata": {},
          "execution_count": 133
        }
      ],
      "source": [
        "A = 'Python for, data analytics'\n",
        "A.lower().startswith('python')"
      ]
    },
    {
      "cell_type": "code",
      "execution_count": null,
      "id": "ikxAVzEcr161",
      "metadata": {
        "ExecuteTime": {
          "end_time": "2023-08-20T22:24:53.635682Z",
          "start_time": "2023-08-20T22:24:53.626176Z"
        },
        "colab": {
          "base_uri": "https://localhost:8080/"
        },
        "id": "ikxAVzEcr161",
        "outputId": "c00ef70a-4a30-4f5d-a9aa-eb8725437aa0"
      },
      "outputs": [
        {
          "output_type": "execute_result",
          "data": {
            "text/plain": [
              "True"
            ]
          },
          "metadata": {},
          "execution_count": 134
        }
      ],
      "source": [
        "A = 'python for, data analytics'\n",
        "A.endswith('ics')"
      ]
    },
    {
      "cell_type": "code",
      "execution_count": null,
      "id": "e55c421a",
      "metadata": {
        "ExecuteTime": {
          "end_time": "2023-08-20T22:25:34.912413Z",
          "start_time": "2023-08-20T22:25:34.905567Z"
        },
        "id": "e55c421a",
        "outputId": "e47056c0-1254-4bcc-f0f9-c59214788827",
        "colab": {
          "base_uri": "https://localhost:8080/"
        }
      },
      "outputs": [
        {
          "output_type": "stream",
          "name": "stdout",
          "text": [
            "True\n",
            "False\n"
          ]
        }
      ],
      "source": [
        "print('analytics' in A)\n",
        "print('machine' in A)"
      ]
    },
    {
      "cell_type": "code",
      "source": [
        "c = \"ani, budi, coki, dedi\"\n",
        "\"edit\" in c"
      ],
      "metadata": {
        "id": "NSrtORKfficf",
        "outputId": "841763dc-19f5-4f81-b1bf-7d63d3d0b8e3",
        "colab": {
          "base_uri": "https://localhost:8080/"
        }
      },
      "id": "NSrtORKfficf",
      "execution_count": null,
      "outputs": [
        {
          "output_type": "execute_result",
          "data": {
            "text/plain": [
              "False"
            ]
          },
          "metadata": {},
          "execution_count": 137
        }
      ]
    },
    {
      "cell_type": "markdown",
      "id": "6098e72e-adfb-410e-867c-6056eb5518ea",
      "metadata": {
        "id": "6098e72e-adfb-410e-867c-6056eb5518ea"
      },
      "source": [
        "---\n",
        "<img src=\"https://raw.githubusercontent.com/mihoku/repository-random/master/latihan.png\" width=\"300\"/>"
      ]
    },
    {
      "cell_type": "code",
      "execution_count": null,
      "id": "b7f42486-8ee2-4a21-9cc6-08fcff84327f",
      "metadata": {
        "colab": {
          "base_uri": "https://localhost:8080/",
          "height": 228
        },
        "id": "b7f42486-8ee2-4a21-9cc6-08fcff84327f",
        "outputId": "6faf8a42-f7d3-4009-d2ad-2ec76ebf19c8"
      },
      "outputs": [
        {
          "output_type": "stream",
          "name": "stdout",
          "text": [
            "Python For Data Analytics\n"
          ]
        },
        {
          "output_type": "error",
          "ename": "TypeError",
          "evalue": "unsupported operand type(s) for -: 'NoneType' and 'NoneType'",
          "traceback": [
            "\u001b[0;31m---------------------------------------------------------------------------\u001b[0m",
            "\u001b[0;31mTypeError\u001b[0m                                 Traceback (most recent call last)",
            "\u001b[0;32m<ipython-input-143-e4a7557653ea>\u001b[0m in \u001b[0;36m<cell line: 10>\u001b[0;34m()\u001b[0m\n\u001b[1;32m      8\u001b[0m \u001b[0mprint\u001b[0m\u001b[0;34m(\u001b[0m\u001b[0mA\u001b[0m\u001b[0;34m.\u001b[0m\u001b[0mtitle\u001b[0m\u001b[0;34m(\u001b[0m\u001b[0;34m)\u001b[0m\u001b[0;34m,\u001b[0m\u001b[0mB\u001b[0m\u001b[0;34m.\u001b[0m\u001b[0mcapitalize\u001b[0m\u001b[0;34m(\u001b[0m\u001b[0;34m)\u001b[0m\u001b[0;34m,\u001b[0m\u001b[0mC\u001b[0m\u001b[0;34m)\u001b[0m\u001b[0;34m\u001b[0m\u001b[0;34m\u001b[0m\u001b[0m\n\u001b[1;32m      9\u001b[0m \u001b[0my\u001b[0m \u001b[0;34m=\u001b[0m \u001b[0mget_ipython\u001b[0m\u001b[0;34m(\u001b[0m\u001b[0;34m)\u001b[0m\u001b[0;34m.\u001b[0m\u001b[0mrun_line_magic\u001b[0m\u001b[0;34m(\u001b[0m\u001b[0;34m'timeit'\u001b[0m\u001b[0;34m,\u001b[0m \u001b[0;34m''\u001b[0m\u001b[0;34m)\u001b[0m\u001b[0;34m\u001b[0m\u001b[0;34m\u001b[0m\u001b[0m\n\u001b[0;32m---> 10\u001b[0;31m \u001b[0my\u001b[0m\u001b[0;34m-\u001b[0m\u001b[0mx\u001b[0m\u001b[0;34m\u001b[0m\u001b[0;34m\u001b[0m\u001b[0m\n\u001b[0m",
            "\u001b[0;31mTypeError\u001b[0m: unsupported operand type(s) for -: 'NoneType' and 'NoneType'"
          ]
        }
      ],
      "source": [
        "#gabungkan ketiga variabel tersebut menjadi 'Python For Data Analytics' (perhatikan huruf kapital)\n",
        "import timeit\n",
        "x = %timeit\n",
        "A = 'PYTHON'\n",
        "B = 'for'\n",
        "C = 'Data Analytics'\n",
        "\n",
        "print(A.title(),B.capitalize(),C)\n",
        "y = %timeit\n",
        "y-x"
      ]
    },
    {
      "cell_type": "markdown",
      "id": "0b624327",
      "metadata": {
        "id": "0b624327"
      },
      "source": [
        "## 2.2 Tipe Data Kolektif\n",
        "\n",
        "Terdapat empat built-in tipe data kolektif/jamak yang digunakan untuk menyimpan data di Python..\n",
        "1. List,\n",
        "2. Tuple,\n",
        "3. Set, dan\n",
        "4. Dictionary\n",
        "\n",
        "Perbedaan dari keempat tipe data di atas adalah :\n",
        "\n",
        "| **Pembeda**           | **List**          | **Tuple**              | **Set**                 | **Dictonary**                                |\n",
        "|:------------------|:--------------|:-------------------|:--------------------|:-----------------------------------------|\n",
        "| Bentuk            | [a,b,c]       | (a,b,c)            | {a,b,c}             | {a:x, b:y, c:z}                          |\n",
        "| Duplikasi Item    | Diperbolehkan | Diperbolehkan      | Tidak diperbolehkan | Tidak diperbolehkan (kunci maupun nilai) |\n",
        "| Order/Unordered   | Ordered       | Ordered            | Unordered           | Unordered                                |\n",
        "| Keterubahan Nilai | Dapat Diubah  | Tidak Dapat Diubah | Dapat Diubah        | Dapat Diubah                             |"
      ]
    },
    {
      "cell_type": "markdown",
      "id": "3181ee3e-2d4d-4ec2-82fd-b3cdd88b3177",
      "metadata": {
        "id": "3181ee3e-2d4d-4ec2-82fd-b3cdd88b3177"
      },
      "source": [
        "### 2.2.1 List\n",
        "\n",
        "> Untuk menyimpan lebih dari satu value dalam satu variabel. Value dapat diakses menggunakan indeks urutan serta nilai dalam list dapat ditamba, dihapus, dan diubah. List ditandai dengan penggunaan ```[]```."
      ]
    },
    {
      "cell_type": "code",
      "execution_count": null,
      "id": "fe2e2071-e8bf-45d8-97ac-267dd6774a8f",
      "metadata": {
        "ExecuteTime": {
          "end_time": "2023-08-20T22:26:02.668821Z",
          "start_time": "2023-08-20T22:26:02.656862Z"
        },
        "colab": {
          "base_uri": "https://localhost:8080/"
        },
        "id": "fe2e2071-e8bf-45d8-97ac-267dd6774a8f",
        "outputId": "084192db-7192-4dee-c6ae-54776b3ee88a"
      },
      "outputs": [
        {
          "output_type": "stream",
          "name": "stdout",
          "text": [
            "[1, 2, 3, 4, 5]\n",
            "<class 'list'>\n"
          ]
        },
        {
          "output_type": "execute_result",
          "data": {
            "text/plain": [
              "1"
            ]
          },
          "metadata": {},
          "execution_count": 145
        }
      ],
      "source": [
        "# membuat list dengan value tipe data int\n",
        "int_list = [1, 2, 3, 4, 5]\n",
        "print(int_list)\n",
        "print(type(int_list))\n",
        "int_list[0]"
      ]
    },
    {
      "cell_type": "code",
      "execution_count": null,
      "id": "b6878b1f-0872-4435-9ba8-4505ef1d5988",
      "metadata": {
        "ExecuteTime": {
          "end_time": "2023-08-20T22:26:10.819869Z",
          "start_time": "2023-08-20T22:26:10.805483Z"
        },
        "colab": {
          "base_uri": "https://localhost:8080/"
        },
        "id": "b6878b1f-0872-4435-9ba8-4505ef1d5988",
        "outputId": "1fa3053c-af53-4895-de16-621a975efec9"
      },
      "outputs": [
        {
          "name": "stdout",
          "output_type": "stream",
          "text": [
            "['a', 'b', 'c', 'd']\n",
            "<class 'list'>\n"
          ]
        }
      ],
      "source": [
        "# membuat list dengan value tipe data str\n",
        "str_list = list(('a', 'b', 'c', 'd'))\n",
        "print(str_list)\n",
        "print(type(str_list))"
      ]
    },
    {
      "cell_type": "code",
      "execution_count": null,
      "id": "d41c295e-80e7-41e7-b7ea-b43b9eafa8b3",
      "metadata": {
        "ExecuteTime": {
          "end_time": "2023-08-20T22:26:26.905731Z",
          "start_time": "2023-08-20T22:26:26.887789Z"
        },
        "colab": {
          "base_uri": "https://localhost:8080/"
        },
        "id": "d41c295e-80e7-41e7-b7ea-b43b9eafa8b3",
        "outputId": "a21214fc-43b0-4ad5-8860-11cff9341831"
      },
      "outputs": [
        {
          "name": "stdout",
          "output_type": "stream",
          "text": [
            "[1, 2, 'a', 'b']\n",
            "<class 'list'>\n"
          ]
        }
      ],
      "source": [
        "# list juga mampu menampung value dengan tipe data berbeda\n",
        "mix_list = [1, 2, 'a', 'b']\n",
        "print(mix_list)\n",
        "print(type(mix_list))"
      ]
    },
    {
      "cell_type": "code",
      "execution_count": null,
      "id": "264b72e0-c493-4d9d-9783-68a9d6583c9c",
      "metadata": {
        "ExecuteTime": {
          "end_time": "2023-08-20T22:26:31.207545Z",
          "start_time": "2023-08-20T22:26:31.195463Z"
        },
        "colab": {
          "base_uri": "https://localhost:8080/"
        },
        "id": "264b72e0-c493-4d9d-9783-68a9d6583c9c",
        "outputId": "3c2eb17f-97d9-498f-8a7a-cd5f1c83cf2b"
      },
      "outputs": [
        {
          "output_type": "stream",
          "name": "stdout",
          "text": [
            "[1, 2, [2.6, 8], 'a']\n",
            "<class 'list'>\n"
          ]
        }
      ],
      "source": [
        "# list kemudian mampu menampung list dalam list\n",
        "list_inlist =  [1, 2, [2.6, 8], 'a']\n",
        "print(list_inlist)\n",
        "print(type(list_inlist))"
      ]
    },
    {
      "cell_type": "code",
      "source": [
        "list_inlist.append('c')"
      ],
      "metadata": {
        "id": "MW8h7jerkjkE"
      },
      "id": "MW8h7jerkjkE",
      "execution_count": null,
      "outputs": []
    },
    {
      "cell_type": "code",
      "source": [
        "list_inlist"
      ],
      "metadata": {
        "id": "FFKTxeypkqAw",
        "outputId": "b9c44838-4bf3-496c-f09b-0293d269bd0c",
        "colab": {
          "base_uri": "https://localhost:8080/"
        }
      },
      "id": "FFKTxeypkqAw",
      "execution_count": null,
      "outputs": [
        {
          "output_type": "execute_result",
          "data": {
            "text/plain": [
              "[1, 2, [2.6, 8], 'a', 'c']"
            ]
          },
          "metadata": {},
          "execution_count": 148
        }
      ]
    },
    {
      "cell_type": "code",
      "source": [
        "d = [5,6,7]"
      ],
      "metadata": {
        "id": "fe5aJ4Ymk9ED"
      },
      "id": "fe5aJ4Ymk9ED",
      "execution_count": null,
      "outputs": []
    },
    {
      "cell_type": "code",
      "source": [
        "list_inlist.extend(d)"
      ],
      "metadata": {
        "id": "yZF6TELFlA3U"
      },
      "id": "yZF6TELFlA3U",
      "execution_count": null,
      "outputs": []
    },
    {
      "cell_type": "code",
      "source": [
        "list_inlist"
      ],
      "metadata": {
        "id": "4rrDIklhlJOM",
        "outputId": "ac42eba6-2c25-469b-871c-c829eb401388",
        "colab": {
          "base_uri": "https://localhost:8080/"
        }
      },
      "id": "4rrDIklhlJOM",
      "execution_count": null,
      "outputs": [
        {
          "output_type": "execute_result",
          "data": {
            "text/plain": [
              "[1, 2, [2.6, 8], 'a', 'c', 5, 6, 7]"
            ]
          },
          "metadata": {},
          "execution_count": 151
        }
      ]
    },
    {
      "cell_type": "code",
      "source": [
        "list_inlist.append(d)\n",
        "list_inlist"
      ],
      "metadata": {
        "id": "tk_gewadlPof",
        "outputId": "88053d7d-bca2-4ae8-e2cd-5383d497f1fe",
        "colab": {
          "base_uri": "https://localhost:8080/"
        }
      },
      "id": "tk_gewadlPof",
      "execution_count": null,
      "outputs": [
        {
          "output_type": "execute_result",
          "data": {
            "text/plain": [
              "[1, 2, [2.6, 8], 'a', 'c', 5, 6, 7, [5, 6, 7]]"
            ]
          },
          "metadata": {},
          "execution_count": 152
        }
      ]
    },
    {
      "cell_type": "code",
      "source": [
        "list_inlist.index(5)"
      ],
      "metadata": {
        "id": "E_sMbUoxlhVL",
        "outputId": "d484e0b0-3e63-4c8e-c8fe-7267a97d8900",
        "colab": {
          "base_uri": "https://localhost:8080/"
        }
      },
      "id": "E_sMbUoxlhVL",
      "execution_count": null,
      "outputs": [
        {
          "output_type": "execute_result",
          "data": {
            "text/plain": [
              "5"
            ]
          },
          "metadata": {},
          "execution_count": 153
        }
      ]
    },
    {
      "cell_type": "markdown",
      "id": "7ece1539-e194-418e-a440-60d1374d7c20",
      "metadata": {
        "id": "7ece1539-e194-418e-a440-60d1374d7c20"
      },
      "source": [
        "List dapat dimodifikasi menggunakan ```method```. Berikut method umum yang disediakan oleh Python:\n",
        "\n",
        "|Method| Deskripsi|Contoh |Hasil |\n",
        "|:--|:--|:--|:--|\n",
        "|append()|\tMenambahkan elemen ke dalam list pada urutan paling belakang | `lst.append('N')` | `lst = ['Y', 'O', 'S', 'A', 'N']`|\n",
        "|clear()|\tMenghapus seluruh elemen dalam list | `lst.clear()` | `lst = []`\n",
        "|copy()|\tMenghasilkan kopi dari list | `lst2 = lst.copy()` | `lst2 = ['Y', 'O', 'S', 'A']`|\n",
        "|count()|\tMenghasilkan jumlah elemen dalam satu list | `lst.count('Y')` | `1` |\n",
        "|extend()|\tMenggabungkan elemen iterabel ke dalam list | `lst.extend(['N', 'G'])` | `lst = ['Y', 'O', 'S', 'A', 'N', 'G']`|\n",
        "|index()|\tMenemukan lokasi pertama suatu elemen dalam list | `lst.index('S')` | `2` |\n",
        "|insert()|\tMenambahkan elemen ke dalam posisi tertentu dalam list | `lst.insert(3, 'I')` | `lst = ['Y', 'O', 'S', 'I', 'A']`|\n",
        "|pop()|\tMenghapus elemen list yang berada dalam posisi terkait | `lst.pop(2)` | `lst = ['Y', 'O', 'A']`|\n",
        "|remove()|\tMenghapus item pertama dengan nilai tertentu dalam suatu list | `lst.remove('O')` | `lst = ['Y', 'S', 'A']`|\n",
        "|reverse()|\tmembalik urutan list | `lst.reverse()` | `lst = ['A', 'S', 'O', 'Y']` |\n",
        "|sort()|\tMengurutkan elemen list | `lst.sort()` |`lst = ['A', 'O', 'S', 'Y']`|"
      ]
    },
    {
      "cell_type": "code",
      "execution_count": null,
      "id": "d9a112aa-ad4d-486c-9aa2-559d59086e35",
      "metadata": {
        "ExecuteTime": {
          "end_time": "2023-08-20T22:26:41.523419Z",
          "start_time": "2023-08-20T22:26:41.511336Z"
        },
        "id": "d9a112aa-ad4d-486c-9aa2-559d59086e35"
      },
      "outputs": [],
      "source": [
        "# kita akan mencoba menambah value ke dalam list menggunakan .append()\n",
        "int_list = [1, 2, 3, 4, 5]\n",
        "int_list.append(0)"
      ]
    },
    {
      "cell_type": "code",
      "execution_count": null,
      "id": "87223691-def9-4ff0-8700-06d96ebcc468",
      "metadata": {
        "ExecuteTime": {
          "end_time": "2023-08-20T22:26:43.577677Z",
          "start_time": "2023-08-20T22:26:43.571052Z"
        },
        "colab": {
          "base_uri": "https://localhost:8080/"
        },
        "id": "87223691-def9-4ff0-8700-06d96ebcc468",
        "outputId": "fe6a1b1f-21d5-41f4-d0ca-dfa26ec3f52c"
      },
      "outputs": [
        {
          "output_type": "stream",
          "name": "stdout",
          "text": [
            "[1, 2, 3, 4, 5, 0]\n"
          ]
        }
      ],
      "source": [
        "print(int_list)"
      ]
    },
    {
      "cell_type": "code",
      "execution_count": null,
      "id": "ab58ebe8-8eb8-4a29-98cd-e4d2b8eb2f02",
      "metadata": {
        "ExecuteTime": {
          "end_time": "2023-08-20T22:26:45.254162Z",
          "start_time": "2023-08-20T22:26:45.248126Z"
        },
        "id": "ab58ebe8-8eb8-4a29-98cd-e4d2b8eb2f02",
        "outputId": "c346d0fe-11ea-4a9b-c289-8c1afb56da54",
        "colab": {
          "base_uri": "https://localhost:8080/"
        }
      },
      "outputs": [
        {
          "output_type": "execute_result",
          "data": {
            "text/plain": [
              "[0, 1, 2, 3, 4, 5]"
            ]
          },
          "metadata": {},
          "execution_count": 157
        }
      ],
      "source": [
        "# kita akan mencoba mengurutkan value di dalam list menggunakan .sort()\n",
        "int_list.sort()\n",
        "int_list"
      ]
    },
    {
      "cell_type": "code",
      "source": [
        "c = ['ani', 'edi', 'coki', 'budi']\n",
        "c.sort()\n",
        "c"
      ],
      "metadata": {
        "id": "n-Wr7Su3mRsN",
        "outputId": "4b57eff5-360b-44fd-aea1-668855d033b1",
        "colab": {
          "base_uri": "https://localhost:8080/"
        }
      },
      "id": "n-Wr7Su3mRsN",
      "execution_count": null,
      "outputs": [
        {
          "output_type": "execute_result",
          "data": {
            "text/plain": [
              "['ani', 'budi', 'coki', 'edi']"
            ]
          },
          "metadata": {},
          "execution_count": 159
        }
      ]
    },
    {
      "cell_type": "code",
      "source": [
        "a = ['abc','def',3,2,1]\n",
        "a.sort()"
      ],
      "metadata": {
        "id": "Dl4le2Ergpp8",
        "outputId": "be3f1de4-c9be-4ca5-936c-d50c6c3ac3fc",
        "colab": {
          "base_uri": "https://localhost:8080/",
          "height": 193
        }
      },
      "id": "Dl4le2Ergpp8",
      "execution_count": null,
      "outputs": [
        {
          "output_type": "error",
          "ename": "TypeError",
          "evalue": "'<' not supported between instances of 'int' and 'str'",
          "traceback": [
            "\u001b[0;31m---------------------------------------------------------------------------\u001b[0m",
            "\u001b[0;31mTypeError\u001b[0m                                 Traceback (most recent call last)",
            "\u001b[0;32m<ipython-input-158-2c32a161eddc>\u001b[0m in \u001b[0;36m<cell line: 2>\u001b[0;34m()\u001b[0m\n\u001b[1;32m      1\u001b[0m \u001b[0ma\u001b[0m \u001b[0;34m=\u001b[0m \u001b[0;34m[\u001b[0m\u001b[0;34m'abc'\u001b[0m\u001b[0;34m,\u001b[0m\u001b[0;34m'def'\u001b[0m\u001b[0;34m,\u001b[0m\u001b[0;36m3\u001b[0m\u001b[0;34m,\u001b[0m\u001b[0;36m2\u001b[0m\u001b[0;34m,\u001b[0m\u001b[0;36m1\u001b[0m\u001b[0;34m]\u001b[0m\u001b[0;34m\u001b[0m\u001b[0;34m\u001b[0m\u001b[0m\n\u001b[0;32m----> 2\u001b[0;31m \u001b[0ma\u001b[0m\u001b[0;34m.\u001b[0m\u001b[0msort\u001b[0m\u001b[0;34m(\u001b[0m\u001b[0;34m)\u001b[0m\u001b[0;34m\u001b[0m\u001b[0;34m\u001b[0m\u001b[0m\n\u001b[0m",
            "\u001b[0;31mTypeError\u001b[0m: '<' not supported between instances of 'int' and 'str'"
          ]
        }
      ]
    },
    {
      "cell_type": "code",
      "execution_count": null,
      "id": "2c568c2a-4cd6-4775-bab6-81bbf2a206fa",
      "metadata": {
        "ExecuteTime": {
          "end_time": "2023-08-20T22:26:47.491762Z",
          "start_time": "2023-08-20T22:26:47.489191Z"
        },
        "colab": {
          "base_uri": "https://localhost:8080/"
        },
        "id": "2c568c2a-4cd6-4775-bab6-81bbf2a206fa",
        "outputId": "0134715c-550c-403c-eb32-da459b1c3e1c"
      },
      "outputs": [
        {
          "name": "stdout",
          "output_type": "stream",
          "text": [
            "[0, 1, 2, 3, 4, 5]\n"
          ]
        }
      ],
      "source": [
        "print(int_list)"
      ]
    },
    {
      "cell_type": "code",
      "execution_count": null,
      "id": "df30c291-88dd-467c-a09b-782e5092dd39",
      "metadata": {
        "ExecuteTime": {
          "end_time": "2023-08-20T22:26:50.937799Z",
          "start_time": "2023-08-20T22:26:50.933774Z"
        },
        "colab": {
          "base_uri": "https://localhost:8080/"
        },
        "id": "df30c291-88dd-467c-a09b-782e5092dd39",
        "outputId": "cc4a454a-d7f1-496f-c8c7-aecd05ae503d"
      },
      "outputs": [
        {
          "output_type": "stream",
          "name": "stdout",
          "text": [
            "[0, 1, 2, 3, 4, 5, 0, 1, 2, 3, 4, 5, 0, 1, 2, 3, 4, 5, 0, 1, 2, 3, 4, 5, 0, 1, 2, 3, 4, 5, 0, 1, 2, 3, 4, 5, 0, 1, 2, 3, 4, 5, 0, 1, 2, 3, 4, 5, 0, 1, 2, 3, 4, 5, 0, 1, 2, 3, 4, 5, 0, 1, 2, 3, 4, 5, 0, 1, 2, 3, 4, 5, 0, 1, 2, 3, 4, 5, 0, 1, 2, 3, 4, 5, 0, 1, 2, 3, 4, 5, 0, 1, 2, 3, 4, 5, 0, 1, 2, 3, 4, 5, 0, 1, 2, 3, 4, 5, 0, 1, 2, 3, 4, 5, 0, 1, 2, 3, 4, 5, 0, 1, 2, 3, 4, 5, 0, 1, 2, 3, 4, 5, 0, 1, 2, 3, 4, 5, 0, 1, 2, 3, 4, 5, 0, 1, 2, 3, 4, 5, 0, 1, 2, 3, 4, 5, 0, 1, 2, 3, 4, 5]\n"
          ]
        }
      ],
      "source": [
        "# kita akan mencoba mengalikan variable int_list\n",
        "int_list *= 3\n",
        "print(int_list)\n",
        "# list yang dihasilkan, bukan mengalikan masing-masing value di dalam int_list sebanyak 3 kali\n",
        "# tapi melakukan pengulangan print valuenya sebanyak 3 kali"
      ]
    },
    {
      "cell_type": "markdown",
      "id": "faba4034",
      "metadata": {
        "id": "faba4034"
      },
      "source": [
        "Kita juga bisa membuat list berisi angka yang urut dengan bantuan fungsi ```range```"
      ]
    },
    {
      "cell_type": "code",
      "execution_count": null,
      "id": "c01985a7",
      "metadata": {
        "id": "c01985a7",
        "outputId": "35e60ba3-a2f5-4c80-d368-cc1bbb354db1",
        "colab": {
          "base_uri": "https://localhost:8080/"
        }
      },
      "outputs": [
        {
          "output_type": "stream",
          "name": "stdout",
          "text": [
            "[0, 1, 2, 3, 4, 5]\n",
            "[4, 5, 6, 7, 8, 9, 10]\n"
          ]
        }
      ],
      "source": [
        "# fungsi range digunakan untuk membuat urutan angka dengan rentang tertentu\n",
        "# urutan angka tersebut kemudian dapat diubah menjadi tipe data kolektif, misalnya list\n",
        "\n",
        "# Akan membuat urutan angka 0-4\n",
        "range_a = range(6)\n",
        "range_a\n",
        "# range diubah menjadi list\n",
        "number_list = list(range_a)\n",
        "print(number_list)\n",
        "\n",
        "# Akan membuat urutan angka 4-10\n",
        "range_b = range(4,11)\n",
        "# range diubah menjadi list\n",
        "number_list_b = list(range_b)\n",
        "print(number_list_b)"
      ]
    },
    {
      "cell_type": "code",
      "source": [
        "number_list_b\n",
        "number_list_b[0]=\"abc\"\n",
        "number_list_b"
      ],
      "metadata": {
        "id": "F4QeYJ4goBbP",
        "outputId": "64215fac-dc39-43a5-960e-1023a879df0d",
        "colab": {
          "base_uri": "https://localhost:8080/"
        }
      },
      "id": "F4QeYJ4goBbP",
      "execution_count": null,
      "outputs": [
        {
          "output_type": "execute_result",
          "data": {
            "text/plain": [
              "['abc', 5, 6, 7, 8, 9, 10]"
            ]
          },
          "metadata": {},
          "execution_count": 170
        }
      ]
    },
    {
      "cell_type": "markdown",
      "id": "08e7da49-82c6-4d49-a1b0-b5337457bb70",
      "metadata": {
        "id": "08e7da49-82c6-4d49-a1b0-b5337457bb70"
      },
      "source": [
        "### 2.2.2 Tuple"
      ]
    },
    {
      "cell_type": "markdown",
      "id": "cd97302b-863a-4c3a-97a5-222f36022e84",
      "metadata": {
        "id": "cd97302b-863a-4c3a-97a5-222f36022e84"
      },
      "source": [
        "> Kumpulan objek Python seperti ```list```, namun tidak dapat diubah nilainya setelah didefinisikan (immutable). Tuple ditandai dengan penggunaan ```()```."
      ]
    },
    {
      "cell_type": "code",
      "execution_count": null,
      "id": "28f61351-e8ff-445d-94f7-fa5ce00e75c4",
      "metadata": {
        "id": "28f61351-e8ff-445d-94f7-fa5ce00e75c4",
        "outputId": "d4a2acb9-b4af-4138-dbac-38db726bbec1",
        "colab": {
          "base_uri": "https://localhost:8080/"
        }
      },
      "outputs": [
        {
          "output_type": "stream",
          "name": "stdout",
          "text": [
            "(1, 2, 3, 4, 5)\n",
            "<class 'tuple'>\n"
          ]
        }
      ],
      "source": [
        "int_tuple = (1, 2, 3, 4, 5)\n",
        "print(int_tuple)\n",
        "print(type(int_tuple))"
      ]
    },
    {
      "cell_type": "code",
      "source": [],
      "metadata": {
        "id": "LsHdBR8KqERT"
      },
      "id": "LsHdBR8KqERT",
      "execution_count": null,
      "outputs": []
    },
    {
      "cell_type": "code",
      "source": [
        "int_tuple[0]='abc'"
      ],
      "metadata": {
        "id": "BKgG97ZzoAE5",
        "outputId": "130ddfbe-f21d-45c8-f6bf-e632fabea14d",
        "colab": {
          "base_uri": "https://localhost:8080/",
          "height": 176
        }
      },
      "id": "BKgG97ZzoAE5",
      "execution_count": null,
      "outputs": [
        {
          "output_type": "error",
          "ename": "TypeError",
          "evalue": "'tuple' object does not support item assignment",
          "traceback": [
            "\u001b[0;31m---------------------------------------------------------------------------\u001b[0m",
            "\u001b[0;31mTypeError\u001b[0m                                 Traceback (most recent call last)",
            "\u001b[0;32m<ipython-input-171-c8a7cbab4d39>\u001b[0m in \u001b[0;36m<cell line: 1>\u001b[0;34m()\u001b[0m\n\u001b[0;32m----> 1\u001b[0;31m \u001b[0mint_tuple\u001b[0m\u001b[0;34m[\u001b[0m\u001b[0;36m0\u001b[0m\u001b[0;34m]\u001b[0m\u001b[0;34m=\u001b[0m\u001b[0;34m'abc'\u001b[0m\u001b[0;34m\u001b[0m\u001b[0;34m\u001b[0m\u001b[0m\n\u001b[0m",
            "\u001b[0;31mTypeError\u001b[0m: 'tuple' object does not support item assignment"
          ]
        }
      ]
    },
    {
      "cell_type": "code",
      "execution_count": null,
      "id": "4363976a-327e-4af2-9a1d-61ae0cb6f478",
      "metadata": {
        "id": "4363976a-327e-4af2-9a1d-61ae0cb6f478",
        "outputId": "60abb684-9182-4d4a-a271-a0c57b771ce6",
        "colab": {
          "base_uri": "https://localhost:8080/"
        }
      },
      "outputs": [
        {
          "output_type": "stream",
          "name": "stdout",
          "text": [
            "[1, 2, 3, 4, 5]\n",
            "<class 'list'>\n"
          ]
        }
      ],
      "source": [
        "# walaupun tuple itu immutable\n",
        "# kita bisa merubah tipenya menjadi list, dictionary, dsb\n",
        "# kita akan mencoba merubah int_tuple menjadi list\n",
        "list_int_tuple = list(int_tuple)\n",
        "print(list_int_tuple)\n",
        "print(type(list_int_tuple))"
      ]
    },
    {
      "cell_type": "markdown",
      "id": "b024b6be-338f-40e5-a104-6cb23d29d7df",
      "metadata": {
        "id": "b024b6be-338f-40e5-a104-6cb23d29d7df"
      },
      "source": [
        "### 2.2.3 Set\n",
        "\n",
        "> Kumpulan object Python yang memiliki nilai unik ```(tidak menerima duplikasi)``` dan elemennya tidak dapat diakses dengan indeks."
      ]
    },
    {
      "cell_type": "code",
      "execution_count": null,
      "id": "d8d1174c",
      "metadata": {
        "ExecuteTime": {
          "end_time": "2023-08-20T22:27:45.529540Z",
          "start_time": "2023-08-20T22:27:45.525504Z"
        },
        "id": "d8d1174c",
        "outputId": "ffe32584-5e28-4de4-9e9c-5d761c88413b",
        "colab": {
          "base_uri": "https://localhost:8080/",
          "height": 228
        }
      },
      "outputs": [
        {
          "output_type": "stream",
          "name": "stdout",
          "text": [
            "{1, 2, 3}\n"
          ]
        },
        {
          "output_type": "error",
          "ename": "TypeError",
          "evalue": "'set' object is not subscriptable",
          "traceback": [
            "\u001b[0;31m---------------------------------------------------------------------------\u001b[0m",
            "\u001b[0;31mTypeError\u001b[0m                                 Traceback (most recent call last)",
            "\u001b[0;32m<ipython-input-174-ee68c8d134b3>\u001b[0m in \u001b[0;36m<cell line: 3>\u001b[0;34m()\u001b[0m\n\u001b[1;32m      1\u001b[0m \u001b[0mint_set\u001b[0m \u001b[0;34m=\u001b[0m \u001b[0;34m{\u001b[0m\u001b[0;36m1\u001b[0m\u001b[0;34m,\u001b[0m\u001b[0;36m1\u001b[0m\u001b[0;34m,\u001b[0m\u001b[0;36m2\u001b[0m\u001b[0;34m,\u001b[0m\u001b[0;36m2\u001b[0m\u001b[0;34m,\u001b[0m\u001b[0;36m3\u001b[0m\u001b[0;34m,\u001b[0m\u001b[0;36m3\u001b[0m\u001b[0;34m}\u001b[0m\u001b[0;34m\u001b[0m\u001b[0;34m\u001b[0m\u001b[0m\n\u001b[1;32m      2\u001b[0m \u001b[0mprint\u001b[0m\u001b[0;34m(\u001b[0m\u001b[0mint_set\u001b[0m\u001b[0;34m)\u001b[0m\u001b[0;34m\u001b[0m\u001b[0;34m\u001b[0m\u001b[0m\n\u001b[0;32m----> 3\u001b[0;31m \u001b[0mint_set\u001b[0m\u001b[0;34m[\u001b[0m\u001b[0;36m0\u001b[0m\u001b[0;34m]\u001b[0m\u001b[0;34m\u001b[0m\u001b[0;34m\u001b[0m\u001b[0m\n\u001b[0m",
            "\u001b[0;31mTypeError\u001b[0m: 'set' object is not subscriptable"
          ]
        }
      ],
      "source": [
        "int_set = {1,1,2,2,3,3}\n",
        "print(int_set)\n",
        "int_set[0]"
      ]
    },
    {
      "cell_type": "code",
      "execution_count": null,
      "id": "265824ab-d166-4d6f-87ac-308be5432b59",
      "metadata": {
        "ExecuteTime": {
          "end_time": "2023-08-20T22:27:52.120180Z",
          "start_time": "2023-08-20T22:27:52.111209Z"
        },
        "id": "265824ab-d166-4d6f-87ac-308be5432b59",
        "outputId": "cddc2a34-8bd6-431f-9bee-4dcd336f305c"
      },
      "outputs": [
        {
          "name": "stdout",
          "output_type": "stream",
          "text": [
            "{1, 2, 3}\n",
            "<class 'set'>\n"
          ]
        }
      ],
      "source": [
        "# perhatikan interaksi yang terjadi\n",
        "# kita akan membuat variable set dengan value yang duplicate di dalamnya\n",
        "int_set = set((1, 1, 2, 2, 3, 3))\n",
        "print(int_set)\n",
        "print(type(int_set))"
      ]
    },
    {
      "cell_type": "markdown",
      "id": "2ab746ce-8b5a-45ae-bda1-708bec497580",
      "metadata": {
        "id": "2ab746ce-8b5a-45ae-bda1-708bec497580"
      },
      "source": [
        "Set dapat dimodifikasi menggunakan ```method```. Berikut method umum yang disediakan oleh Python:\n",
        "\n",
        "|Method| Deskripsi|Contoh |\n",
        "|:--|:--|:--|\n",
        "|add()|\tMenambahkan elemen ke dalam set pada urutan paling belakang | `a.update(6)` |\n",
        "|clear()|\tMenghapus seluruh elemen dalam set | `a.clear()` |\n",
        "|remove()|\tMenghapus elemen  tertentu dalam suatu set | `lst.remove('O')` | `lst = ['Y', 'O', 'S', 'A']`|\n",
        "|update()|\tMenambahkan iterable ke dalam set | `a.update([5, 6, 7])` |"
      ]
    },
    {
      "cell_type": "code",
      "execution_count": null,
      "id": "51329b24-7c6f-4636-b6d0-67e3a61d6a00",
      "metadata": {
        "ExecuteTime": {
          "end_time": "2023-08-20T22:27:57.692701Z",
          "start_time": "2023-08-20T22:27:57.688036Z"
        },
        "id": "51329b24-7c6f-4636-b6d0-67e3a61d6a00",
        "outputId": "9856ea9b-97ba-41a5-9728-5b97c26cd7b3",
        "colab": {
          "base_uri": "https://localhost:8080/"
        }
      },
      "outputs": [
        {
          "output_type": "stream",
          "name": "stdout",
          "text": [
            "{2, 3}\n"
          ]
        }
      ],
      "source": [
        "# kita akan mencoba menghapus value menggunakan .remove()\n",
        "int_set.remove(1)\n",
        "print(int_set)"
      ]
    },
    {
      "cell_type": "code",
      "source": [
        "d = set(range(20))\n",
        "d"
      ],
      "metadata": {
        "id": "oA8UCiU8pdll",
        "outputId": "f099f829-554d-4479-adad-a7b8400e9f59",
        "colab": {
          "base_uri": "https://localhost:8080/"
        }
      },
      "id": "oA8UCiU8pdll",
      "execution_count": null,
      "outputs": [
        {
          "output_type": "execute_result",
          "data": {
            "text/plain": [
              "{0, 1, 2, 3, 4, 5, 6, 7, 8, 9, 10, 11, 12, 13, 14, 15, 16, 17, 18, 19}"
            ]
          },
          "metadata": {},
          "execution_count": 176
        }
      ]
    },
    {
      "cell_type": "code",
      "source": [
        "d.remove(1)"
      ],
      "metadata": {
        "id": "z8bk3zU7pjkC"
      },
      "id": "z8bk3zU7pjkC",
      "execution_count": null,
      "outputs": []
    },
    {
      "cell_type": "code",
      "source": [
        "d"
      ],
      "metadata": {
        "id": "vLK4z8lMpmge",
        "outputId": "1c242eb6-75d2-4855-8387-54c3beb29672",
        "colab": {
          "base_uri": "https://localhost:8080/"
        }
      },
      "id": "vLK4z8lMpmge",
      "execution_count": null,
      "outputs": [
        {
          "output_type": "execute_result",
          "data": {
            "text/plain": [
              "{0, 2, 3, 4, 5, 6, 7, 8, 9, 10, 11, 12, 13, 14, 15, 16, 17, 18, 19}"
            ]
          },
          "metadata": {},
          "execution_count": 178
        }
      ]
    },
    {
      "cell_type": "markdown",
      "id": "77849af1-b9f7-4a00-bcc7-5f43e55acb72",
      "metadata": {
        "id": "77849af1-b9f7-4a00-bcc7-5f43e55acb72"
      },
      "source": [
        "### 2.2.4 Dictionary\n",
        "\n",
        "> Kumpulan object yang terdiri dari pasangan key (unik) dan value (nilai). Nilai dapat berupa text, number, boolean, maupun list. Dictionary ditandai dengan penggunaan ```{}```."
      ]
    },
    {
      "cell_type": "code",
      "execution_count": null,
      "id": "0394250e-d3cd-4103-93fe-777fdcf548a3",
      "metadata": {
        "ExecuteTime": {
          "end_time": "2023-08-20T22:28:03.089657Z",
          "start_time": "2023-08-20T22:28:03.085703Z"
        },
        "id": "0394250e-d3cd-4103-93fe-777fdcf548a3"
      },
      "outputs": [],
      "source": [
        "num_of_employee = {'SETJEN' : 2665, 'DJP' : 45960, 'ITJEN': 715, 'DJPK': 547}"
      ]
    },
    {
      "cell_type": "code",
      "source": [
        "num_of_employee['SETJEN']"
      ],
      "metadata": {
        "id": "sF6gV_tHq30b",
        "outputId": "c4c6c31f-404c-4866-806a-15a1a9466986",
        "colab": {
          "base_uri": "https://localhost:8080/"
        }
      },
      "id": "sF6gV_tHq30b",
      "execution_count": null,
      "outputs": [
        {
          "output_type": "execute_result",
          "data": {
            "text/plain": [
              "2665"
            ]
          },
          "metadata": {},
          "execution_count": 180
        }
      ]
    },
    {
      "cell_type": "code",
      "execution_count": null,
      "id": "5805f3ac-c190-49a3-8c57-d2a21e7b6b27",
      "metadata": {
        "ExecuteTime": {
          "end_time": "2023-08-20T22:28:03.702932Z",
          "start_time": "2023-08-20T22:28:03.690647Z"
        },
        "id": "5805f3ac-c190-49a3-8c57-d2a21e7b6b27",
        "outputId": "6bcc2468-4a42-4ea8-ae69-32730943e547"
      },
      "outputs": [
        {
          "name": "stdout",
          "output_type": "stream",
          "text": [
            "<class 'dict'>\n"
          ]
        }
      ],
      "source": [
        "# kita akan mencoba\n",
        "print(type(num_of_employee))"
      ]
    },
    {
      "cell_type": "code",
      "execution_count": null,
      "id": "93828ee4-0e62-4fd1-8657-17e628eaff1a",
      "metadata": {
        "ExecuteTime": {
          "end_time": "2023-08-20T22:28:06.816177Z",
          "start_time": "2023-08-20T22:28:06.803485Z"
        },
        "id": "93828ee4-0e62-4fd1-8657-17e628eaff1a",
        "outputId": "630ba6c2-1629-4981-e258-a5d2f487411b"
      },
      "outputs": [
        {
          "name": "stdout",
          "output_type": "stream",
          "text": [
            "2665\n"
          ]
        }
      ],
      "source": [
        "# kita dapat mengakses nilai(value) dari key tertentu dengan cara berikut\n",
        "print(num_of_employee['SETJEN'])"
      ]
    },
    {
      "cell_type": "code",
      "execution_count": null,
      "id": "70e67162-666f-4fec-8c83-ba5e7248e8a9",
      "metadata": {
        "ExecuteTime": {
          "end_time": "2023-08-20T22:28:07.253278Z",
          "start_time": "2023-08-20T22:28:07.241319Z"
        },
        "id": "70e67162-666f-4fec-8c83-ba5e7248e8a9",
        "outputId": "d21dc455-87f2-409e-ab13-3fbf255159e6"
      },
      "outputs": [
        {
          "name": "stdout",
          "output_type": "stream",
          "text": [
            "SETJEN\n",
            "DJP\n",
            "ITJEN\n",
            "DJPK\n"
          ]
        }
      ],
      "source": [
        "# kemudian kita bisa melakuan mengakses key dan value di dalam dictionary menggunakan looping\n",
        "for key, value in num_of_employee.items():\n",
        "    print(key)"
      ]
    },
    {
      "cell_type": "code",
      "execution_count": null,
      "id": "63263080-ed0d-4176-a252-5847109be124",
      "metadata": {
        "ExecuteTime": {
          "end_time": "2023-08-20T22:28:12.018940Z",
          "start_time": "2023-08-20T22:28:12.010865Z"
        },
        "colab": {
          "base_uri": "https://localhost:8080/"
        },
        "id": "63263080-ed0d-4176-a252-5847109be124",
        "outputId": "a31f9385-379d-4875-c28d-45fe7e64a948"
      },
      "outputs": [
        {
          "name": "stdout",
          "output_type": "stream",
          "text": [
            "2665\n",
            "45960\n",
            "715\n",
            "547\n"
          ]
        }
      ],
      "source": [
        "# kemudian kita bisa melakuan mengakses key dan value di dalam dictionary menggunakan looping\n",
        "# looping akan dibahas lebih dalam kemudian\n",
        "for value in num_of_employee.values():\n",
        "    print(value)"
      ]
    },
    {
      "cell_type": "code",
      "execution_count": null,
      "id": "dadb9a83-4776-458d-97a7-281e07b21545",
      "metadata": {
        "id": "dadb9a83-4776-458d-97a7-281e07b21545",
        "outputId": "7c20ed18-0010-49c8-f7cd-8cf8c9da9b86",
        "colab": {
          "base_uri": "https://localhost:8080/"
        }
      },
      "outputs": [
        {
          "output_type": "execute_result",
          "data": {
            "text/plain": [
              "{'SETJEN': 2665, 'DJP': 45960, 'ITJEN': 715, 'DJPK': 547, 'BPPK': 1200}"
            ]
          },
          "metadata": {},
          "execution_count": 181
        }
      ],
      "source": [
        "# jika kita ingin menambahkan key dan value baru ke dalam dictionary\n",
        "num_of_employee['BPPK'] = 1200\n",
        "\n",
        "num_of_employee"
      ]
    },
    {
      "cell_type": "code",
      "source": [
        "num_of_employee['BPPK'] = 12000\n",
        "\n",
        "num_of_employee"
      ],
      "metadata": {
        "id": "g0NwADW3rkx6",
        "outputId": "f50599a5-40af-4c20-8343-09a7af6349cf",
        "colab": {
          "base_uri": "https://localhost:8080/"
        }
      },
      "id": "g0NwADW3rkx6",
      "execution_count": null,
      "outputs": [
        {
          "output_type": "execute_result",
          "data": {
            "text/plain": [
              "{'SETJEN': 2665, 'DJP': 45960, 'ITJEN': 715, 'DJPK': 547, 'BPPK': 12000}"
            ]
          },
          "metadata": {},
          "execution_count": 183
        }
      ]
    },
    {
      "cell_type": "code",
      "source": [
        "num_of_employee['BPPKP'] =num_of_employee['BPPK']\n",
        "num_of_employee.pop('BPPK')\n",
        "\n",
        "num_of_employee"
      ],
      "metadata": {
        "id": "VdGYI0KYsDPf",
        "outputId": "0e11951f-43de-495d-ab54-d4f14a93a366",
        "colab": {
          "base_uri": "https://localhost:8080/"
        }
      },
      "id": "VdGYI0KYsDPf",
      "execution_count": null,
      "outputs": [
        {
          "output_type": "execute_result",
          "data": {
            "text/plain": [
              "{'SETJEN': 2665, 'DJP': 45960, 'ITJEN': 715, 'DJPK': 547, 'BPPKP': 12000}"
            ]
          },
          "metadata": {},
          "execution_count": 184
        }
      ]
    },
    {
      "cell_type": "code",
      "source": [
        "num_of_employee.keys()"
      ],
      "metadata": {
        "id": "NRbkUSNBtAXC",
        "outputId": "0ce55a33-fa6f-4b35-9d16-b0b5dca6a2c4",
        "colab": {
          "base_uri": "https://localhost:8080/"
        }
      },
      "id": "NRbkUSNBtAXC",
      "execution_count": null,
      "outputs": [
        {
          "output_type": "execute_result",
          "data": {
            "text/plain": [
              "dict_keys(['SETJEN', 'DJP', 'ITJEN', 'DJPK', 'BPPKP'])"
            ]
          },
          "metadata": {},
          "execution_count": 188
        }
      ]
    },
    {
      "cell_type": "markdown",
      "id": "83azihrYn3pQ",
      "metadata": {
        "id": "83azihrYn3pQ"
      },
      "source": [
        "Dictionary dapat dimodifikasi menggunakan ```method```. Berikut method umum yang disediakan oleh Python:\n",
        "\n",
        "|Method| Deskripsi|Contoh |Hasil |\n",
        "|:--|:--|:--|:--|\n",
        "|clear()|\tMenghapus seluruh elemen dalam dictionary | `thisdict.clear()` | `thisdict = {}`|\n",
        "|copy()|\tMenghasilkan kopi dari dictionary | `thisdict2 = thisdict.copy()` | `thisdict2 = {'SETJEN' : 2665, 'DJP' : 45960, 'ITJEN': 715, 'DJPK': 547}`|\n",
        "|fromkeys()|\tMembuat dictionary dari keys dan value yang telah ditetapkan | `thisdict = dict.fromkeys(keys, value)` | `thisdict = {'key1': value, 'key2': value, 'key3': value}` |\n",
        "|get()|\tMendapatkan value dari sebuah key | `thisdict.get('SETJEN')` | `2665`|\n",
        "|items()|\tMenampilkan  pasangan key dan value dalam dictionary | `thisdict.items()` | `dict_items([('SETJEN', 2665), ('DJP', 45960), ('ITJEN', 715), ('DJPK', 547)])` |\n",
        "|keys()|\tMenampilkan  keys dalam dictionary | `thisdict.keys()` | `dict_keys(['SETJEN', 'DJP', 'ITJEN', 'DJPK'])`|\n",
        "|pop()|\tMenghapus elemen dictionary yang mempunyai key terkait | `thisdict.pop('DJPK)` | `thisdict = {'SETJEN': 2665, 'DJP': 45960, 'ITJEN': 715}`|\n",
        "|popitem()|\tMenghapus pasangan key-value terakhir | `thisdict.popitem()` | `thisdict = {'SETJEN': 2665, 'DJP': 45960}`|\n",
        "|setdefault()|\tMendapatkan value dari sebuah key jika sudah ada, jika belum ada, menambah key tersebut ke dictionary dengan  value yang ditentukan | `thisdict.setdefault('MENTERI', 1)` | `thisdict = {'SETJEN': 2665, 'DJP': 45960, 'MENTERI': 1} ` |\n",
        "|update()|\tMemasukkan items (key-value) ke dictionary | `thisdict.update({'DJA' : 1000})` |`thisdict = {'SETJEN': 2665, 'DJP': 45960, 'MENTERI': 1, 'DJA': 1000}`|\n",
        "|values()|\tMenampilkan values dalam dictionary | `thisdict.values()` |`dict_values([2665, 45960, 1, 1000])`|"
      ]
    },
    {
      "cell_type": "markdown",
      "id": "lXxK2HD7eq8K",
      "metadata": {
        "id": "lXxK2HD7eq8K"
      },
      "source": [
        "### 2.2.5 Konversi antar tipe data kolektif\n",
        "\n",
        "* Untuk mengubah data menjadi list, gunakan function ```list()```\n",
        "* Untuk mengubah data menjadi set, gunakan function ```set()```\n",
        "* Untuk mengubah data menjadi tuple, gunakan function ```tuple()```\n",
        "* Untuk mengubah data menjadi dictionary, gunakan function ```dict()``` (syarat dan ketentuan berlaku)"
      ]
    },
    {
      "cell_type": "code",
      "execution_count": null,
      "id": "XT8Vzi6kflYT",
      "metadata": {
        "ExecuteTime": {
          "end_time": "2023-08-20T22:30:03.495418Z",
          "start_time": "2023-08-20T22:30:03.480707Z"
        },
        "colab": {
          "base_uri": "https://localhost:8080/"
        },
        "id": "XT8Vzi6kflYT",
        "outputId": "635278b1-bc71-4a96-9577-88af1fbd1248"
      },
      "outputs": [
        {
          "name": "stdout",
          "output_type": "stream",
          "text": [
            "['Y', 'o', 's', 'a', 'n']\n",
            "('Y', 'o', 's', 'a', 'n')\n"
          ]
        }
      ],
      "source": [
        "print(list('Yosan'))\n",
        "print(tuple('Yosan'))"
      ]
    },
    {
      "cell_type": "code",
      "execution_count": null,
      "id": "05784fd0",
      "metadata": {
        "id": "05784fd0",
        "outputId": "5529f6fd-9dce-4552-b13a-039fbd8b6cf1",
        "colab": {
          "base_uri": "https://localhost:8080/"
        }
      },
      "outputs": [
        {
          "output_type": "stream",
          "name": "stdout",
          "text": [
            "{1, 2, 3, 4, 5}\n",
            "(1, 2, 3, 4, 4, 5)\n"
          ]
        }
      ],
      "source": [
        "# mengubah list menjadi set, akan menghilangkan elemen yang duplikat dari list awal\n",
        "initial_list = [1,2,3,4,4,5]\n",
        "print(set(initial_list))\n",
        "\n",
        "# mengubah list menjadi tuple\n",
        "print(tuple(initial_list))"
      ]
    },
    {
      "cell_type": "code",
      "execution_count": null,
      "id": "4ea5fabf",
      "metadata": {
        "id": "4ea5fabf",
        "outputId": "59f6df12-0f52-44c7-d5d5-6efb063ae657",
        "colab": {
          "base_uri": "https://localhost:8080/"
        }
      },
      "outputs": [
        {
          "output_type": "stream",
          "name": "stdout",
          "text": [
            "{'Apel': 'Buah', 'Bayam': 'Sayur'}\n"
          ]
        }
      ],
      "source": [
        "# List yang berisi list dengan sepasang elemen dapat diubah menjadi dictionary\n",
        "list_of_pair_in_list = [[\"Apel\",\"Buah\"],[\"Bayam\",\"Sayur\"]]\n",
        "print(dict(list_of_pair_in_list))"
      ]
    },
    {
      "cell_type": "code",
      "execution_count": null,
      "id": "849a8c28",
      "metadata": {
        "id": "849a8c28",
        "outputId": "42e83900-d49c-4ee7-8d2d-67951350e821",
        "colab": {
          "base_uri": "https://localhost:8080/"
        }
      },
      "outputs": [
        {
          "output_type": "stream",
          "name": "stdout",
          "text": [
            "{'Apel': 'Buah', 'Bayam': 'Sayur'}\n"
          ]
        }
      ],
      "source": [
        "# List yang berisi tuple dengan sepasang elemen dapat diubah menjadi dictionary\n",
        "list_of_pair_in_tuple = [(\"Apel\",\"Buah\"),(\"Bayam\",\"Sayur\")]\n",
        "print(dict(list_of_pair_in_tuple))"
      ]
    },
    {
      "cell_type": "markdown",
      "id": "f7ec1d0b-c4a8-4987-86cb-00625a77355d",
      "metadata": {
        "id": "f7ec1d0b-c4a8-4987-86cb-00625a77355d"
      },
      "source": [
        "# 3. Indexing dan slicing"
      ]
    },
    {
      "cell_type": "markdown",
      "id": "9e135085-d8bd-423e-a4f6-300d9236a6b8",
      "metadata": {
        "id": "9e135085-d8bd-423e-a4f6-300d9236a6b8"
      },
      "source": [
        "## 3.1 Indexing\n",
        "\n",
        "> Posisi atas value, Python mengenal bahwa indeks pertama adalah ```0``` bukan ```1```."
      ]
    },
    {
      "cell_type": "markdown",
      "id": "e3e79552",
      "metadata": {
        "id": "e3e79552"
      },
      "source": [
        "<img src=\"https://raw.githubusercontent.com/mihoku/repository-random/master/Indexing.png\" width=\"700\"/>"
      ]
    },
    {
      "cell_type": "code",
      "execution_count": null,
      "id": "9759e667-763c-4b56-83d7-6d45f039abfe",
      "metadata": {
        "ExecuteTime": {
          "end_time": "2023-08-21T00:52:47.460345Z",
          "start_time": "2023-08-21T00:52:47.444032Z"
        },
        "id": "9759e667-763c-4b56-83d7-6d45f039abfe",
        "outputId": "10e3ef7f-5226-48e1-96fb-82c27123d1d9",
        "colab": {
          "base_uri": "https://localhost:8080/"
        }
      },
      "outputs": [
        {
          "output_type": "stream",
          "name": "stdout",
          "text": [
            "[1, 2, 3, 4, 5, 0]\n"
          ]
        }
      ],
      "source": [
        "#contoh kita akan membuat sebuah list\n",
        "int_list = [1, 2, 3, 4, 5, 0]\n",
        "print(int_list)"
      ]
    },
    {
      "cell_type": "code",
      "execution_count": null,
      "id": "a08d39bf-c8e8-49a5-abc7-07f59cf15065",
      "metadata": {
        "ExecuteTime": {
          "end_time": "2023-08-21T00:52:47.850983Z",
          "start_time": "2023-08-21T00:52:47.837852Z"
        },
        "id": "a08d39bf-c8e8-49a5-abc7-07f59cf15065",
        "outputId": "3022a56f-5209-4721-be9d-ea8f109914c4",
        "colab": {
          "base_uri": "https://localhost:8080/"
        }
      },
      "outputs": [
        {
          "output_type": "stream",
          "name": "stdout",
          "text": [
            "1\n"
          ]
        }
      ],
      "source": [
        "# kita akan mencoba print indexing pertama dari int_list\n",
        "print(int_list[0])"
      ]
    },
    {
      "cell_type": "code",
      "execution_count": null,
      "id": "3bcb0bd1-d487-4aab-85aa-f3e031c81e68",
      "metadata": {
        "ExecuteTime": {
          "end_time": "2023-08-21T00:52:48.242598Z",
          "start_time": "2023-08-21T00:52:48.235739Z"
        },
        "id": "3bcb0bd1-d487-4aab-85aa-f3e031c81e68",
        "outputId": "63b596dd-6804-4cca-a120-2ad771f5f612",
        "colab": {
          "base_uri": "https://localhost:8080/"
        }
      },
      "outputs": [
        {
          "output_type": "stream",
          "name": "stdout",
          "text": [
            "0\n"
          ]
        }
      ],
      "source": [
        "# kita akan mencoba mencari indexing terakhir dari int_list\n",
        "print(int_list[-1])"
      ]
    },
    {
      "cell_type": "code",
      "execution_count": null,
      "id": "e8b253e5",
      "metadata": {
        "ExecuteTime": {
          "end_time": "2023-08-21T00:52:48.820040Z",
          "start_time": "2023-08-21T00:52:48.815061Z"
        },
        "id": "e8b253e5",
        "outputId": "4a064d08-e900-4701-fea1-8b5bada9745b",
        "colab": {
          "base_uri": "https://localhost:8080/"
        }
      },
      "outputs": [
        {
          "output_type": "stream",
          "name": "stdout",
          "text": [
            "10\n"
          ]
        }
      ],
      "source": [
        "int_list[-1] = 10\n",
        "print(int_list[-1])"
      ]
    },
    {
      "cell_type": "code",
      "execution_count": null,
      "id": "bca33e42-777e-4143-98a7-7110bdce3cfe",
      "metadata": {
        "ExecuteTime": {
          "end_time": "2023-08-21T00:52:53.432305Z",
          "start_time": "2023-08-21T00:52:53.416622Z"
        },
        "id": "bca33e42-777e-4143-98a7-7110bdce3cfe",
        "outputId": "5a3cb14a-907c-4e5c-d887-5ea2e0565136",
        "colab": {
          "base_uri": "https://localhost:8080/"
        }
      },
      "outputs": [
        {
          "output_type": "stream",
          "name": "stdout",
          "text": [
            "PYTHON\n"
          ]
        }
      ],
      "source": [
        "#hal yang sama juga bisa dilakukan pada type data string\n",
        "text = \"PYTHON\"\n",
        "print(text)"
      ]
    },
    {
      "cell_type": "code",
      "execution_count": null,
      "id": "1cb019c8-a9aa-4a6a-bb44-da9e81b847f6",
      "metadata": {
        "ExecuteTime": {
          "end_time": "2023-08-21T00:52:54.746530Z",
          "start_time": "2023-08-21T00:52:54.733115Z"
        },
        "id": "1cb019c8-a9aa-4a6a-bb44-da9e81b847f6",
        "outputId": "756316e8-357b-4243-f876-f38da99a3f68",
        "colab": {
          "base_uri": "https://localhost:8080/"
        }
      },
      "outputs": [
        {
          "output_type": "stream",
          "name": "stdout",
          "text": [
            "Y\n"
          ]
        }
      ],
      "source": [
        "print(text[1])"
      ]
    },
    {
      "cell_type": "code",
      "execution_count": null,
      "id": "d16544f3-a746-4679-8d80-04ef7af066e6",
      "metadata": {
        "ExecuteTime": {
          "end_time": "2023-08-21T00:52:55.121545Z",
          "start_time": "2023-08-21T00:52:55.105156Z"
        },
        "id": "d16544f3-a746-4679-8d80-04ef7af066e6",
        "outputId": "4266a363-f818-41b9-d40f-639ac582e2bd"
      },
      "outputs": [
        {
          "name": "stdout",
          "output_type": "stream",
          "text": [
            "O\n"
          ]
        }
      ],
      "source": [
        "print(text[-2])"
      ]
    },
    {
      "cell_type": "code",
      "execution_count": null,
      "id": "5edc168e",
      "metadata": {
        "ExecuteTime": {
          "end_time": "2023-08-21T00:53:05.184003Z",
          "start_time": "2023-08-21T00:53:05.173957Z"
        },
        "id": "5edc168e",
        "outputId": "dbfa11e4-f1a1-4539-ae1a-77bec16294fa",
        "colab": {
          "base_uri": "https://localhost:8080/"
        }
      },
      "outputs": [
        {
          "output_type": "execute_result",
          "data": {
            "text/plain": [
              "(1, 2, 3, 4, 5, 10)"
            ]
          },
          "metadata": {},
          "execution_count": 195
        }
      ],
      "source": [
        "tuple_list = tuple(int_list)\n",
        "tuple_list"
      ]
    },
    {
      "cell_type": "code",
      "execution_count": null,
      "id": "d42a2f68",
      "metadata": {
        "ExecuteTime": {
          "end_time": "2023-08-21T00:53:10.323328Z",
          "start_time": "2023-08-21T00:53:10.308171Z"
        },
        "id": "d42a2f68",
        "outputId": "a55109f5-b552-47b9-9e3b-4a24a646ffe0",
        "colab": {
          "base_uri": "https://localhost:8080/",
          "height": 176
        }
      },
      "outputs": [
        {
          "output_type": "error",
          "ename": "TypeError",
          "evalue": "'tuple' object does not support item assignment",
          "traceback": [
            "\u001b[0;31m---------------------------------------------------------------------------\u001b[0m",
            "\u001b[0;31mTypeError\u001b[0m                                 Traceback (most recent call last)",
            "\u001b[0;32m<ipython-input-197-210daa705fd4>\u001b[0m in \u001b[0;36m<cell line: 1>\u001b[0;34m()\u001b[0m\n\u001b[0;32m----> 1\u001b[0;31m \u001b[0mtuple_list\u001b[0m\u001b[0;34m[\u001b[0m\u001b[0;34m-\u001b[0m\u001b[0;36m1\u001b[0m\u001b[0;34m]\u001b[0m \u001b[0;34m=\u001b[0m \u001b[0;34m'a'\u001b[0m\u001b[0;34m\u001b[0m\u001b[0;34m\u001b[0m\u001b[0m\n\u001b[0m",
            "\u001b[0;31mTypeError\u001b[0m: 'tuple' object does not support item assignment"
          ]
        }
      ],
      "source": [
        "tuple_list[-1] = 'a'"
      ]
    },
    {
      "cell_type": "code",
      "execution_count": null,
      "id": "ff2f2eaa",
      "metadata": {
        "ExecuteTime": {
          "end_time": "2023-08-21T00:53:33.139390Z",
          "start_time": "2023-08-21T00:53:33.129485Z"
        },
        "id": "ff2f2eaa",
        "outputId": "e2b0cd35-c3d9-403e-ef7d-da52ccc0ce50",
        "colab": {
          "base_uri": "https://localhost:8080/"
        }
      },
      "outputs": [
        {
          "output_type": "execute_result",
          "data": {
            "text/plain": [
              "{1, 2, 3, 4, 5, 10}"
            ]
          },
          "metadata": {},
          "execution_count": 198
        }
      ],
      "source": [
        "set_list = set(int_list)\n",
        "set_list"
      ]
    },
    {
      "cell_type": "code",
      "execution_count": null,
      "id": "4b5f299f",
      "metadata": {
        "ExecuteTime": {
          "end_time": "2023-08-21T00:53:40.796416Z",
          "start_time": "2023-08-21T00:53:40.771316Z"
        },
        "id": "4b5f299f",
        "outputId": "04e6984a-ef61-44f4-b5e4-6d16690d8dd0",
        "colab": {
          "base_uri": "https://localhost:8080/",
          "height": 176
        }
      },
      "outputs": [
        {
          "output_type": "error",
          "ename": "TypeError",
          "evalue": "'set' object is not subscriptable",
          "traceback": [
            "\u001b[0;31m---------------------------------------------------------------------------\u001b[0m",
            "\u001b[0;31mTypeError\u001b[0m                                 Traceback (most recent call last)",
            "\u001b[0;32m<ipython-input-199-e2b67709f121>\u001b[0m in \u001b[0;36m<cell line: 1>\u001b[0;34m()\u001b[0m\n\u001b[0;32m----> 1\u001b[0;31m \u001b[0mset_list\u001b[0m\u001b[0;34m[\u001b[0m\u001b[0;36m0\u001b[0m\u001b[0;34m]\u001b[0m\u001b[0;34m\u001b[0m\u001b[0;34m\u001b[0m\u001b[0m\n\u001b[0m",
            "\u001b[0;31mTypeError\u001b[0m: 'set' object is not subscriptable"
          ]
        }
      ],
      "source": [
        "set_list[0]"
      ]
    },
    {
      "cell_type": "markdown",
      "id": "04e82061-a671-4516-8f32-9c93653d2774",
      "metadata": {
        "id": "04e82061-a671-4516-8f32-9c93653d2774"
      },
      "source": [
        "## 3.2 Slicing"
      ]
    },
    {
      "cell_type": "markdown",
      "id": "e8cae04a",
      "metadata": {
        "id": "e8cae04a"
      },
      "source": [
        "> Slicing digunakan untuk memotong dan mengambil sejumlah elemen tertentu dari sebuah data kolektif\n",
        "\n",
        "Python membaca slicing ```int_list[start:stop:step]```.\n",
        "\n",
        "* ```start``` : index ke berapa slicing dimulai\n",
        "* ```stop``` : index ke berapa slicing berhenti. Index yang menjadi batas stop ini tidak ikut diambil\n",
        "* ```step``` : Berapa jeda antar elemen yang diambil"
      ]
    },
    {
      "cell_type": "code",
      "execution_count": null,
      "id": "43c3ebfa-e93a-48d2-b565-4147b2c1f38e",
      "metadata": {
        "ExecuteTime": {
          "end_time": "2023-08-21T00:56:37.264732Z",
          "start_time": "2023-08-21T00:56:37.257987Z"
        },
        "colab": {
          "base_uri": "https://localhost:8080/"
        },
        "id": "43c3ebfa-e93a-48d2-b565-4147b2c1f38e",
        "outputId": "00f35969-544b-46c2-a9f5-2b3eb2b5d618"
      },
      "outputs": [
        {
          "output_type": "stream",
          "name": "stdout",
          "text": [
            "[0, 1, 2, 3, 4, 5, 6, 7, 8, 9]\n"
          ]
        }
      ],
      "source": [
        "#contoh kita akan membuat sebuah list\n",
        "int_list = [0, 1, 2, 3, 4, 5, 6, 7, 8, 9]\n",
        "print(int_list)"
      ]
    },
    {
      "cell_type": "code",
      "execution_count": null,
      "id": "03b3be78-0e10-4ea1-a6df-1383b07262e1",
      "metadata": {
        "ExecuteTime": {
          "end_time": "2023-08-21T00:54:43.195354Z",
          "start_time": "2023-08-21T00:54:43.185346Z"
        },
        "colab": {
          "base_uri": "https://localhost:8080/"
        },
        "id": "03b3be78-0e10-4ea1-a6df-1383b07262e1",
        "outputId": "6d3726ab-fd2b-4041-8def-87038e5c5b18"
      },
      "outputs": [
        {
          "output_type": "stream",
          "name": "stdout",
          "text": [
            "[2, 3, 4]\n"
          ]
        }
      ],
      "source": [
        "# kita akan mencoba print slicing dari index pertama ke kedua\n",
        "# ingat bahwa python memulai indexnya dari 0\n",
        "# maka untuk indexing start = 0, sedangkan indexing end = 2 (excluded)\n",
        "print(int_list[2:5])"
      ]
    },
    {
      "cell_type": "code",
      "execution_count": null,
      "id": "a847f194-3811-4f75-a2ab-c90cb024912a",
      "metadata": {
        "ExecuteTime": {
          "end_time": "2023-08-21T00:54:43.943895Z",
          "start_time": "2023-08-21T00:54:43.936775Z"
        },
        "id": "a847f194-3811-4f75-a2ab-c90cb024912a",
        "outputId": "9de8823e-871e-43d9-c0ad-b3c81c29eaa0",
        "colab": {
          "base_uri": "https://localhost:8080/"
        }
      },
      "outputs": [
        {
          "output_type": "stream",
          "name": "stdout",
          "text": [
            "[0, 1, 2, 3, 4, 5, 6, 7, 8, 9]\n"
          ]
        }
      ],
      "source": [
        "# kita akan mencoba melakukan print slicing dari index kedua, sampai akhir\n",
        "print(int_list[:])"
      ]
    },
    {
      "cell_type": "code",
      "execution_count": null,
      "id": "427ec3d0-9e86-4799-869d-c756238e1057",
      "metadata": {
        "ExecuteTime": {
          "end_time": "2023-08-21T00:54:45.565038Z",
          "start_time": "2023-08-21T00:54:45.558065Z"
        },
        "id": "427ec3d0-9e86-4799-869d-c756238e1057",
        "outputId": "8e398454-1607-4418-bae3-6b7c57e6e686"
      },
      "outputs": [
        {
          "name": "stdout",
          "output_type": "stream",
          "text": [
            "[0, 1, 2, 3, 4]\n"
          ]
        }
      ],
      "source": [
        "# kita akan mencoba melakukan print slicing keseluruhan value, sebelum index kelima\n",
        "# perhatikan interaksi yang terjadi\n",
        "# bandingkan dengan slicing sebelumnya\n",
        "print(int_list[:5])"
      ]
    },
    {
      "cell_type": "code",
      "source": [
        "int_list[5:2]"
      ],
      "metadata": {
        "id": "moRYjt9CBIVw",
        "outputId": "662cc6b1-8665-4483-9565-e37bb60b12c4",
        "colab": {
          "base_uri": "https://localhost:8080/"
        }
      },
      "id": "moRYjt9CBIVw",
      "execution_count": null,
      "outputs": [
        {
          "output_type": "execute_result",
          "data": {
            "text/plain": [
              "[]"
            ]
          },
          "metadata": {},
          "execution_count": 211
        }
      ]
    },
    {
      "cell_type": "code",
      "execution_count": null,
      "id": "Dtm_LCGuZnSt",
      "metadata": {
        "ExecuteTime": {
          "end_time": "2023-08-21T00:54:45.909976Z",
          "start_time": "2023-08-21T00:54:45.905099Z"
        },
        "colab": {
          "base_uri": "https://localhost:8080/"
        },
        "id": "Dtm_LCGuZnSt",
        "outputId": "9bd2e2b2-4eb5-4825-f330-7b228c07455b"
      },
      "outputs": [
        {
          "name": "stdout",
          "output_type": "stream",
          "text": [
            "7\n"
          ]
        }
      ],
      "source": [
        "# kita akan mencoba melakukan print slicing dengan index paling belakang, ke-1 dari list\n",
        "# perhatikan interaksi yang terjadi\n",
        "# bandingkan dengan slicing sebelumnya\n",
        "print(int_list[-3])"
      ]
    },
    {
      "cell_type": "code",
      "execution_count": null,
      "id": "pcewkShfaRZ4",
      "metadata": {
        "ExecuteTime": {
          "end_time": "2023-08-21T00:54:47.365193Z",
          "start_time": "2023-08-21T00:54:47.357494Z"
        },
        "colab": {
          "base_uri": "https://localhost:8080/"
        },
        "id": "pcewkShfaRZ4",
        "outputId": "12ed657f-a392-474c-e87c-229e00048f5a"
      },
      "outputs": [
        {
          "output_type": "stream",
          "name": "stdout",
          "text": [
            "[0, 1, 2, 3, 4, 5, 6, 7, 8, 9]\n",
            "[9, 8, 7, 6, 5, 4, 3, 2, 1, 0]\n"
          ]
        }
      ],
      "source": [
        "print(int_list)\n",
        "# kita akan mencoba melakukan print slicing dengan index paling belakang, ke-1 dari list\n",
        "# perhatikan interaksi yang terjadi\n",
        "# bandingkan dengan slicing sebelumnya\n",
        "print(int_list[-1::-1])"
      ]
    },
    {
      "cell_type": "code",
      "execution_count": null,
      "id": "fd4dbe28",
      "metadata": {
        "ExecuteTime": {
          "end_time": "2023-08-21T00:57:09.084185Z",
          "start_time": "2023-08-21T00:57:09.072303Z"
        },
        "id": "fd4dbe28",
        "outputId": "db077b75-12ca-410e-d082-433e45e8db37",
        "colab": {
          "base_uri": "https://localhost:8080/"
        }
      },
      "outputs": [
        {
          "output_type": "stream",
          "name": "stdout",
          "text": [
            "[0, 1, 2, 3, 4, 5, 6, 7, 80, 90, 30, 9]\n",
            "[80, 90, 30, 9]\n"
          ]
        }
      ],
      "source": [
        "print(int_list)\n",
        "int_list[:-1] = [80,90,30]\n",
        "print(int_list)"
      ]
    },
    {
      "cell_type": "code",
      "execution_count": null,
      "id": "A8DhsR4obbxM",
      "metadata": {
        "ExecuteTime": {
          "end_time": "2023-08-21T00:54:47.770455Z",
          "start_time": "2023-08-21T00:54:47.753510Z"
        },
        "colab": {
          "base_uri": "https://localhost:8080/"
        },
        "id": "A8DhsR4obbxM",
        "outputId": "0687855c-8484-49d9-dc08-e33211ac5521"
      },
      "outputs": [
        {
          "output_type": "stream",
          "name": "stdout",
          "text": [
            "n\n",
            "['a', 'n', 'o', 's', 'y']\n",
            "nasoy\n"
          ]
        }
      ],
      "source": [
        "# slicing pada string\n",
        "s = \"yosan\"\n",
        "print(s[4])\n",
        "print(sorted(s))\n",
        "print(s[::-1])"
      ]
    },
    {
      "cell_type": "code",
      "source": [
        "print(ord('Y'));ord('a')"
      ],
      "metadata": {
        "id": "-HSGKhOsFhQ1",
        "outputId": "34020b50-18b8-4852-fce6-cccfa03b92e4",
        "colab": {
          "base_uri": "https://localhost:8080/"
        }
      },
      "id": "-HSGKhOsFhQ1",
      "execution_count": null,
      "outputs": [
        {
          "output_type": "stream",
          "name": "stdout",
          "text": [
            "89\n"
          ]
        },
        {
          "output_type": "execute_result",
          "data": {
            "text/plain": [
              "97"
            ]
          },
          "metadata": {},
          "execution_count": 236
        }
      ]
    },
    {
      "cell_type": "code",
      "execution_count": null,
      "id": "bfcdbf3f",
      "metadata": {
        "ExecuteTime": {
          "end_time": "2023-08-21T00:55:31.376492Z",
          "start_time": "2023-08-21T00:55:31.364457Z"
        },
        "id": "bfcdbf3f"
      },
      "outputs": [],
      "source": [
        "tuple_list = tuple(int_list)"
      ]
    },
    {
      "cell_type": "code",
      "execution_count": null,
      "id": "9dfa27ef",
      "metadata": {
        "ExecuteTime": {
          "end_time": "2023-08-21T00:55:42.764276Z",
          "start_time": "2023-08-21T00:55:42.758904Z"
        },
        "id": "9dfa27ef",
        "outputId": "ec0a208e-8627-4c60-a9dc-c8bfb7854ca3",
        "colab": {
          "base_uri": "https://localhost:8080/"
        }
      },
      "outputs": [
        {
          "output_type": "stream",
          "name": "stdout",
          "text": [
            "(80, 90, 30, 9)\n"
          ]
        },
        {
          "output_type": "execute_result",
          "data": {
            "text/plain": [
              "(30,)"
            ]
          },
          "metadata": {},
          "execution_count": 229
        }
      ],
      "source": [
        "print(tuple_list)\n",
        "tuple_list[2:-1]"
      ]
    },
    {
      "cell_type": "code",
      "source": [
        "tuple_baru = (12,)\n",
        "type(tuple_baru)"
      ],
      "metadata": {
        "id": "glPfmsTsEquU",
        "outputId": "f3eafae8-1c67-441d-80e4-5ed380a44e89",
        "colab": {
          "base_uri": "https://localhost:8080/"
        }
      },
      "id": "glPfmsTsEquU",
      "execution_count": null,
      "outputs": [
        {
          "output_type": "execute_result",
          "data": {
            "text/plain": [
              "tuple"
            ]
          },
          "metadata": {},
          "execution_count": 232
        }
      ]
    },
    {
      "cell_type": "markdown",
      "id": "9loNcWYBFoTW",
      "metadata": {
        "id": "9loNcWYBFoTW"
      },
      "source": [
        "# 4. Input dan Output"
      ]
    },
    {
      "cell_type": "code",
      "execution_count": null,
      "id": "Ox5QtBznFvOX",
      "metadata": {
        "ExecuteTime": {
          "end_time": "2023-08-21T00:57:25.091822Z",
          "start_time": "2023-08-21T00:57:21.266179Z"
        },
        "colab": {
          "base_uri": "https://localhost:8080/"
        },
        "id": "Ox5QtBznFvOX",
        "outputId": "8ad685c4-a579-4762-836e-ed67bdda7c77"
      },
      "outputs": [
        {
          "output_type": "stream",
          "name": "stdout",
          "text": [
            "Ketik umurmu (lalu tekan Enter): 90\n",
            "180\n"
          ]
        }
      ],
      "source": [
        "# input\n",
        "umur = int(input(\"Ketik umurmu (lalu tekan Enter): \"))\n",
        "\n",
        "print(umur*2)\n",
        "\n",
        "# output\n",
        "# print(\"Hai, \", nama, \"!\")\n",
        "# print(\"Hai, %s!\" %nama)"
      ]
    },
    {
      "cell_type": "code",
      "execution_count": null,
      "id": "wbvoz-QCHBbk",
      "metadata": {
        "ExecuteTime": {
          "end_time": "2023-08-21T00:57:38.436947Z",
          "start_time": "2023-08-21T00:57:36.170979Z"
        },
        "colab": {
          "base_uri": "https://localhost:8080/"
        },
        "id": "wbvoz-QCHBbk",
        "outputId": "84a93bcd-5f57-442b-d9fa-ec7a51e2015e"
      },
      "outputs": [
        {
          "name": "stdout",
          "output_type": "stream",
          "text": [
            "Siapa namamu: a\n",
            "Umurmu berapa? 10\n",
            "\n",
            "Umur a adalah 10.\n"
          ]
        }
      ],
      "source": [
        "# input\n",
        "nama = input(\"Siapa namamu: \")\n",
        "umur = int(input(\"Umurmu berapa? \"))\n",
        "\n",
        "# output\n",
        "print(\"\\nUmur %s adalah %d.\" % (nama, umur))"
      ]
    },
    {
      "cell_type": "markdown",
      "id": "649efab1",
      "metadata": {
        "id": "649efab1"
      },
      "source": [
        " # 5. Control Structure\n"
      ]
    },
    {
      "cell_type": "markdown",
      "id": "d923a714",
      "metadata": {
        "id": "d923a714"
      },
      "source": [
        " Beberapa hal dasar yang perlu dipahami:\n",
        " 1. ```if else``` statement.\n",
        " 2. ```for``` loops.\n",
        " 3. ```while``` loops.\n",
        " 4. ```break```, ```continue```, dan ```pass```."
      ]
    },
    {
      "cell_type": "markdown",
      "id": "cec03d06",
      "metadata": {
        "id": "cec03d06"
      },
      "source": [
        "## 5.1 If else statement / conditional\n",
        "\n",
        "> Digunakan untuk mengendalikan kode yang akan dieksekusi dengan memperhatikan pemenuhan terhadap kondisi tertentu.\n",
        "\n",
        "```python\n",
        "\n",
        "if condition1:\n",
        "    # baris dieksekusi jika condition1 terpenuhi\n",
        "elif condition2:\n",
        "    # baris dieksekusi jika condition2 terpenuhi\n",
        "else:\n",
        "    # baris dieksekusi jika condition1 & condition2 tidak terpenuhi\n",
        "\n",
        "\n",
        "```"
      ]
    },
    {
      "cell_type": "code",
      "execution_count": null,
      "id": "7bf6003a",
      "metadata": {
        "id": "7bf6003a",
        "outputId": "f1b3f88f-2775-4a20-e715-c3ea152f3fad",
        "colab": {
          "base_uri": "https://localhost:8080/"
        }
      },
      "outputs": [
        {
          "output_type": "stream",
          "name": "stdout",
          "text": [
            "A is greater than B\n"
          ]
        }
      ],
      "source": [
        "# kita akan membuat variable A\n",
        "# kita akan membuat variable B\n",
        "A = 200\n",
        "B = 33\n",
        "\n",
        "# kita akan mencoba membuat kondisi atas value pada variable A dan B\n",
        "# kondisi 1\n",
        "# jika nilai B > dari A, maka print B is greater than A\n",
        "if B > A:\n",
        "  print(\"B is greater than A\")\n",
        "# kondisi 2\n",
        "# jika B == A, maka print B and A are equal\n",
        "elif B == A:\n",
        "  print(\"B and A are equal\")\n",
        "# kondisi else, diluar kondisi 1 dan 2\n",
        "# jika dua kondisi sebelumnya tidak terpenuhi, maka print A is greater than B\n",
        "else:\n",
        "  print(\"A is greater than B\")"
      ]
    },
    {
      "cell_type": "markdown",
      "id": "dd0eef68",
      "metadata": {
        "id": "dd0eef68"
      },
      "source": [
        "<img src=\"https://raw.githubusercontent.com/mihoku/repository-random/master/if-else.png\" width=\"800\">"
      ]
    },
    {
      "cell_type": "code",
      "source": [
        "umur_andi = 11\n",
        "tinggi_andi = 161\n",
        "rekomendasi = True\n",
        "\n",
        "# jika tinggi badan andi di atas 165 dan umur andi > 16 tahun, maka lulus tni\n",
        "if umur_andi>16 and tinggi_andi>165:\n",
        "  print('lulus')\n",
        "\n",
        "# jika andi dapat rekomendasi, maka lulua\n",
        "elif rekomendasi==True:\n",
        "  print('lulus')\n",
        "\n",
        "# jika tidak ada gagal\n",
        "else:\n",
        "  print('gagal')\n",
        "\n"
      ],
      "metadata": {
        "id": "MxnJ-8ziIfZp",
        "outputId": "4ca70e36-7224-4fe9-f258-a631284ff6fb",
        "colab": {
          "base_uri": "https://localhost:8080/"
        }
      },
      "id": "MxnJ-8ziIfZp",
      "execution_count": null,
      "outputs": [
        {
          "output_type": "stream",
          "name": "stdout",
          "text": [
            "lulus\n"
          ]
        }
      ]
    },
    {
      "cell_type": "markdown",
      "id": "71976f1a",
      "metadata": {
        "id": "71976f1a"
      },
      "source": [
        "## 5.2 For loops\n",
        "\n",
        "> Digunakan untuk mengeksekusi sebuah blok kode secara berulang berdasarkan sebuah iterable.\n",
        "\n",
        "```python\n",
        "for i in iterable:\n",
        "    # baris dieksekusi pada setiap loop\n",
        "```\n",
        "\n",
        "Iterable dapat berupa list, tuple, set, dictionary, string, maupun range. Kita bisa gunakan range untuk menghasilkan urutan angka secara otomatis dengan format berikut:\n",
        "\n",
        "```range(start, finish, steps)``` seperti pada saat list slicing."
      ]
    },
    {
      "cell_type": "code",
      "execution_count": null,
      "id": "332fbfe5",
      "metadata": {
        "id": "332fbfe5"
      },
      "outputs": [],
      "source": [
        "# kita akan mencoba membuat for loops menggunakan range:\n",
        "for i in range(1,11,2):   # > kita akan melihat i (ini merupakan element dalam range), start = 1, finish = 11, steps = 2\n",
        "    print(i)              # > print seluruh i yang memenuhi kriteria dalam range diatas"
      ]
    },
    {
      "cell_type": "code",
      "execution_count": null,
      "id": "c33d9057",
      "metadata": {
        "id": "c33d9057"
      },
      "outputs": [],
      "source": [
        "# kita akan mencoba membuat for loops dengan melakukan iterasi dalam list\n",
        "# membuat variable list berisi nama\n",
        "names = [\"Alice\", \"Bob\", \"Charlie\"]\n",
        "\n",
        "for name in names:                   # > setiap nama di list names\n",
        "    print(\"Hello, \" + name + \"!\")    # > print nama-nama tersebut dengan format Hello, nama!, perhatikan spasi yang digunakan"
      ]
    },
    {
      "cell_type": "code",
      "execution_count": null,
      "id": "28e56db2",
      "metadata": {
        "id": "28e56db2"
      },
      "outputs": [],
      "source": [
        "# contoh lainnya, membuat list dengan for loops\n",
        "squares = []\n",
        "for i in range(10):\n",
        "    squares.append(i * i)\n",
        "squares"
      ]
    },
    {
      "cell_type": "markdown",
      "id": "629e83cc",
      "metadata": {
        "id": "629e83cc"
      },
      "source": [
        "<img src=\"https://raw.githubusercontent.com/mihoku/repository-random/master/for-loop.png\" width=\"800\">\n"
      ]
    },
    {
      "cell_type": "code",
      "source": [
        "nama_pegawai = 'otong#utung#eteng'\n",
        "\n",
        "# for loop print nama pegawai dan dapat gaji 100 juta\n",
        "for pegawai in nama_pegawai.split('#'):\n",
        "  print(f\"{pegawai} dapat gaji 100 juta\")"
      ],
      "metadata": {
        "id": "tAQzIpFCKIDa",
        "outputId": "95d0831f-6893-4246-d511-5ad7e73957a3",
        "colab": {
          "base_uri": "https://localhost:8080/"
        }
      },
      "id": "tAQzIpFCKIDa",
      "execution_count": null,
      "outputs": [
        {
          "output_type": "stream",
          "name": "stdout",
          "text": [
            "otong dapat gaji 100 juta\n",
            "utung dapat gaji 100 juta\n",
            "eteng dapat gaji 100 juta\n"
          ]
        }
      ]
    },
    {
      "cell_type": "markdown",
      "id": "d4504b3e",
      "metadata": {
        "id": "d4504b3e"
      },
      "source": [
        "---\n",
        "<img src=\"https://raw.githubusercontent.com/mihoku/repository-random/master/latihan.png\" width=\"300\"/>"
      ]
    },
    {
      "cell_type": "markdown",
      "id": "30f670f0",
      "metadata": {
        "id": "30f670f0"
      },
      "source": [
        "#### Buat list berisi huruf non-vokal (konsonan) dari kalimat berikut ini"
      ]
    },
    {
      "cell_type": "code",
      "execution_count": null,
      "id": "30d4f38e",
      "metadata": {
        "id": "30d4f38e",
        "outputId": "7c1b9481-8aa7-4cb3-83d4-70db46bc1049",
        "colab": {
          "base_uri": "https://localhost:8080/"
        }
      },
      "outputs": [
        {
          "output_type": "stream",
          "name": "stdout",
          "text": [
            "['k', 'd', 'l', 'h', 'n', 'k', 'g', 'm', 'b', 'l', 's', 'l', 'l', 'r', 'n', 'g', 's', 'n', 'n', 'g', 'b', 'k', 'r', 'j']\n"
          ]
        }
      ],
      "source": [
        "kalimat = \"aku adalah anak gembala selalu riang senang bekerja\"\n",
        "huruf_vokal = ['a','i','u','e','o']\n",
        "\n",
        "huruf_konsonan = []\n",
        "\n",
        "# Jawaban Anda di sini\n",
        "for huruf in kalimat.replace(\" \",\"\"):\n",
        "  if huruf not in huruf_vokal:\n",
        "    huruf_konsonan.append(huruf)\n",
        "\n",
        "print(huruf_konsonan)"
      ]
    },
    {
      "cell_type": "markdown",
      "source": [
        "[output ```kondisi``` for-loop]"
      ],
      "metadata": {
        "id": "5p5EBhhjUblH"
      },
      "id": "5p5EBhhjUblH"
    },
    {
      "cell_type": "markdown",
      "source": [
        "* huruf konsonan dan bukan spasi ```else huruf if huruf not in huruf_vokal and huruf!=' '```\n",
        "* jika huruf b ditulis 'bebek' ```'bebek' if huruf=='b'```\n",
        "* selain itu 'spasi atau vokal' ```else 'vokal atau spasi'```\n",
        "\n",
        "### jika ada 3 kondisi:\n",
        "[output1 if ```kondisi1``` else ```output2``` if ```kondisi2``` else ```ouput3``` for-loop]\n",
        "\n",
        "* if ----> output if kondisi\n",
        "* elif -----> else output if kondisi\n",
        "* else ----> else output\n",
        "\n",
        "### jika ada 2 kondisi:\n",
        "[output1 if ```kondisi1``` else ```output2``` for-loop]"
      ],
      "metadata": {
        "id": "kcS4bpbLULzp"
      },
      "id": "kcS4bpbLULzp"
    },
    {
      "cell_type": "code",
      "source": [
        "konsonan = ['bebek' if huruf=='b' else huruf if huruf not in huruf_vokal and huruf!=' ' else 'vokal atau spasi'  for huruf in kalimat]\n",
        "print(konsonan)"
      ],
      "metadata": {
        "id": "wjpOYvfkUl10",
        "outputId": "a38a68fe-ce21-4ded-edb1-2fd55758241a",
        "colab": {
          "base_uri": "https://localhost:8080/"
        }
      },
      "id": "wjpOYvfkUl10",
      "execution_count": null,
      "outputs": [
        {
          "output_type": "stream",
          "name": "stdout",
          "text": [
            "['vokal atau spasi', 'k', 'vokal atau spasi', 'vokal atau spasi', 'vokal atau spasi', 'd', 'vokal atau spasi', 'l', 'vokal atau spasi', 'h', 'vokal atau spasi', 'vokal atau spasi', 'n', 'vokal atau spasi', 'k', 'vokal atau spasi', 'g', 'vokal atau spasi', 'm', 'bebek', 'vokal atau spasi', 'l', 'vokal atau spasi', 'vokal atau spasi', 's', 'vokal atau spasi', 'l', 'vokal atau spasi', 'l', 'vokal atau spasi', 'vokal atau spasi', 'r', 'vokal atau spasi', 'vokal atau spasi', 'n', 'g', 'vokal atau spasi', 's', 'vokal atau spasi', 'n', 'vokal atau spasi', 'n', 'g', 'vokal atau spasi', 'bebek', 'vokal atau spasi', 'k', 'vokal atau spasi', 'r', 'j', 'vokal atau spasi']\n"
          ]
        }
      ]
    },
    {
      "cell_type": "markdown",
      "source": [
        "[```output``` for-loop ```kondisi```]"
      ],
      "metadata": {
        "id": "4YfiNoFCSowb"
      },
      "id": "4YfiNoFCSowb"
    },
    {
      "cell_type": "code",
      "source": [
        "huruf_konsonan = [huruf for huruf in kalimat.replace(' ','') if huruf not in huruf_vokal]\n",
        "print(huruf_konsonan)"
      ],
      "metadata": {
        "id": "rBnyBjKkRxol",
        "outputId": "5fb916be-93a2-4079-be70-441019c442f3",
        "colab": {
          "base_uri": "https://localhost:8080/"
        }
      },
      "id": "rBnyBjKkRxol",
      "execution_count": null,
      "outputs": [
        {
          "output_type": "stream",
          "name": "stdout",
          "text": [
            "['k', 'd', 'l', 'h', 'n', 'k', 'g', 'm', 'b', 'l', 's', 'l', 'l', 'r', 'n', 'g', 's', 'n', 'n', 'g', 'b', 'k', 'r', 'j']\n"
          ]
        }
      ]
    },
    {
      "cell_type": "markdown",
      "id": "b279d973",
      "metadata": {
        "id": "b279d973"
      },
      "source": [
        "## 5.3 List Comprehension"
      ]
    },
    {
      "cell_type": "markdown",
      "id": "102488bd",
      "metadata": {
        "id": "102488bd"
      },
      "source": [
        "List comprehension digunakan untuk membuat ayntax for-loop menjadi lebih pendek.\n",
        "\n",
        "**Contoh:** Kita memiliki sebuah list bernama ```a_list``` yang berisi bilangan bulat (integer).\n",
        "<pre>\n",
        "a_list = [1,2,3,4,5,6,7,10,11,15,17]\n",
        "</pre>\n",
        "\n",
        "Kita ingin membuat sebuah list baru, yang isinya adalah seluruh elemen dalam ```a_list``` dikalikan dua.\n",
        "\n",
        "yang biasa kita lakukan dengan menggunakan ```for loop``` adalah seperti ini:\n",
        "\n",
        "<pre>\n",
        "new_list = []\n",
        "<font color='red'>for item in a_list:</font> # iterate through a_list\n",
        "    <font color='green'>new_list.append(item * 2)</font> # multiply the value by 2 and append to new_list\n",
        "</pre>"
      ]
    },
    {
      "cell_type": "code",
      "execution_count": null,
      "id": "e528df76",
      "metadata": {
        "id": "e528df76",
        "outputId": "ca211b2a-404f-44ac-fe18-e68de889821a"
      },
      "outputs": [
        {
          "data": {
            "text/plain": [
              "[2, 4, 6, 8, 10, 12, 14, 20, 22, 30, 34]"
            ]
          },
          "execution_count": 4,
          "metadata": {},
          "output_type": "execute_result"
        }
      ],
      "source": [
        "a_list = [1,2,3,4,5,6,7,10,11,15,17]\n",
        "\n",
        "new_list = []\n",
        "for item in a_list: # iterate through a_list\n",
        "    new_list.append(item * 2) # multiply the value by 2 and append to new_list\n",
        "\n",
        "new_list"
      ]
    },
    {
      "cell_type": "markdown",
      "id": "cfb278b5",
      "metadata": {
        "id": "cfb278b5"
      },
      "source": [
        "Dengan list comprehension, kita bisa mengubahnya menjadi seperti ini:"
      ]
    },
    {
      "cell_type": "code",
      "execution_count": null,
      "id": "6497ee04",
      "metadata": {
        "id": "6497ee04",
        "outputId": "e0779bbc-ebf9-4a73-cae2-eebccceec852"
      },
      "outputs": [
        {
          "data": {
            "text/plain": [
              "[2, 4, 6, 8, 10, 12, 14, 20, 22, 30, 34]"
            ]
          },
          "execution_count": 5,
          "metadata": {},
          "output_type": "execute_result"
        }
      ],
      "source": [
        "new_list = [item*2 for item in a_list]\n",
        "new_list"
      ]
    },
    {
      "cell_type": "markdown",
      "id": "eb3b5516",
      "metadata": {
        "id": "eb3b5516"
      },
      "source": [
        "Apabila kita ingin menambahkan kondisional, misalnya kita ingin mengambil hanya seluruh angka ganjil dari ```a_list```, maka dalam bentuk for yang konvensional perintahnya akan tertulis sebagaimana berikut:\n",
        "\n",
        "<pre>\n",
        "a_list = [1,2,3,4,5,6,7,10,11,15,17]\n",
        "new_list = <font color='blue'>[]</font>\n",
        "\n",
        "<font color='red'>for item in a_list:</font> # iterate through a_list\n",
        "    <font color='green'>if item % 2 != 0:</font> # if the item is odd\n",
        "        <font color='green'>new_list.append(item)</font> # append item to new_list\n",
        "</pre>"
      ]
    },
    {
      "cell_type": "code",
      "execution_count": null,
      "id": "dc22f4c5",
      "metadata": {
        "id": "dc22f4c5",
        "outputId": "8b093979-3560-46a2-f054-2b6a6a7ff6db"
      },
      "outputs": [
        {
          "name": "stdout",
          "output_type": "stream",
          "text": [
            "[1, 3, 5, 7, 11, 15, 17]\n"
          ]
        }
      ],
      "source": [
        "a_list = [1,2,3,4,5,6,7,10,11,15,17]\n",
        "\n",
        "new_list = []\n",
        "for item in a_list: # iterate through a_list\n",
        "    if item % 2 != 0: # if the item is odd\n",
        "        new_list.append(item) # append item to new_list\n",
        "\n",
        "print(new_list)"
      ]
    },
    {
      "cell_type": "markdown",
      "id": "f0933b90",
      "metadata": {
        "id": "f0933b90"
      },
      "source": [
        "Dengan list comprehension, maka perintahnya akan menjadi seperti ini:"
      ]
    },
    {
      "cell_type": "code",
      "execution_count": null,
      "id": "af5c23ac",
      "metadata": {
        "id": "af5c23ac",
        "outputId": "84078cb4-dfd5-4ef9-a2d1-8d983dbe4306"
      },
      "outputs": [
        {
          "name": "stdout",
          "output_type": "stream",
          "text": [
            "[1, 3, 5, 7, 11, 15, 17]\n"
          ]
        }
      ],
      "source": [
        "new_list = [item for item in a_list if item%2!=0]\n",
        "\n",
        "print(new_list)"
      ]
    },
    {
      "cell_type": "markdown",
      "id": "0820f1bf",
      "metadata": {
        "id": "0820f1bf"
      },
      "source": [
        "<img src = \"https://scaler.com/topics/images/list-comprehenstion.webp\" width=\"600\"/>"
      ]
    },
    {
      "cell_type": "markdown",
      "id": "bca1fa8d",
      "metadata": {
        "id": "bca1fa8d"
      },
      "source": [
        "Apabila kita ingin menambahkan kondisi lebih dari satu (if-else), misalnya kita ingin membuat list baru dari ```a_list``` yang isinya adalah ```ganjil``` dan ```genap``` sesuai elemen dalam a_list.\n",
        "\n",
        "Jika kita menggunakan for if-else konvensional maka bentuknya seperti ini:\n",
        "<pre>\n",
        "a_list = [1,2,3,4,5,6,7,10,11,15,17]\n",
        "new_list = <font color='blue'>[]</font>\n",
        "\n",
        "<font color='red'>for item in a_list:</font> # iterate through a_list\n",
        "    <font color='green'>if item % 2 != 0:</font> # if the item is odd\n",
        "        <font color='green'>new_list.append('ganjil')</font> # append 'ganjil' to new_list\n",
        "    <font color='purple'>else:\n",
        "        new_list.append('genap')</font> # for even numbers, append 'genap' to new_list\n",
        "</pre>"
      ]
    },
    {
      "cell_type": "code",
      "execution_count": null,
      "id": "f3909888",
      "metadata": {
        "id": "f3909888",
        "outputId": "b5451a2b-16ea-4233-f103-3ed7e742917e",
        "colab": {
          "base_uri": "https://localhost:8080/"
        }
      },
      "outputs": [
        {
          "output_type": "stream",
          "name": "stdout",
          "text": [
            "['ganjil', 'genap', 'ganjil', 'genap', 'ganjil', 'genap', 'ganjil', 'genap', 'ganjil', 'ganjil', 'ganjil']\n"
          ]
        }
      ],
      "source": [
        "a_list = [1,2,3,4,5,6,7,10,11,15,17]\n",
        "\n",
        "new_list = []\n",
        "for item in a_list: # iterate through a_list\n",
        "    if item % 2 != 0: # if the item is odd\n",
        "        new_list.append('ganjil') # append 'ganjil' to new_list\n",
        "    else:\n",
        "        new_list.append('genap') # append 'genap' to new_list\n",
        "\n",
        "print(new_list)"
      ]
    },
    {
      "cell_type": "code",
      "source": [
        "new_list = ['ganjil' if item % 2 != 0 else 'genap' for item in a_list]\n",
        "print(new_list)"
      ],
      "metadata": {
        "id": "FrM37w0sTXIc",
        "outputId": "693dba8b-1409-4bb1-edd8-5c25fb886674",
        "colab": {
          "base_uri": "https://localhost:8080/"
        }
      },
      "id": "FrM37w0sTXIc",
      "execution_count": null,
      "outputs": [
        {
          "output_type": "stream",
          "name": "stdout",
          "text": [
            "['ganjil', 'genap', 'ganjil', 'genap', 'ganjil', 'genap', 'ganjil', 'genap', 'ganjil', 'ganjil', 'ganjil']\n"
          ]
        }
      ]
    },
    {
      "cell_type": "markdown",
      "id": "e54ea205",
      "metadata": {
        "id": "e54ea205"
      },
      "source": [
        "Dengan list comprehension, bentuknya menjadi seperti ini:"
      ]
    },
    {
      "cell_type": "markdown",
      "source": [
        "[output kondisi for-loop]"
      ],
      "metadata": {
        "id": "tvFuwsEJTObC"
      },
      "id": "tvFuwsEJTObC"
    },
    {
      "cell_type": "code",
      "execution_count": null,
      "id": "f675ac7c",
      "metadata": {
        "id": "f675ac7c",
        "outputId": "d65f17e9-077b-446a-c49a-49bb6c8b2e1e"
      },
      "outputs": [
        {
          "name": "stdout",
          "output_type": "stream",
          "text": [
            "['ganjil', 'genap', 'ganjil', 'genap', 'ganjil', 'genap', 'ganjil', 'genap', 'ganjil', 'ganjil', 'ganjil']\n"
          ]
        }
      ],
      "source": [
        "new_list = ['ganjil' if item%2!=0 else 'genap' for item in a_list]\n",
        "\n",
        "print(new_list)"
      ]
    },
    {
      "cell_type": "markdown",
      "id": "14b5da89",
      "metadata": {
        "id": "14b5da89"
      },
      "source": [
        "Dapat dilihat bahwa jika kondisinya (if-else) lebih dari satu, syntax conditionalnya digeser ke sebelah kiri for"
      ]
    },
    {
      "cell_type": "markdown",
      "id": "27c8fdd9",
      "metadata": {
        "id": "27c8fdd9"
      },
      "source": [
        "---\n",
        "<img src=\"https://raw.githubusercontent.com/mihoku/repository-random/master/latihan.png\" width=\"300\"/>"
      ]
    },
    {
      "cell_type": "markdown",
      "id": "81fd145d",
      "metadata": {
        "id": "81fd145d"
      },
      "source": [
        "#### Buat list berisi huruf non-vokal (konsonan) dari kalimat berikut ini"
      ]
    },
    {
      "cell_type": "code",
      "execution_count": null,
      "id": "86b0c455",
      "metadata": {
        "id": "86b0c455",
        "outputId": "0ac702e3-8254-4733-c4a5-eb7f99b80f70"
      },
      "outputs": [
        {
          "name": "stdout",
          "output_type": "stream",
          "text": [
            "['k', 'd', 'l', 'h', 'n', 'k', 'g', 'm', 'b', 'l', 's', 'l', 'l', 'r', 'n', 'g', 's', 'n', 'n', 'g', 'b', 'k', 'r', 'j']\n"
          ]
        }
      ],
      "source": [
        "kalimat = \"aku adalah anak gembala selalu riang senang bekerja\"\n",
        "huruf_vokal = ['a','i','u','e','o']\n",
        "\n",
        "# Jawaban Anda di sini\n",
        "\n",
        "\n",
        "\n"
      ]
    },
    {
      "cell_type": "code",
      "execution_count": null,
      "id": "d7fe42c9",
      "metadata": {
        "id": "d7fe42c9"
      },
      "outputs": [],
      "source": []
    },
    {
      "cell_type": "markdown",
      "id": "a0610a9c",
      "metadata": {
        "id": "a0610a9c"
      },
      "source": [
        "## 5.4 While loops\n",
        "\n",
        "> Digunakan untuk mengeksekusi sebuah blok kode secara berulang berdasarkan sebuah kondisi tertentu yang ditetapkan selama kondisi terpenuhi.\n",
        "\n",
        "```python\n",
        "while condition:\n",
        "    # baris dieksekusi jika condition == True   \n",
        "    # baris pengubah kondisi (wajib ada!)\n",
        "```\n",
        "Kesalahan dalam membuat kode while dapat membuat loop berjalan terus-menerus."
      ]
    },
    {
      "cell_type": "code",
      "execution_count": null,
      "id": "d4091463",
      "metadata": {
        "id": "d4091463",
        "outputId": "d7196107-0ef5-4f84-cb0c-a1cb2002cba4",
        "colab": {
          "base_uri": "https://localhost:8080/"
        }
      },
      "outputs": [
        {
          "output_type": "stream",
          "name": "stdout",
          "text": [
            "0\n",
            "1\n",
            "2\n",
            "3\n",
            "4\n"
          ]
        }
      ],
      "source": [
        "# kita akan mencoba membuat while loops dengan kondisi, i < 5\n",
        "# i kita tetapkan valuenya = 0\n",
        "# setiap kali dia terpenuhi maka print(i)\n",
        "# perhatikan maksud dari i += 1\n",
        "i = 0\n",
        "while i < 5 :\n",
        "    print(i)\n",
        "    i += 1         # >  jika kode semacam ini tidak diberikan, maka kondisi akan selalu True!"
      ]
    },
    {
      "cell_type": "markdown",
      "id": "e090ea16",
      "metadata": {
        "id": "e090ea16"
      },
      "source": [
        "<img src=\"https://raw.githubusercontent.com/mihoku/repository-random/master/while-loop.png\" width=\"800\">"
      ]
    },
    {
      "cell_type": "markdown",
      "id": "a6a2b116",
      "metadata": {
        "id": "a6a2b116"
      },
      "source": [
        "---\n",
        "<img src=\"https://raw.githubusercontent.com/mihoku/repository-random/master/latihan.png\" width=\"300\"/>"
      ]
    },
    {
      "cell_type": "markdown",
      "id": "552035e8",
      "metadata": {
        "id": "552035e8"
      },
      "source": [
        "#### Print lirik lagu ```Five little monkeys``` dengan menggunakan while-loop\n",
        "\n",
        "<img src = \"https://images.unsplash.com/photo-1574256707097-bbf7d49777f5?q=80&w=2070&auto=format&fit=crop&ixlib=rb-4.0.3&ixid=M3wxMjA3fDB8MHxwaG90by1wYWdlfHx8fGVufDB8fHx8fA%3D%3D\" width=\"400\"/>\n",
        "\n",
        "Lirik lagu five little monkeys\n",
        "<pre>\n",
        "5 little monkeys jumping on the bed.\n",
        "One fell off and bumped his head.\n",
        "Mama called the doctor and the doctor said,\n",
        "“No more monkeys jumping on the bed!”\n",
        "\n",
        "4 little monkeys jumping on the bed.\n",
        "One fell off and bumped his head.\n",
        "Mama called the doctor and the doctor said,\n",
        "“No more monkeys jumping on the bed!”\n",
        "\n",
        "3 little monkeys jumping on the bed.\n",
        "One fell off and bumped her head.\n",
        "Mama called the doctor and the doctor said,\n",
        "“No more monkeys jumping on the bed!”\n",
        "\n",
        "2 little monkeys jumping on the bed.\n",
        "One fell off and bumped his head.\n",
        "Mama called the doctor and the doctor said,\n",
        "“No more monkeys jumping on the bed!”\n",
        "\n",
        "1 little monkey jumping on the bed.\n",
        "She fell off and bumped her head.\n",
        "Mama called the doctor and the doctor said,\n",
        "“No more monkeys jumping on the bed!”\n",
        "</pre>\n",
        "\n",
        "#### Hanya saja, di lirik yang Anda print, monyetnya ada 28!"
      ]
    },
    {
      "cell_type": "code",
      "execution_count": null,
      "id": "a8372f0e",
      "metadata": {
        "id": "a8372f0e",
        "outputId": "2e3474f4-b3a6-480a-fbeb-1bc8ea5fd070",
        "colab": {
          "base_uri": "https://localhost:8080/"
        }
      },
      "outputs": [
        {
          "output_type": "stream",
          "name": "stdout",
          "text": [
            "28 little monkeys jumping on the bed.\n",
            "One fell off and bumped his head.\n",
            "Mama called the doctor and the doctor said,\n",
            "“No more monkeys jumping on the bed!”\n",
            "\n",
            "27 little monkeys jumping on the bed.\n",
            "One fell off and bumped his head.\n",
            "Mama called the doctor and the doctor said,\n",
            "“No more monkeys jumping on the bed!”\n",
            "\n",
            "26 little monkeys jumping on the bed.\n",
            "One fell off and bumped his head.\n",
            "Mama called the doctor and the doctor said,\n",
            "“No more monkeys jumping on the bed!”\n",
            "\n",
            "25 little monkeys jumping on the bed.\n",
            "One fell off and bumped his head.\n",
            "Mama called the doctor and the doctor said,\n",
            "“No more monkeys jumping on the bed!”\n",
            "\n",
            "24 little monkeys jumping on the bed.\n",
            "One fell off and bumped his head.\n",
            "Mama called the doctor and the doctor said,\n",
            "“No more monkeys jumping on the bed!”\n",
            "\n",
            "23 little monkeys jumping on the bed.\n",
            "One fell off and bumped his head.\n",
            "Mama called the doctor and the doctor said,\n",
            "“No more monkeys jumping on the bed!”\n",
            "\n",
            "22 little monkeys jumping on the bed.\n",
            "One fell off and bumped his head.\n",
            "Mama called the doctor and the doctor said,\n",
            "“No more monkeys jumping on the bed!”\n",
            "\n",
            "21 little monkeys jumping on the bed.\n",
            "One fell off and bumped his head.\n",
            "Mama called the doctor and the doctor said,\n",
            "“No more monkeys jumping on the bed!”\n",
            "\n",
            "20 little monkeys jumping on the bed.\n",
            "One fell off and bumped his head.\n",
            "Mama called the doctor and the doctor said,\n",
            "“No more monkeys jumping on the bed!”\n",
            "\n",
            "19 little monkeys jumping on the bed.\n",
            "One fell off and bumped his head.\n",
            "Mama called the doctor and the doctor said,\n",
            "“No more monkeys jumping on the bed!”\n",
            "\n",
            "18 little monkeys jumping on the bed.\n",
            "One fell off and bumped his head.\n",
            "Mama called the doctor and the doctor said,\n",
            "“No more monkeys jumping on the bed!”\n",
            "\n",
            "17 little monkeys jumping on the bed.\n",
            "One fell off and bumped his head.\n",
            "Mama called the doctor and the doctor said,\n",
            "“No more monkeys jumping on the bed!”\n",
            "\n",
            "16 little monkeys jumping on the bed.\n",
            "One fell off and bumped his head.\n",
            "Mama called the doctor and the doctor said,\n",
            "“No more monkeys jumping on the bed!”\n",
            "\n",
            "15 little monkeys jumping on the bed.\n",
            "One fell off and bumped his head.\n",
            "Mama called the doctor and the doctor said,\n",
            "“No more monkeys jumping on the bed!”\n",
            "\n",
            "14 little monkeys jumping on the bed.\n",
            "One fell off and bumped his head.\n",
            "Mama called the doctor and the doctor said,\n",
            "“No more monkeys jumping on the bed!”\n",
            "\n",
            "13 little monkeys jumping on the bed.\n",
            "One fell off and bumped his head.\n",
            "Mama called the doctor and the doctor said,\n",
            "“No more monkeys jumping on the bed!”\n",
            "\n",
            "12 little monkeys jumping on the bed.\n",
            "One fell off and bumped his head.\n",
            "Mama called the doctor and the doctor said,\n",
            "“No more monkeys jumping on the bed!”\n",
            "\n",
            "11 little monkeys jumping on the bed.\n",
            "One fell off and bumped his head.\n",
            "Mama called the doctor and the doctor said,\n",
            "“No more monkeys jumping on the bed!”\n",
            "\n",
            "10 little monkeys jumping on the bed.\n",
            "One fell off and bumped his head.\n",
            "Mama called the doctor and the doctor said,\n",
            "“No more monkeys jumping on the bed!”\n",
            "\n",
            "9 little monkeys jumping on the bed.\n",
            "One fell off and bumped his head.\n",
            "Mama called the doctor and the doctor said,\n",
            "“No more monkeys jumping on the bed!”\n",
            "\n",
            "8 little monkeys jumping on the bed.\n",
            "One fell off and bumped his head.\n",
            "Mama called the doctor and the doctor said,\n",
            "“No more monkeys jumping on the bed!”\n",
            "\n",
            "7 little monkeys jumping on the bed.\n",
            "One fell off and bumped his head.\n",
            "Mama called the doctor and the doctor said,\n",
            "“No more monkeys jumping on the bed!”\n",
            "\n",
            "6 little monkeys jumping on the bed.\n",
            "One fell off and bumped his head.\n",
            "Mama called the doctor and the doctor said,\n",
            "“No more monkeys jumping on the bed!”\n",
            "\n",
            "5 little monkeys jumping on the bed.\n",
            "One fell off and bumped his head.\n",
            "Mama called the doctor and the doctor said,\n",
            "“No more monkeys jumping on the bed!”\n",
            "\n",
            "4 little monkeys jumping on the bed.\n",
            "One fell off and bumped his head.\n",
            "Mama called the doctor and the doctor said,\n",
            "“No more monkeys jumping on the bed!”\n",
            "\n",
            "3 little monkeys jumping on the bed.\n",
            "One fell off and bumped his head.\n",
            "Mama called the doctor and the doctor said,\n",
            "“No more monkeys jumping on the bed!”\n",
            "\n",
            "2 little monkeys jumping on the bed.\n",
            "One fell off and bumped his head.\n",
            "Mama called the doctor and the doctor said,\n",
            "“No more monkeys jumping on the bed!”\n",
            "\n",
            "1 little monkey jumping on the bed.\n",
            "One fell off and bumped his head.\n",
            "Mama called the doctor and the doctor said,\n",
            "“No more monkey jumping on the bed!”\n",
            "\n"
          ]
        }
      ],
      "source": [
        "template = '''little monkeys jumping on the bed.\n",
        "One fell off and bumped his head.\n",
        "Mama called the doctor and the doctor said,\n",
        "“No more monkeys jumping on the bed!”\n",
        "'''\n",
        "\n",
        "# Tulis jawaban Anda di sini!\n",
        "monkey =28\n",
        "while monkey >0:\n",
        "  if monkey==1:\n",
        "    print(monkey, template.replace('monkeys', 'monkey'))\n",
        "  else:\n",
        "    print(monkey, template)\n",
        "  monkey-=1"
      ]
    },
    {
      "cell_type": "markdown",
      "id": "2b1d7fa5",
      "metadata": {
        "id": "2b1d7fa5"
      },
      "source": [
        "## 5.5 Materi Pengayaan: Break, continue dan pass\n",
        "\n",
        "**Break statement:**\n",
        "> menghentikan loop saat ini. Gunakan pernyataan break untuk keluar dari loop secara instan.\n",
        "<details>\n",
        "    \n",
        "<img src=\"https://pynative.com/wp-content/uploads/2021/06/break-loop-in-python.png\">\n",
        "\n",
        "</details>\n",
        "\n",
        "**Continue statement:**\n",
        "> Lewati iterasi loop saat ini dan pindah ke iterasi berikutnya\n",
        "<details>\n",
        "    \n",
        "<img src=\"https://pynative.com/wp-content/uploads/2021/06/python-continue-statement-in-loop.png\">\n",
        "    \n",
        "</details>\n",
        "\n",
        "**Pass statement:**\n",
        "> Tidak melakukan apapun. Abaikan kondisi di mana itu terjadi dan lanjutkan untuk menjalankan program seperti biasa\n",
        "\n",
        "sumber : https://pynative.com/python-break-continue-pass/"
      ]
    },
    {
      "cell_type": "code",
      "execution_count": null,
      "id": "d30a9879",
      "metadata": {
        "id": "d30a9879"
      },
      "outputs": [],
      "source": [
        "# kita akan mencoba break statement\n",
        "# membuat variable kota\n",
        "kota = 'jakarta'\n",
        "\n",
        "# implementasi menggunakan for loops\n",
        "# atas setiap huruf di variable kota\n",
        "for huruf in kota:\n",
        "    print(huruf)\n",
        "    # break saat menemukan huruf 'r'\n",
        "    if huruf == 'r':\n",
        "        break\n",
        "    print(\"belum ketemu 'r'\")\n",
        "# menunjukkan kapan terjadinya break\n",
        "print(\"Sudah ketemu!\")\n",
        "\n",
        "# dapat dilihat dari interaksi yang terjadi, saat menemukan huruf 'r'\n",
        "# seketika itu for loops yang dibangun berhenti"
      ]
    },
    {
      "cell_type": "code",
      "execution_count": null,
      "id": "46dff74f",
      "metadata": {
        "id": "46dff74f"
      },
      "outputs": [],
      "source": [
        "# kita akan mencoba continue statement\n",
        "# menggunakan for loops\n",
        "# atas setiap value dalam range start = 1, finish = 11\n",
        "for i in range(1, 11):\n",
        "    # jika value sama dengan 6,\n",
        "    # continue iterasinya\n",
        "    # tanpa melakukan print\n",
        "    if i == 6:\n",
        "        continue\n",
        "    else:\n",
        "        # diluar if statement, print i ditambahkan spasi\n",
        "        print(i, end = \"\\n\")"
      ]
    },
    {
      "cell_type": "code",
      "execution_count": null,
      "id": "fa59de35",
      "metadata": {
        "id": "fa59de35"
      },
      "outputs": [],
      "source": [
        "# kita akan mencoba membuat pass statement\n",
        "# menggunakan variable s sebelumnya\n",
        "# menggunakan for loops\n",
        "# atas setiap value pada variable s\n",
        "for huruf in kota:\n",
        "    # jika value sama dengan 'a', print 'Pass executed'\n",
        "    if huruf == 'a':\n",
        "        print('Pass executed')\n",
        "        # kemudian pass\n",
        "        pass\n",
        "    print(huruf)\n",
        "# dapat dilihat bahwa print seluruh value pada variable kota tetap berlangsung"
      ]
    },
    {
      "cell_type": "markdown",
      "id": "d0a4bc87-d26d-4922-98c2-417ab0ea19a0",
      "metadata": {
        "id": "d0a4bc87-d26d-4922-98c2-417ab0ea19a0"
      },
      "source": [
        "# 6. Functions"
      ]
    },
    {
      "cell_type": "markdown",
      "id": "b4c0dc46-d428-4591-8b29-cc1e95e4eac3",
      "metadata": {
        "id": "b4c0dc46-d428-4591-8b29-cc1e95e4eac3"
      },
      "source": [
        "<img src=https://files.realpython.com/media/t.74ec5430f457.png width=200 class=\"center\">"
      ]
    },
    {
      "cell_type": "markdown",
      "id": "9e92cca5-cb23-4e77-b8b8-8c331d000e3c",
      "metadata": {
        "id": "9e92cca5-cb23-4e77-b8b8-8c331d000e3c"
      },
      "source": [
        "> Blok kode terorganisir dan dapat digunakan kembali yang digunakan untuk melakukan sebuah tindakan/action."
      ]
    },
    {
      "cell_type": "markdown",
      "id": "d1cf474b",
      "metadata": {
        "id": "d1cf474b"
      },
      "source": [
        "## 6.1 Build in functions di Python"
      ]
    },
    {
      "cell_type": "markdown",
      "id": "63db1d32",
      "metadata": {
        "id": "63db1d32"
      },
      "source": [
        "Beberapa function telah disediakan oleh python di antaranya:\n",
        "\n",
        "|||Fungsi Bawaan|||\n",
        "|--|--|--|--|--|\n",
        "|abs()|delattr()|hash()|memoryview()|set()||\n",
        "all()|dict()|help()|min()|setattr()|\n",
        "|any()|dir()|hex()|next()|slice()|\n",
        "|ascii()|divmod()|id()|object()|sorted()|\n",
        "|bin()|enumerate()|input()|oct()|staticmethod()|\n",
        "|bool()|eval()|int()|open()|str()|\n",
        "|breakpoint()|exec()|isinstance()|ord()|sum()|\n",
        "|bytearray()|filter()|issubclass()|pow()|super()|\n",
        "|bytes()|float()|iter()|print()|tuple()|\n",
        "|callable()|format()|len()|property()|type()|\n",
        "|chr()|frozenset()|list()|range()|vars()|\n",
        "|classmethod()|getattr()|locals()|repr()|zip()|\n",
        "|compile()|globals()|map()|reversed()|\\_\\_import\\_\\_()|\n",
        "|complex()|hasattr()|max()|round()||"
      ]
    },
    {
      "cell_type": "code",
      "execution_count": null,
      "id": "15288713",
      "metadata": {
        "id": "15288713",
        "outputId": "a40d275e-ed2a-488e-a26a-c8f6d1d21836"
      },
      "outputs": [
        {
          "name": "stdout",
          "output_type": "stream",
          "text": [
            "[0, 1, 2, 3, 4]\n",
            "[4, 5, 6, 7, 8, 9, 10]\n"
          ]
        }
      ],
      "source": [
        "# fungsi range digunakan untuk membuat urutan angka dengan rentang tertentu\n",
        "# urutan angka tersebut kemudian dapat diubah menjadi tipe data kolektif, misalnya list\n",
        "\n",
        "# Akan membuat urutan angka 0-4\n",
        "range_a = range(5)\n",
        "# range diubah menjadi list\n",
        "number_list = list(range_a)\n",
        "print(number_list)\n",
        "\n",
        "# Akan membuat urutan angka 4-10\n",
        "range_b = range(4,11)\n",
        "# range diubah menjadi list\n",
        "number_list_b = list(range_b)\n",
        "print(number_list_b)"
      ]
    },
    {
      "cell_type": "code",
      "execution_count": null,
      "id": "6cefd86e",
      "metadata": {
        "ExecuteTime": {
          "end_time": "2023-08-21T01:02:50.970498Z",
          "start_time": "2023-08-21T01:02:49.589323Z"
        },
        "colab": {
          "base_uri": "https://localhost:8080/"
        },
        "id": "6cefd86e",
        "outputId": "bae35a07-a261-492b-8795-39543af2708c",
        "tags": []
      },
      "outputs": [
        {
          "name": "stdout",
          "output_type": "stream",
          "text": [
            "masukan suatu nilai:100\n",
            "<class 'str'>\n",
            "100\n"
          ]
        }
      ],
      "source": [
        "# fungsi input memungkinkan program menerima masukan nilai dari user, hasilnya otomatis berupa nilai string\n",
        "hey=input('masukan suatu nilai:')\n",
        "print(type(hey))\n",
        "print(hey)"
      ]
    },
    {
      "cell_type": "code",
      "execution_count": null,
      "id": "942408ba",
      "metadata": {
        "ExecuteTime": {
          "end_time": "2023-08-21T01:04:11.182902Z",
          "start_time": "2023-08-21T01:04:11.178903Z"
        },
        "id": "942408ba",
        "outputId": "dd2b327e-b606-4f47-caab-61c7a4781962"
      },
      "outputs": [
        {
          "name": "stdout",
          "output_type": "stream",
          "text": [
            "True\n",
            "<class 'str'>\n",
            "True\n",
            "<class 'bool'>\n"
          ]
        }
      ],
      "source": [
        "# fungsi eval digunakan untuk mengevaluasi sebuah string dan secara otomatis merubah typenya sesuai dengan isi string tersebut\n",
        "\n",
        "# test_str = '{\"ini_dict\":(100.9,14)}'\n",
        "# test_str = \"100\"\n",
        "# test_str = \"100.7\"\n",
        "test_str = \"True\"\n",
        "\n",
        "print(test_str)\n",
        "print(type(test_str))\n",
        "print(eval(test_str))\n",
        "print(type(eval(test_str)))"
      ]
    },
    {
      "cell_type": "code",
      "execution_count": null,
      "id": "682598ae",
      "metadata": {
        "ExecuteTime": {
          "end_time": "2023-08-21T01:04:20.502235Z",
          "start_time": "2023-08-21T01:04:20.490097Z"
        },
        "id": "682598ae",
        "outputId": "06dc18d5-d46a-4233-def0-09fe1931b66a"
      },
      "outputs": [
        {
          "name": "stdout",
          "output_type": "stream",
          "text": [
            "[1, 3, 5, 7, 9]\n"
          ]
        },
        {
          "data": {
            "text/plain": [
              "range(1, 10, 2)"
            ]
          },
          "execution_count": 132,
          "metadata": {},
          "output_type": "execute_result"
        }
      ],
      "source": [
        "#fungsi range digunakan untuk membuat list berisi nilai angka dalam rentang tertentu\n",
        "int_list = range(1,10, 2)\n",
        "print(list(int_list))\n",
        "int_list"
      ]
    },
    {
      "cell_type": "code",
      "execution_count": null,
      "id": "cc50636c-e7d7-4e04-8297-f3c5198e443b",
      "metadata": {
        "ExecuteTime": {
          "end_time": "2023-08-21T01:04:32.998168Z",
          "start_time": "2023-08-21T01:04:32.985023Z"
        },
        "id": "cc50636c-e7d7-4e04-8297-f3c5198e443b",
        "outputId": "d6054495-65d2-4357-b8d1-8bdc07549d2d"
      },
      "outputs": [
        {
          "name": "stdout",
          "output_type": "stream",
          "text": [
            "25\n"
          ]
        }
      ],
      "source": [
        "# kita akan mencoba menjumlah keseluruhan value pada int_list\n",
        "print(sum(int_list))"
      ]
    },
    {
      "cell_type": "code",
      "execution_count": null,
      "id": "ae6e4e7c-584a-43e2-bd9d-9a1ae5035814",
      "metadata": {
        "ExecuteTime": {
          "end_time": "2023-08-21T01:04:33.483096Z",
          "start_time": "2023-08-21T01:04:33.466081Z"
        },
        "id": "ae6e4e7c-584a-43e2-bd9d-9a1ae5035814",
        "outputId": "ecec3ef9-30d6-41a9-c50c-0858f1d478d4"
      },
      "outputs": [
        {
          "name": "stdout",
          "output_type": "stream",
          "text": [
            "9\n"
          ]
        }
      ],
      "source": [
        "# kita akan mencoba mengukur nilai tertinggi dari value di int_list\n",
        "print(max(int_list))"
      ]
    },
    {
      "cell_type": "code",
      "execution_count": null,
      "id": "25593d99-21ff-4f88-95e2-1dd64f5a39e0",
      "metadata": {
        "ExecuteTime": {
          "end_time": "2023-08-21T01:04:33.962868Z",
          "start_time": "2023-08-21T01:04:33.946915Z"
        },
        "id": "25593d99-21ff-4f88-95e2-1dd64f5a39e0",
        "outputId": "2f6f7412-949b-4c07-b500-472a1a5820aa"
      },
      "outputs": [
        {
          "name": "stdout",
          "output_type": "stream",
          "text": [
            "5\n"
          ]
        }
      ],
      "source": [
        "# kita akan mencoba mengukur panjang dari int_list\n",
        "print(len(int_list))\n",
        "# artinya di dalam int_list terdapat 5 value"
      ]
    },
    {
      "cell_type": "markdown",
      "id": "a225f1ba-df49-419e-bf63-e4cfb1a76ab9",
      "metadata": {
        "id": "a225f1ba-df49-419e-bf63-e4cfb1a76ab9"
      },
      "source": [
        "## 6.2 Membuat fungsi secara manual\n",
        "\n",
        "Beberapa hal dasar yang perlu dipahami:\n",
        "1. Fungsi blok dimulai dengan  kata kunci ```def``` diikuti oleh nama fungsi dan tanda kurung (())sebagai input.\n",
        "2. ```Argumen``` merupakan input dari luar fungsi untuk dapat diproses oleh fungsi.\n",
        "3. ```Return``` digunakan mengembalikan nilai dari proses yang dilakukan sebagai output."
      ]
    },
    {
      "cell_type": "markdown",
      "id": "340cfd72-d817-4e72-baa5-dc5f36d0ff18",
      "metadata": {
        "id": "340cfd72-d817-4e72-baa5-dc5f36d0ff18"
      },
      "source": [
        "def function_name(parameters):\n",
        "<br>    <statement(s)></br>\n",
        "    \n",
        "|Komponen|Arti|\n",
        "|---|---|\n",
        "|def|Kata kunci yang menginformasikan Python bahwa suatu fungsi sedang didefinisikan|\n",
        "|function_name|Pengidentifikasi Python yang valid yang menamai fungsi|\n",
        "|parameters|Daftar parameter opsional yang dipisahkan koma yang dapat diteruskan ke fungsi|\n",
        "|: |Tanda baca yang menunjukkan akhir dari header fungsi Python (nama dan daftar parameter)|\n",
        "|statement(s)|Blok pernyataan Python yang valid|"
      ]
    },
    {
      "cell_type": "code",
      "execution_count": null,
      "id": "70ce6d0f-f954-4bbe-a29f-4d0f3b4b8413",
      "metadata": {
        "ExecuteTime": {
          "end_time": "2023-08-21T01:04:38.715743Z",
          "start_time": "2023-08-21T01:04:38.701710Z"
        },
        "id": "70ce6d0f-f954-4bbe-a29f-4d0f3b4b8413"
      },
      "outputs": [],
      "source": [
        "#contoh fungsi sederhana\n",
        "def tambah_tiga(x):           # > mendefinisikan fungsi bernama tambah_tiga, argumennya x\n",
        "    angka = x+3               # > angka merupakan statement yang isinya perhitungan dari variabel x +3\n",
        "    print(angka)              # > keluar dari fungsi dan meneruskan isi dari variabel angka"
      ]
    },
    {
      "cell_type": "code",
      "execution_count": null,
      "id": "e74b2074-dd61-45c1-b317-e6eabb79a657",
      "metadata": {
        "ExecuteTime": {
          "end_time": "2023-08-21T01:04:39.072012Z",
          "start_time": "2023-08-21T01:04:39.063725Z"
        },
        "id": "e74b2074-dd61-45c1-b317-e6eabb79a657",
        "outputId": "5f00e226-44e5-4090-f864-a7ee326f0890",
        "colab": {
          "base_uri": "https://localhost:8080/"
        }
      },
      "outputs": [
        {
          "output_type": "stream",
          "name": "stdout",
          "text": [
            "7\n"
          ]
        }
      ],
      "source": [
        "tambah_tiga(4)"
      ]
    },
    {
      "cell_type": "markdown",
      "id": "5bef628c-ce3b-40fa-b7b5-333b179bac73",
      "metadata": {
        "id": "5bef628c-ce3b-40fa-b7b5-333b179bac73"
      },
      "source": [
        "---\n",
        "<img src=\"https://raw.githubusercontent.com/mihoku/repository-random/master/latihan.png\" width=\"300\"/>\n"
      ]
    },
    {
      "cell_type": "code",
      "execution_count": null,
      "id": "16626d2d-d4ce-45d0-b747-a6f47905259b",
      "metadata": {
        "id": "16626d2d-d4ce-45d0-b747-a6f47905259b"
      },
      "outputs": [],
      "source": [
        "# Buatlah fungsi untuk akar pangkat 3\n",
        "def akar_tiga(x):\n",
        "    ....."
      ]
    },
    {
      "cell_type": "code",
      "execution_count": null,
      "id": "82ffc73b-3a23-476e-b741-88cfda269270",
      "metadata": {
        "id": "82ffc73b-3a23-476e-b741-88cfda269270"
      },
      "outputs": [],
      "source": [
        "# kita akan mencoba menghitung manual value rata-rata dari int_list\n",
        "def list_mean(some_list):                       # > list_mean judul dari fungsi kita, argumennya some_list\n",
        "    output = ...                                # > output itu berisikan rumus dari perhitngan value rata-rata\n",
        "    return output                               # > print output menggunakan return"
      ]
    },
    {
      "cell_type": "code",
      "execution_count": null,
      "id": "0f9bf963-aef4-4ca3-a3fb-f4bd180fdc29",
      "metadata": {
        "id": "0f9bf963-aef4-4ca3-a3fb-f4bd180fdc29",
        "scrolled": true
      },
      "outputs": [],
      "source": [
        "# print hasil\n",
        "print(list_mean(int_list))"
      ]
    },
    {
      "cell_type": "code",
      "execution_count": null,
      "id": "96b9bec4-fb61-4c36-ab37-cc0b409766ba",
      "metadata": {
        "id": "96b9bec4-fb61-4c36-ab37-cc0b409766ba"
      },
      "outputs": [],
      "source": [
        "# kita akan mencoba menhitung selisih antara nilai tertinggi dan terendah dari int_list\n",
        "def min_max(some_list):\n",
        "    output = ...\n",
        "    return output"
      ]
    },
    {
      "cell_type": "code",
      "execution_count": null,
      "id": "64b564be-5ebf-4fb3-8725-e1e8769a55fd",
      "metadata": {
        "id": "64b564be-5ebf-4fb3-8725-e1e8769a55fd",
        "scrolled": true
      },
      "outputs": [],
      "source": [
        "# print hasi;\n",
        "print(min_max(int_list))"
      ]
    },
    {
      "cell_type": "code",
      "execution_count": null,
      "id": "24f2fed0",
      "metadata": {
        "ExecuteTime": {
          "end_time": "2023-08-20T22:04:33.744960Z",
          "start_time": "2023-08-20T22:04:33.731996Z"
        },
        "id": "24f2fed0",
        "outputId": "599f3634-4756-4034-bd20-0bbe60583a73"
      },
      "outputs": [
        {
          "name": "stdout",
          "output_type": "stream",
          "text": [
            "Panjang Persegi: 3\n",
            "Lebar Persegi: 2\n",
            "Luas Persegi adalah 6\n"
          ]
        }
      ],
      "source": [
        "# Contoh Persegi ABCD\n",
        "panjang_AB = 3\n",
        "lebar_CD = 2\n",
        "\n",
        "print(\"Panjang Persegi:\", panjang_AB)\n",
        "print(\"Lebar Persegi:\", lebar_CD)\n",
        "\n",
        "def hitung_luas_persegi(panjang, lebar):\n",
        "    luas = ...\n",
        "    return luas\n",
        "\n",
        "luas_ABCD = hitung_luas_persegi(panjang_AB, lebar_CD)\n",
        "print(\"Luas Persegi adalah\", luas_ABCD)"
      ]
    },
    {
      "cell_type": "markdown",
      "id": "d83e1133-dc10-470a-821f-f08f87af996a",
      "metadata": {
        "id": "d83e1133-dc10-470a-821f-f08f87af996a"
      },
      "source": [
        "## 6.3 Nilai Default"
      ]
    },
    {
      "cell_type": "markdown",
      "id": "eb72ef2e-e4f3-4341-a236-c372aeae4a51",
      "metadata": {
        "id": "eb72ef2e-e4f3-4341-a236-c372aeae4a51"
      },
      "source": [
        "> Python memungkinkan argumen fungsi memiliki nilai default. Jika fungsi dipanggil tanpa argumen, argumen mendapatkan nilai defaultnya."
      ]
    },
    {
      "cell_type": "code",
      "execution_count": null,
      "id": "cf793649-539f-4ae1-896e-967722894b9c",
      "metadata": {
        "id": "cf793649-539f-4ae1-896e-967722894b9c"
      },
      "outputs": [],
      "source": [
        "#kita deklarasi sebuah fungsi untuk menghitung bea masuk dengan tarif default 10%\n",
        "def bea_masuk(nilai_cif,tarif=10):\n",
        "    bm = nilai_cif*tarif/100\n",
        "    return bm"
      ]
    },
    {
      "cell_type": "code",
      "execution_count": null,
      "id": "acb0a286-45bb-4d98-8091-1c9b219ef5cb",
      "metadata": {
        "id": "acb0a286-45bb-4d98-8091-1c9b219ef5cb"
      },
      "outputs": [],
      "source": [
        "#jika kita masukan nilai cifnya saja kita akan menggunakan tarif default yaitu 10%\n",
        "bea_masuk(10000000)"
      ]
    },
    {
      "cell_type": "code",
      "execution_count": null,
      "id": "30b9649b-2242-4601-8f48-9d682adc6f96",
      "metadata": {
        "id": "30b9649b-2242-4601-8f48-9d682adc6f96"
      },
      "outputs": [],
      "source": [
        "#jika kita masukan juga nilai tarifnya maka akan dihitung berdasarkan tarif yang diberikan\n",
        "bea_masuk(1000000,5)"
      ]
    },
    {
      "cell_type": "markdown",
      "id": "8147714b-32f5-46d9-a62d-f62da80cc3a0",
      "metadata": {
        "id": "8147714b-32f5-46d9-a62d-f62da80cc3a0"
      },
      "source": [
        "## 6.4 Materi Pengayaan: Docstring"
      ]
    },
    {
      "cell_type": "markdown",
      "id": "730a6133-a678-40b2-90da-938fa36c1b60",
      "metadata": {
        "id": "730a6133-a678-40b2-90da-938fa36c1b60"
      },
      "source": [
        "> Docstring berguna untuk mendokumentasikan program agar mudah untuk dipahami dan digunakan."
      ]
    },
    {
      "cell_type": "code",
      "execution_count": null,
      "id": "62d17aff-1a93-41cc-b128-e113bb36f3b8",
      "metadata": {
        "ExecuteTime": {
          "end_time": "2023-08-21T01:12:55.933329Z",
          "start_time": "2023-08-21T01:12:55.926562Z"
        },
        "id": "62d17aff-1a93-41cc-b128-e113bb36f3b8"
      },
      "outputs": [],
      "source": [
        "def function_with_pep484_type_annotations(param1: int, param2: str) -> bool:\n",
        "    \"\"\"Example function with PEP 484 type annotations.\n",
        "\n",
        "    Args:\n",
        "        param1: The first parameter.\n",
        "        param2: The second parameter.\n",
        "\n",
        "    Returns:\n",
        "        The return value. True for success, False otherwise.\n",
        "\n",
        "    \"\"\"\n",
        "#sumber : https://sphinxcontrib-napoleon.readthedocs.io/en/latest/example_google.html"
      ]
    },
    {
      "cell_type": "code",
      "execution_count": null,
      "id": "28306773-b554-4c28-b3ee-01d9c7fc5909",
      "metadata": {
        "ExecuteTime": {
          "end_time": "2023-08-21T01:12:56.325828Z",
          "start_time": "2023-08-21T01:12:56.311792Z"
        },
        "id": "28306773-b554-4c28-b3ee-01d9c7fc5909"
      },
      "outputs": [],
      "source": [
        "#mari kita coba dengan fungsi bea masuk yang tadi\n",
        "def bea_masuk(nilai_cif,tarif=10):\n",
        "    \"\"\" ini adalah fungsi untuk menghitung nilai bea masuk\n",
        "    Args:\n",
        "        nilai_cif (int): nilai pabean yang terdiri dari nilai barang, asuransi dan biaya kirim\n",
        "        tarif (int)    : adalah tarif bea masuk sesuai peraturan berlaku default di 10%\n",
        "\n",
        "    Returns:\n",
        "        bm: nilai bea masuk yang ditagihkan\n",
        "    \"\"\"\n",
        "    bm = nilai_cif*tarif/100\n",
        "    return bm"
      ]
    },
    {
      "cell_type": "code",
      "execution_count": null,
      "id": "8776d813-fae9-43df-809c-d2d23031ea61",
      "metadata": {
        "ExecuteTime": {
          "end_time": "2023-08-21T01:12:57.409636Z",
          "start_time": "2023-08-21T01:12:57.397669Z"
        },
        "colab": {
          "base_uri": "https://localhost:8080/"
        },
        "id": "8776d813-fae9-43df-809c-d2d23031ea61",
        "outputId": "3ba732e0-b50a-46cf-d7d9-5152a490e1bb"
      },
      "outputs": [
        {
          "name": "stdout",
          "output_type": "stream",
          "text": [
            "Help on function bea_masuk in module __main__:\n",
            "\n",
            "bea_masuk(nilai_cif, tarif=10)\n",
            "    ini adalah fungsi untuk menghitung nilai bea masuk\n",
            "    Args:\n",
            "        nilai_cif (int): nilai pabean yang terdiri dari nilai barang, asuransi dan biaya kirim\n",
            "        tarif (int)    : adalah tarif bea masuk sesuai peraturan berlaku default di 10%\n",
            "    \n",
            "    Returns:\n",
            "        bm: nilai bea masuk yang ditagihkan\n",
            "\n"
          ]
        }
      ],
      "source": [
        "#kita bisa memanggil docstring dengan help\n",
        "help(bea_masuk)"
      ]
    },
    {
      "cell_type": "code",
      "execution_count": null,
      "id": "ba9e0d63-51ca-4d15-99d4-1c15e380acea",
      "metadata": {
        "ExecuteTime": {
          "end_time": "2023-08-21T01:13:02.923652Z",
          "start_time": "2023-08-21T01:13:02.904717Z"
        },
        "id": "ba9e0d63-51ca-4d15-99d4-1c15e380acea",
        "outputId": "e373217d-9bb2-47f0-8419-9bb8887f1438"
      },
      "outputs": [
        {
          "name": "stdout",
          "output_type": "stream",
          "text": [
            "\u001b[1;31mSignature:\u001b[0m \u001b[0mbea_masuk\u001b[0m\u001b[1;33m(\u001b[0m\u001b[0mnilai_cif\u001b[0m\u001b[1;33m,\u001b[0m \u001b[0mtarif\u001b[0m\u001b[1;33m=\u001b[0m\u001b[1;36m10\u001b[0m\u001b[1;33m)\u001b[0m\u001b[1;33m\u001b[0m\u001b[1;33m\u001b[0m\u001b[0m\n",
            "\u001b[1;31mDocstring:\u001b[0m\n",
            "ini adalah fungsi untuk menghitung nilai bea masuk\n",
            "Args:\n",
            "    nilai_cif (int): nilai pabean yang terdiri dari nilai barang, asuransi dan biaya kirim\n",
            "    tarif (int)    : adalah tarif bea masuk sesuai peraturan berlaku default di 10%\n",
            "\n",
            "Returns:\n",
            "    bm: nilai bea masuk yang ditagihkan\n",
            "\u001b[1;31mFile:\u001b[0m      c:\\users\\reza\\appdata\\local\\temp\\ipykernel_356\\624034340.py\n",
            "\u001b[1;31mType:\u001b[0m      function"
          ]
        }
      ],
      "source": [
        "?bea_masuk"
      ]
    },
    {
      "cell_type": "markdown",
      "id": "9f9f15d1-1a3a-45c3-87dd-e205af0d3778",
      "metadata": {
        "id": "9f9f15d1-1a3a-45c3-87dd-e205af0d3778"
      },
      "source": [
        "# 6.5 Materi Pengayaan: Fungsi Lambda"
      ]
    },
    {
      "cell_type": "code",
      "execution_count": null,
      "id": "004c50ec-804c-4160-84e9-3d6d2d34d1ba",
      "metadata": {
        "ExecuteTime": {
          "end_time": "2023-08-21T01:13:36.835244Z",
          "start_time": "2023-08-21T01:13:36.819202Z"
        },
        "id": "004c50ec-804c-4160-84e9-3d6d2d34d1ba"
      },
      "outputs": [],
      "source": [
        "#contoh kita membuat fungsi multiple yaitu x*2 kita definisikan sebagai berikut\n",
        "def multiple(x):\n",
        "    return x*2\n",
        "\n",
        "#jika kita buat dalam bentuk fungsi lambda maka menjadi\n",
        "multiple_2 = lambda x: x*2"
      ]
    },
    {
      "cell_type": "code",
      "execution_count": null,
      "id": "27d6a024-6c5c-4429-9cc4-1ebac11b1813",
      "metadata": {
        "ExecuteTime": {
          "end_time": "2023-08-21T01:13:41.864176Z",
          "start_time": "2023-08-21T01:13:41.857347Z"
        },
        "id": "27d6a024-6c5c-4429-9cc4-1ebac11b1813",
        "outputId": "7c416e68-ffba-47cb-e23d-5f8873dbdcd0"
      },
      "outputs": [
        {
          "data": {
            "text/plain": [
              "8"
            ]
          },
          "execution_count": 151,
          "metadata": {},
          "output_type": "execute_result"
        }
      ],
      "source": [
        "multiple(4)"
      ]
    },
    {
      "cell_type": "code",
      "execution_count": null,
      "id": "4a458ded-4025-4fca-a8f0-d1106b3a0648",
      "metadata": {
        "ExecuteTime": {
          "end_time": "2023-08-21T01:13:42.423683Z",
          "start_time": "2023-08-21T01:13:42.405745Z"
        },
        "id": "4a458ded-4025-4fca-a8f0-d1106b3a0648",
        "outputId": "1652cf33-4c96-4b80-eef3-06b7a98dbadd"
      },
      "outputs": [
        {
          "data": {
            "text/plain": [
              "8"
            ]
          },
          "execution_count": 152,
          "metadata": {},
          "output_type": "execute_result"
        }
      ],
      "source": [
        "multiple_2(4)"
      ]
    },
    {
      "cell_type": "code",
      "execution_count": null,
      "id": "e516e537-4f62-49e4-a5df-dbc21c57e248",
      "metadata": {
        "ExecuteTime": {
          "end_time": "2023-08-21T01:13:59.311991Z",
          "start_time": "2023-08-21T01:13:59.306691Z"
        },
        "id": "e516e537-4f62-49e4-a5df-dbc21c57e248",
        "outputId": "f18985d5-2692-4941-cc9c-08c837c09654"
      },
      "outputs": [
        {
          "data": {
            "text/plain": [
              "3"
            ]
          },
          "execution_count": 153,
          "metadata": {},
          "output_type": "execute_result"
        }
      ],
      "source": [
        "#contoh lainnya\n",
        "add = lambda x, y: x + y\n",
        "add(1,2)"
      ]
    }
  ],
  "metadata": {
    "celltoolbar": "Slideshow",
    "colab": {
      "collapsed_sections": [
        "be84989e-7bf0-41ee-86eb-8cbb49fec7c9",
        "62d7acc3-c441-4e36-9f69-ddb354402d19",
        "0d8ea216-5cbe-4e99-a4a3-708e7f4278c6",
        "89ab5faa-42b7-4c6c-8d91-2de0cdc540b6",
        "dc77a295-da1f-40a3-b61b-911857b875ef",
        "3201e288-c0e4-438d-9e4e-bf23eaad005e",
        "0b624327",
        "3181ee3e-2d4d-4ec2-82fd-b3cdd88b3177",
        "08e7da49-82c6-4d49-a1b0-b5337457bb70",
        "b024b6be-338f-40e5-a104-6cb23d29d7df",
        "77849af1-b9f7-4a00-bcc7-5f43e55acb72",
        "63b67f4d-42c9-4d7b-9c59-9608ca0c8fb7",
        "9f9f15d1-1a3a-45c3-87dd-e205af0d3778",
        "byVgLqCxFKgy"
      ],
      "provenance": [],
      "include_colab_link": true
    },
    "hide_input": false,
    "kernelspec": {
      "display_name": "Python 3 (ipykernel)",
      "language": "python",
      "name": "python3"
    },
    "language_info": {
      "codemirror_mode": {
        "name": "ipython",
        "version": 3
      },
      "file_extension": ".py",
      "mimetype": "text/x-python",
      "name": "python",
      "nbconvert_exporter": "python",
      "pygments_lexer": "ipython3",
      "version": "3.9.18"
    },
    "toc": {
      "base_numbering": 1,
      "nav_menu": {},
      "number_sections": true,
      "sideBar": true,
      "skip_h1_title": false,
      "title_cell": "Table of Contents",
      "title_sidebar": "Contents",
      "toc_cell": false,
      "toc_position": {},
      "toc_section_display": true,
      "toc_window_display": true
    },
    "toc-autonumbering": true,
    "toc-showcode": false
  },
  "nbformat": 4,
  "nbformat_minor": 5
}