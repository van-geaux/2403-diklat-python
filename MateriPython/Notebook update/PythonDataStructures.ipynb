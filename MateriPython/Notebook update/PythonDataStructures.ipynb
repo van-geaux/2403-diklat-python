{
 "cells": [
  {
   "cell_type": "markdown",
   "metadata": {
    "id": "eFBfsdqYGX1w"
   },
   "source": [
    "# PJJ Data Analytics Specialist : Materi Pemrograman Python"
   ]
  },
  {
   "cell_type": "markdown",
   "metadata": {
    "id": "mZ2SAYkeGqBS"
   },
   "source": [
    "## Pendahuluan\n",
    "Python merupakan bahasa pemrograman yang banyak digunakan baik dalam pengembangan aplikasi web, REST API, scientific programming, hingga data science.\n",
    "\n",
    "Python merupakan bahasa pemrograman yang dikembangkan oleh Guido Von Rossum pada tahun 1991. Python dapat dikenali dengan karakteristik berikut:\n",
    "\n",
    "\n",
    "1.   Menggunakan interpreter\n",
    "2.   Portable\n",
    "3.   Object Oriented\n",
    "4.   Interactive\n",
    "5.   Interface\n",
    "6.   Open source\n",
    "7.   Mudah dipahami dan digunakan\n",
    "\n",
    "\n",
    "\n"
   ]
  },
  {
   "cell_type": "markdown",
   "metadata": {
    "id": "u4CQbf8_oERD"
   },
   "source": [
    "Pemrograman adalah mengenai bagaimana memindahkan proses dan logika dalam pikiran kita ke dalam bentuk baris code yang dapat dijalankan.\n",
    "\n",
    "Belajar pemrograman dimulai dari membentuk cara berpikir kita tentang program hingga cara menuliskan baris kode yang seusai.\n",
    "\n",
    "Terdapat sebuah model berpikir tentang pemrograman yang disebut Sequence-Selection-Itteration.\n",
    "\n",
    "\n",
    "\n",
    "1.   Sequence : Menjalankan beberapa perintah pada waktu tertentu secara berurutan;\n",
    "2.   Selection : Menggunakan conditional statement semisal If else untuk menentukan operasi yang akan dilakukan pada berbagai kondisi yang berbeda;\n",
    "3.  Iteration : Melakukan operasi yang sama secara berulang.\n",
    "\n",
    "\n",
    "\n",
    "(Donald R. Sheehy, A First Course on Data Structure in Python)"
   ]
  },
  {
   "cell_type": "markdown",
   "metadata": {
    "id": "jmqlEpW0myCU"
   },
   "source": [
    "## Data Structures\n",
    "\n",
    "Python memiliki sejumlah struktur data. Struktur data dapat memuat banyak data bahkan dengan berbagai tipe data yang beragam. Struktur data berupa collection dalam pemrograman python adalah sebagai berikut:\n",
    "\n",
    "\n",
    "1.   List\n",
    "2.   Set\n",
    "3.   Tuple\n",
    "4.   Dictionary\n",
    "5.   Deque\n",
    "6.   Heap\n",
    "\n",
    "List dan dictionary merupakan struktur data yang paling banyak digunakan.\n",
    "\n"
   ]
  },
  {
   "cell_type": "markdown",
   "metadata": {
    "id": "fk57ZTYMt9oL"
   },
   "source": [
    "### Strings\n",
    "Strings adalah kumpulan karakter yang tersusun/ berurutan, digunakan untuk menyimpan teks.\n",
    "\n",
    "Strings dapat digabung dan dipecah."
   ]
  },
  {
   "cell_type": "code",
   "execution_count": 1,
   "metadata": {
    "id": "bJuaLOOOGWsn"
   },
   "outputs": [],
   "source": [
    "txt1 = \"Selamat datang\"\n",
    "txt2 = \"pada pelatihan Python\""
   ]
  },
  {
   "cell_type": "code",
   "execution_count": 2,
   "metadata": {
    "colab": {
     "base_uri": "https://localhost:8080/"
    },
    "id": "CHDk0uDwu5IN",
    "outputId": "c831cab2-2577-4329-beb8-24cd23e67544"
   },
   "outputs": [
    {
     "name": "stdout",
     "output_type": "stream",
     "text": [
      "Selamat datang pada pelatihan Python\n"
     ]
    }
   ],
   "source": [
    "txt3 = txt1 +\" \"+ txt2\n",
    "print(txt3)"
   ]
  },
  {
   "cell_type": "code",
   "execution_count": 3,
   "metadata": {},
   "outputs": [],
   "source": [
    "chars = txt3.split()"
   ]
  },
  {
   "cell_type": "code",
   "execution_count": 4,
   "metadata": {},
   "outputs": [
    {
     "data": {
      "text/plain": [
       "list"
      ]
     },
     "execution_count": 4,
     "metadata": {},
     "output_type": "execute_result"
    }
   ],
   "source": [
    "type(chars)"
   ]
  },
  {
   "cell_type": "markdown",
   "metadata": {
    "id": "SrOwc-iZv_5W"
   },
   "source": [
    "### List\n",
    "List adalah kumpulan objek yang tersusun berurutan. List dapat berisi banyak objek dengan tipe data yang beragam. List dapat juga menampung banyak objek list lainnya."
   ]
  },
  {
   "cell_type": "code",
   "execution_count": 5,
   "metadata": {
    "id": "9bKc_NoRxUNl"
   },
   "outputs": [],
   "source": [
    "daftar1 = []\n",
    "daftar1.append(1)\n",
    "daftar1.append(\"Aris Budi S\")"
   ]
  },
  {
   "cell_type": "code",
   "execution_count": 6,
   "metadata": {
    "id": "lw-hqmp_y5M-"
   },
   "outputs": [],
   "source": [
    "from datetime import datetime\n",
    "tgldaftar = datetime.strptime(\"07-07-2023\",\"%d-%m-%Y\")"
   ]
  },
  {
   "cell_type": "code",
   "execution_count": 7,
   "metadata": {},
   "outputs": [
    {
     "data": {
      "text/plain": [
       "datetime.datetime"
      ]
     },
     "execution_count": 7,
     "metadata": {},
     "output_type": "execute_result"
    }
   ],
   "source": [
    "type(tgldaftar)"
   ]
  },
  {
   "cell_type": "code",
   "execution_count": 9,
   "metadata": {},
   "outputs": [
    {
     "data": {
      "text/plain": [
       "'2023-07-07'"
      ]
     },
     "execution_count": 9,
     "metadata": {},
     "output_type": "execute_result"
    }
   ],
   "source": [
    "tgldaftar.strftime('%Y-%m-%d')"
   ]
  },
  {
   "cell_type": "code",
   "execution_count": 10,
   "metadata": {
    "id": "EH3WicjyzrL_"
   },
   "outputs": [],
   "source": [
    "daftar1.append(tgldaftar)"
   ]
  },
  {
   "cell_type": "code",
   "execution_count": 11,
   "metadata": {
    "id": "1_-PpGBv0T64"
   },
   "outputs": [],
   "source": [
    "dfnilai = [100,90,95,85,98]\n",
    "daftar1.append(dfnilai)"
   ]
  },
  {
   "cell_type": "code",
   "execution_count": 12,
   "metadata": {
    "colab": {
     "base_uri": "https://localhost:8080/"
    },
    "id": "YR5jiVdX0hYj",
    "outputId": "f56530c5-2f56-470d-d4dc-f8ebc5983e79"
   },
   "outputs": [
    {
     "data": {
      "text/plain": [
       "[1, 'Aris Budi S', datetime.datetime(2023, 7, 7, 0, 0), [100, 90, 95, 85, 98]]"
      ]
     },
     "execution_count": 12,
     "metadata": {},
     "output_type": "execute_result"
    }
   ],
   "source": [
    "daftar1"
   ]
  },
  {
   "cell_type": "code",
   "execution_count": 14,
   "metadata": {},
   "outputs": [
    {
     "data": {
      "text/plain": [
       "'Aris Budi S'"
      ]
     },
     "execution_count": 14,
     "metadata": {},
     "output_type": "execute_result"
    }
   ],
   "source": [
    "daftar1[1]"
   ]
  },
  {
   "cell_type": "code",
   "execution_count": 15,
   "metadata": {
    "id": "ecvLYHpq0on-"
   },
   "outputs": [],
   "source": [
    "daftar1[1] = 'Aris Budi Santoso'"
   ]
  },
  {
   "cell_type": "code",
   "execution_count": 16,
   "metadata": {
    "colab": {
     "base_uri": "https://localhost:8080/"
    },
    "id": "iMpAP-lX0xcJ",
    "outputId": "0f0c4429-7e31-4abd-d943-c41dd697955c"
   },
   "outputs": [
    {
     "data": {
      "text/plain": [
       "[1,\n",
       " 'Aris Budi Santoso',\n",
       " datetime.datetime(2023, 7, 7, 0, 0),\n",
       " [100, 90, 95, 85, 98]]"
      ]
     },
     "execution_count": 16,
     "metadata": {},
     "output_type": "execute_result"
    }
   ],
   "source": [
    "daftar1"
   ]
  },
  {
   "cell_type": "code",
   "execution_count": 17,
   "metadata": {
    "id": "srMEHuTy3AnY"
   },
   "outputs": [],
   "source": [
    "daftar2 = [['SD','SMP','SMU','DIII','DIV','S2'],['2c', '3a','3b']]"
   ]
  },
  {
   "cell_type": "code",
   "execution_count": 18,
   "metadata": {
    "id": "VfEppDet3hER"
   },
   "outputs": [],
   "source": [
    "daftar1.extend(daftar2)"
   ]
  },
  {
   "cell_type": "code",
   "execution_count": 19,
   "metadata": {
    "colab": {
     "base_uri": "https://localhost:8080/"
    },
    "id": "CUmRyCnm30ak",
    "outputId": "e08d527d-1034-443b-f9ab-8c0a5938d435"
   },
   "outputs": [
    {
     "data": {
      "text/plain": [
       "[1,\n",
       " 'Aris Budi Santoso',\n",
       " datetime.datetime(2023, 7, 7, 0, 0),\n",
       " [100, 90, 95, 85, 98],\n",
       " ['SD', 'SMP', 'SMU', 'DIII', 'DIV', 'S2'],\n",
       " ['2c', '3a', '3b']]"
      ]
     },
     "execution_count": 19,
     "metadata": {},
     "output_type": "execute_result"
    }
   ],
   "source": [
    "daftar1"
   ]
  },
  {
   "cell_type": "code",
   "execution_count": 20,
   "metadata": {},
   "outputs": [
    {
     "data": {
      "text/plain": [
       "6"
      ]
     },
     "execution_count": 20,
     "metadata": {},
     "output_type": "execute_result"
    }
   ],
   "source": [
    "len(daftar1)"
   ]
  },
  {
   "cell_type": "code",
   "execution_count": 22,
   "metadata": {},
   "outputs": [
    {
     "data": {
      "text/plain": [
       "['Aris Budi Santoso', datetime.datetime(2023, 7, 7, 0, 0)]"
      ]
     },
     "execution_count": 22,
     "metadata": {},
     "output_type": "execute_result"
    }
   ],
   "source": [
    "daftar1[1:3]"
   ]
  },
  {
   "cell_type": "code",
   "execution_count": 23,
   "metadata": {
    "id": "KaMwqkF9yIpk"
   },
   "outputs": [],
   "source": [
    "#Mengurutkan List of integers\n",
    "import random\n",
    "lsrandom = [random.randint(a,100) for a in range(20)]"
   ]
  },
  {
   "cell_type": "code",
   "execution_count": 24,
   "metadata": {
    "colab": {
     "base_uri": "https://localhost:8080/"
    },
    "id": "6ZqdSLHYzWPI",
    "outputId": "ab298a7b-a928-4f04-c7d7-2bac4874b105"
   },
   "outputs": [
    {
     "data": {
      "text/plain": [
       "[37,\n",
       " 38,\n",
       " 11,\n",
       " 77,\n",
       " 83,\n",
       " 46,\n",
       " 88,\n",
       " 41,\n",
       " 53,\n",
       " 66,\n",
       " 79,\n",
       " 67,\n",
       " 30,\n",
       " 29,\n",
       " 40,\n",
       " 59,\n",
       " 35,\n",
       " 80,\n",
       " 44,\n",
       " 67]"
      ]
     },
     "execution_count": 24,
     "metadata": {},
     "output_type": "execute_result"
    }
   ],
   "source": [
    "lsrandom"
   ]
  },
  {
   "cell_type": "code",
   "execution_count": 26,
   "metadata": {
    "colab": {
     "base_uri": "https://localhost:8080/"
    },
    "id": "0xCWxl_YzY_e",
    "outputId": "c292e6df-f1bf-4de0-80ef-c15451ff532b"
   },
   "outputs": [
    {
     "data": {
      "text/plain": [
       "[88,\n",
       " 83,\n",
       " 80,\n",
       " 79,\n",
       " 77,\n",
       " 67,\n",
       " 67,\n",
       " 66,\n",
       " 59,\n",
       " 53,\n",
       " 46,\n",
       " 44,\n",
       " 41,\n",
       " 40,\n",
       " 38,\n",
       " 37,\n",
       " 35,\n",
       " 30,\n",
       " 29,\n",
       " 11]"
      ]
     },
     "execution_count": 26,
     "metadata": {},
     "output_type": "execute_result"
    }
   ],
   "source": [
    "lsrandom.sort(reverse=True)\n",
    "lsrandom"
   ]
  },
  {
   "cell_type": "code",
   "execution_count": 27,
   "metadata": {
    "colab": {
     "base_uri": "https://localhost:8080/"
    },
    "id": "eIJk8KHQzgqQ",
    "outputId": "24f5d86e-7053-4ccf-d869-efe147276f5e"
   },
   "outputs": [
    {
     "data": {
      "text/plain": [
       "[88,\n",
       " 83,\n",
       " 80,\n",
       " 79,\n",
       " 77,\n",
       " 67,\n",
       " 67,\n",
       " 66,\n",
       " 59,\n",
       " 53,\n",
       " 46,\n",
       " 44,\n",
       " 41,\n",
       " 40,\n",
       " 38,\n",
       " 37,\n",
       " 35,\n",
       " 30,\n",
       " 29,\n",
       " 11]"
      ]
     },
     "execution_count": 27,
     "metadata": {},
     "output_type": "execute_result"
    }
   ],
   "source": [
    "sorted(lsrandom, reverse=True)"
   ]
  },
  {
   "cell_type": "code",
   "execution_count": 29,
   "metadata": {
    "id": "MwGRKACg1TP5"
   },
   "outputs": [],
   "source": [
    "#Mengurutkan list of string\n",
    "import string"
   ]
  },
  {
   "cell_type": "code",
   "execution_count": 30,
   "metadata": {
    "id": "tXBuawB11csx"
   },
   "outputs": [],
   "source": [
    "ranstrings = [''.join(random.choices(string.ascii_lowercase, k=5)) for a in range(100)]"
   ]
  },
  {
   "cell_type": "code",
   "execution_count": 31,
   "metadata": {
    "colab": {
     "base_uri": "https://localhost:8080/"
    },
    "id": "kw79gx_s2n19",
    "outputId": "27397b56-c516-4b9c-9997-b2da9f51f6a5"
   },
   "outputs": [
    {
     "data": {
      "text/plain": [
       "['hqaon',\n",
       " 'qtkjx',\n",
       " 'zemvz',\n",
       " 'etafv',\n",
       " 'rfmqc',\n",
       " 'gztkq',\n",
       " 'dotsl',\n",
       " 'fwqrd',\n",
       " 'hdxif',\n",
       " 'dxchj']"
      ]
     },
     "execution_count": 31,
     "metadata": {},
     "output_type": "execute_result"
    }
   ],
   "source": [
    "ranstrings[:10]"
   ]
  },
  {
   "cell_type": "code",
   "execution_count": 34,
   "metadata": {
    "id": "DfSEyhSi3Boh"
   },
   "outputs": [],
   "source": [
    "ranstrings.sort(reverse=True)"
   ]
  },
  {
   "cell_type": "code",
   "execution_count": 35,
   "metadata": {
    "colab": {
     "base_uri": "https://localhost:8080/"
    },
    "id": "D8seozZP3Oib",
    "outputId": "ce9be86c-6296-4860-920b-918625a26422"
   },
   "outputs": [
    {
     "data": {
      "text/plain": [
       "['zihbf',\n",
       " 'zemvz',\n",
       " 'zdjdu',\n",
       " 'ypuqt',\n",
       " 'ypgel',\n",
       " 'xtdev',\n",
       " 'xfzju',\n",
       " 'xeagv',\n",
       " 'wufgf',\n",
       " 'wnuia']"
      ]
     },
     "execution_count": 35,
     "metadata": {},
     "output_type": "execute_result"
    }
   ],
   "source": [
    "ranstrings[:10]"
   ]
  },
  {
   "cell_type": "markdown",
   "metadata": {
    "id": "6Jcp1WWw06Qq"
   },
   "source": [
    "### Set\n",
    "Kumpulan objek tanpa ada duplikat nilai. Set bersifat tidak berurutan sesuai input. Set dapat berisi objek dengan tipe data beragam. Set bersifat tidak bisa diubah nilainya (immutable)."
   ]
  },
  {
   "cell_type": "code",
   "execution_count": 36,
   "metadata": {
    "id": "InIYXbgs01t1"
   },
   "outputs": [],
   "source": [
    "set1 = {5,4,3,3,3,3}"
   ]
  },
  {
   "cell_type": "code",
   "execution_count": 37,
   "metadata": {
    "colab": {
     "base_uri": "https://localhost:8080/"
    },
    "id": "KbiAewNL1kL1",
    "outputId": "4acdd7ce-b603-4ead-b147-e46dfadbcbad"
   },
   "outputs": [
    {
     "data": {
      "text/plain": [
       "{3, 4, 5}"
      ]
     },
     "execution_count": 37,
     "metadata": {},
     "output_type": "execute_result"
    }
   ],
   "source": [
    "set1"
   ]
  },
  {
   "cell_type": "code",
   "execution_count": 38,
   "metadata": {},
   "outputs": [],
   "source": [
    "set1.add(5)"
   ]
  },
  {
   "cell_type": "code",
   "execution_count": 39,
   "metadata": {},
   "outputs": [
    {
     "data": {
      "text/plain": [
       "{3, 4, 5}"
      ]
     },
     "execution_count": 39,
     "metadata": {},
     "output_type": "execute_result"
    }
   ],
   "source": [
    "set1"
   ]
  },
  {
   "cell_type": "code",
   "execution_count": 40,
   "metadata": {
    "id": "5HOtbvxl1wR1"
   },
   "outputs": [],
   "source": [
    "set1.add('a')"
   ]
  },
  {
   "cell_type": "code",
   "execution_count": 41,
   "metadata": {
    "id": "GD7bmYCA2Ort"
   },
   "outputs": [],
   "source": [
    "set1.add(tgldaftar)"
   ]
  },
  {
   "cell_type": "code",
   "execution_count": 42,
   "metadata": {},
   "outputs": [
    {
     "data": {
      "text/plain": [
       "{datetime.datetime(2023, 7, 7, 0, 0), 3, 4, 5, 'a'}"
      ]
     },
     "execution_count": 42,
     "metadata": {},
     "output_type": "execute_result"
    }
   ],
   "source": [
    "set1"
   ]
  },
  {
   "cell_type": "code",
   "execution_count": 43,
   "metadata": {
    "id": "e_37HQ7X2jsI"
   },
   "outputs": [],
   "source": [
    "set2 = {1,2,3}"
   ]
  },
  {
   "cell_type": "code",
   "execution_count": 44,
   "metadata": {
    "id": "9z_DAwra2Y6D"
   },
   "outputs": [],
   "source": [
    "set3 = set1.union(set2)"
   ]
  },
  {
   "cell_type": "code",
   "execution_count": 45,
   "metadata": {
    "colab": {
     "base_uri": "https://localhost:8080/"
    },
    "id": "Txqkh9OB2iJg",
    "outputId": "dd31bbe3-34ee-4dac-aced-8944dfb5b24a"
   },
   "outputs": [
    {
     "data": {
      "text/plain": [
       "{1, 2, datetime.datetime(2023, 7, 7, 0, 0), 3, 4, 5, 'a'}"
      ]
     },
     "execution_count": 45,
     "metadata": {},
     "output_type": "execute_result"
    }
   ],
   "source": [
    "set3"
   ]
  },
  {
   "cell_type": "code",
   "execution_count": 46,
   "metadata": {
    "id": "3K6LSiv34QZS"
   },
   "outputs": [],
   "source": [
    "set1.update('A')"
   ]
  },
  {
   "cell_type": "code",
   "execution_count": 47,
   "metadata": {
    "colab": {
     "base_uri": "https://localhost:8080/"
    },
    "id": "T0MuoaTK4oP0",
    "outputId": "6842af84-b042-4061-a58f-021581b3746b"
   },
   "outputs": [
    {
     "data": {
      "text/plain": [
       "{datetime.datetime(2023, 7, 7, 0, 0), 3, 4, 5, 'A', 'a'}"
      ]
     },
     "execution_count": 47,
     "metadata": {},
     "output_type": "execute_result"
    }
   ],
   "source": [
    "set1"
   ]
  },
  {
   "cell_type": "code",
   "execution_count": 48,
   "metadata": {
    "colab": {
     "base_uri": "https://localhost:8080/"
    },
    "id": "lNgSzX8Z4srm",
    "outputId": "4e704ac1-f33d-408d-8227-f616ff35936e"
   },
   "outputs": [
    {
     "data": {
      "text/plain": [
       "{1, 2, datetime.datetime(2023, 7, 7, 0, 0), 3, 4, 5, 'a'}"
      ]
     },
     "execution_count": 48,
     "metadata": {},
     "output_type": "execute_result"
    }
   ],
   "source": [
    "set3"
   ]
  },
  {
   "cell_type": "markdown",
   "metadata": {
    "id": "tVX5oI-d4JXM"
   },
   "source": [
    "### Dictionary\n",
    "Dictionary merupakan kumpulan objek yang berupa pasangan key dan value. Key harus berupa nilai yang unik dan namun value tidak harus unik dan dapat berupa objek dengan berbagai tipe data. Key bersifat immutable/ tidak dapat diubah."
   ]
  },
  {
   "cell_type": "code",
   "execution_count": 49,
   "metadata": {
    "id": "2CXu4G8U5vip"
   },
   "outputs": [],
   "source": [
    "dict1 = dict()\n",
    "dict1['SD'] = 'Sekolah Dasar'\n",
    "dict1['SMP'] = 'Sekolah Menengah Pertama'\n",
    "dict1['SMA'] = 'Sekolah Menengah Atas'\n",
    "dict1['DIII'] = 'Diploma III atau Akademi'"
   ]
  },
  {
   "cell_type": "code",
   "execution_count": 50,
   "metadata": {
    "colab": {
     "base_uri": "https://localhost:8080/"
    },
    "id": "x7dD5KQw6JeW",
    "outputId": "9b13838c-4447-4e50-bf75-217d1eb28344"
   },
   "outputs": [
    {
     "data": {
      "text/plain": [
       "{'SD': 'Sekolah Dasar',\n",
       " 'SMP': 'Sekolah Menengah Pertama',\n",
       " 'SMA': 'Sekolah Menengah Atas',\n",
       " 'DIII': 'Diploma III atau Akademi'}"
      ]
     },
     "execution_count": 50,
     "metadata": {},
     "output_type": "execute_result"
    }
   ],
   "source": [
    "dict1"
   ]
  },
  {
   "cell_type": "code",
   "execution_count": 51,
   "metadata": {
    "colab": {
     "base_uri": "https://localhost:8080/",
     "height": 35
    },
    "id": "fUj4YHDR6MwO",
    "outputId": "46d74bdc-9f73-4550-96c9-99e42470261c"
   },
   "outputs": [
    {
     "data": {
      "text/plain": [
       "'Sekolah Menengah Pertama'"
      ]
     },
     "execution_count": 51,
     "metadata": {},
     "output_type": "execute_result"
    }
   ],
   "source": [
    "dict1.get('SMP')"
   ]
  },
  {
   "cell_type": "code",
   "execution_count": 52,
   "metadata": {
    "id": "TYQkiLlZ62gr"
   },
   "outputs": [],
   "source": [
    "dict1['SMA'] = 'Sekolah Menengah Tingkat Atas'"
   ]
  },
  {
   "cell_type": "code",
   "execution_count": 53,
   "metadata": {
    "colab": {
     "base_uri": "https://localhost:8080/"
    },
    "id": "09g0XDZs7A55",
    "outputId": "be794a1d-8421-4927-e6a9-14909c181247"
   },
   "outputs": [
    {
     "data": {
      "text/plain": [
       "{'SD': 'Sekolah Dasar',\n",
       " 'SMP': 'Sekolah Menengah Pertama',\n",
       " 'SMA': 'Sekolah Menengah Tingkat Atas',\n",
       " 'DIII': 'Diploma III atau Akademi'}"
      ]
     },
     "execution_count": 53,
     "metadata": {},
     "output_type": "execute_result"
    }
   ],
   "source": [
    "dict1"
   ]
  },
  {
   "cell_type": "code",
   "execution_count": 54,
   "metadata": {
    "colab": {
     "base_uri": "https://localhost:8080/",
     "height": 35
    },
    "id": "m4eEixjM7PvM",
    "outputId": "685cee51-e25a-4807-9613-d7a4c8d0ad43"
   },
   "outputs": [
    {
     "data": {
      "text/plain": [
       "'Diploma III atau Akademi'"
      ]
     },
     "execution_count": 54,
     "metadata": {},
     "output_type": "execute_result"
    }
   ],
   "source": [
    "dict1.pop('DIII')"
   ]
  },
  {
   "cell_type": "code",
   "execution_count": 55,
   "metadata": {
    "colab": {
     "base_uri": "https://localhost:8080/"
    },
    "id": "KigeAS2w7rZ4",
    "outputId": "8056edb7-850e-4c7a-dbde-0ff9441a52a3"
   },
   "outputs": [
    {
     "data": {
      "text/plain": [
       "{'SD': 'Sekolah Dasar',\n",
       " 'SMP': 'Sekolah Menengah Pertama',\n",
       " 'SMA': 'Sekolah Menengah Tingkat Atas'}"
      ]
     },
     "execution_count": 55,
     "metadata": {},
     "output_type": "execute_result"
    }
   ],
   "source": [
    "dict1"
   ]
  },
  {
   "cell_type": "code",
   "execution_count": 56,
   "metadata": {},
   "outputs": [],
   "source": [
    "dict1['D3'] = 'Diploma 3 atau akademi'"
   ]
  },
  {
   "cell_type": "code",
   "execution_count": 57,
   "metadata": {},
   "outputs": [
    {
     "data": {
      "text/plain": [
       "{'SD': 'Sekolah Dasar',\n",
       " 'SMP': 'Sekolah Menengah Pertama',\n",
       " 'SMA': 'Sekolah Menengah Tingkat Atas',\n",
       " 'D3': 'Diploma 3 atau akademi'}"
      ]
     },
     "execution_count": 57,
     "metadata": {},
     "output_type": "execute_result"
    }
   ],
   "source": [
    "dict1"
   ]
  },
  {
   "cell_type": "code",
   "execution_count": 58,
   "metadata": {
    "id": "1eL46PV33uA0"
   },
   "outputs": [],
   "source": [
    "# Membuat dictionary dengan menggunakan random string\n",
    "dicran = dict()\n",
    "for k in range(10):\n",
    "  v = ''.join(random.choices(string.ascii_lowercase, k=5))\n",
    "  dicran[k] = v"
   ]
  },
  {
   "cell_type": "code",
   "execution_count": 59,
   "metadata": {
    "colab": {
     "base_uri": "https://localhost:8080/"
    },
    "id": "haply_oK4mCc",
    "outputId": "e200b364-3e63-4df3-b8c4-f2151d0aa8f6"
   },
   "outputs": [
    {
     "data": {
      "text/plain": [
       "{0: 'atkwq',\n",
       " 1: 'rirep',\n",
       " 2: 'cwbqw',\n",
       " 3: 'gjtuw',\n",
       " 4: 'erqdu',\n",
       " 5: 'apsta',\n",
       " 6: 'gturx',\n",
       " 7: 'xznld',\n",
       " 8: 'tmuuo',\n",
       " 9: 'pvzsq'}"
      ]
     },
     "execution_count": 59,
     "metadata": {},
     "output_type": "execute_result"
    }
   ],
   "source": [
    "dicran"
   ]
  },
  {
   "cell_type": "code",
   "execution_count": 60,
   "metadata": {
    "id": "T-_j93wy4qyf"
   },
   "outputs": [],
   "source": [
    "# sort descending berdasarkan key\n",
    "desckey = sorted(dicran.items(), key=lambda x:x[0], reverse=True)\n",
    "desckey_dic = dict(desckey)"
   ]
  },
  {
   "cell_type": "code",
   "execution_count": 61,
   "metadata": {
    "colab": {
     "base_uri": "https://localhost:8080/"
    },
    "id": "v1RY_jtp6y5o",
    "outputId": "254bcda4-4040-4386-f0fa-2d2cea1480c6"
   },
   "outputs": [
    {
     "data": {
      "text/plain": [
       "[(9, 'pvzsq'),\n",
       " (8, 'tmuuo'),\n",
       " (7, 'xznld'),\n",
       " (6, 'gturx'),\n",
       " (5, 'apsta'),\n",
       " (4, 'erqdu'),\n",
       " (3, 'gjtuw'),\n",
       " (2, 'cwbqw'),\n",
       " (1, 'rirep'),\n",
       " (0, 'atkwq')]"
      ]
     },
     "execution_count": 61,
     "metadata": {},
     "output_type": "execute_result"
    }
   ],
   "source": [
    "desckey"
   ]
  },
  {
   "cell_type": "code",
   "execution_count": 62,
   "metadata": {},
   "outputs": [
    {
     "data": {
      "text/plain": [
       "{9: 'pvzsq',\n",
       " 8: 'tmuuo',\n",
       " 7: 'xznld',\n",
       " 6: 'gturx',\n",
       " 5: 'apsta',\n",
       " 4: 'erqdu',\n",
       " 3: 'gjtuw',\n",
       " 2: 'cwbqw',\n",
       " 1: 'rirep',\n",
       " 0: 'atkwq'}"
      ]
     },
     "execution_count": 62,
     "metadata": {},
     "output_type": "execute_result"
    }
   ],
   "source": [
    "desckey_dic"
   ]
  },
  {
   "cell_type": "code",
   "execution_count": 63,
   "metadata": {
    "id": "9q_J2h6X6712"
   },
   "outputs": [],
   "source": [
    "# sort descending berdasarkan value\n",
    "descval = sorted(dicran.items(), key=lambda x:x[1], reverse=True)\n",
    "descval_dic = dict(descval)"
   ]
  },
  {
   "cell_type": "code",
   "execution_count": 64,
   "metadata": {
    "colab": {
     "base_uri": "https://localhost:8080/"
    },
    "id": "qAPsX4op7FOS",
    "outputId": "36a2cc78-9f90-434c-bb4c-4504764704b8"
   },
   "outputs": [
    {
     "data": {
      "text/plain": [
       "{7: 'xznld',\n",
       " 8: 'tmuuo',\n",
       " 1: 'rirep',\n",
       " 9: 'pvzsq',\n",
       " 6: 'gturx',\n",
       " 3: 'gjtuw',\n",
       " 4: 'erqdu',\n",
       " 2: 'cwbqw',\n",
       " 0: 'atkwq',\n",
       " 5: 'apsta'}"
      ]
     },
     "execution_count": 64,
     "metadata": {},
     "output_type": "execute_result"
    }
   ],
   "source": [
    "descval_dic"
   ]
  },
  {
   "cell_type": "markdown",
   "metadata": {
    "id": "WWgaYsJLy2Ih"
   },
   "source": [
    "### Tuple\n",
    "Tuple adalah kumpulan objek yang tersusun berurutan. Tuple bersifat immutable"
   ]
  },
  {
   "cell_type": "code",
   "execution_count": 65,
   "metadata": {
    "id": "UqAp2AYRy5Bz"
   },
   "outputs": [],
   "source": [
    "tup1 = (1,1,2,3,\"a\",tgldaftar)"
   ]
  },
  {
   "cell_type": "code",
   "execution_count": 66,
   "metadata": {
    "colab": {
     "base_uri": "https://localhost:8080/"
    },
    "id": "PIXAAudmzAXh",
    "outputId": "ee3956f7-44bb-4cd0-ceba-2ff87cab300f"
   },
   "outputs": [
    {
     "name": "stdout",
     "output_type": "stream",
     "text": [
      "(1, 1, 2, 3, 'a', datetime.datetime(2023, 7, 7, 0, 0))\n"
     ]
    }
   ],
   "source": [
    "print(tup1)"
   ]
  },
  {
   "cell_type": "markdown",
   "metadata": {
    "id": "yyH0hTLh3LO6"
   },
   "source": [
    "### Deque\n",
    "Deque (doubly ended que) bentuk kumpulan data yang memiliki keunggulan lebih cepat dalam operasi menambahkan(append) dan menghilangkan(pop) dibandingkan List"
   ]
  },
  {
   "cell_type": "code",
   "execution_count": 67,
   "metadata": {
    "id": "n7HJX4JU3vNM"
   },
   "outputs": [],
   "source": [
    "from collections import deque"
   ]
  },
  {
   "cell_type": "code",
   "execution_count": 68,
   "metadata": {
    "id": "0Z4Fkq7C30A_"
   },
   "outputs": [],
   "source": [
    "de = deque([1, 2, 3])"
   ]
  },
  {
   "cell_type": "code",
   "execution_count": 69,
   "metadata": {
    "id": "l1np8fTA3-TJ"
   },
   "outputs": [],
   "source": [
    "de.append(4)"
   ]
  },
  {
   "cell_type": "code",
   "execution_count": 70,
   "metadata": {
    "colab": {
     "base_uri": "https://localhost:8080/"
    },
    "id": "yDeX53wU4B1H",
    "outputId": "ceb1f90c-c36b-40e5-d786-2f262cc7d933"
   },
   "outputs": [
    {
     "data": {
      "text/plain": [
       "deque([1, 2, 3, 4])"
      ]
     },
     "execution_count": 70,
     "metadata": {},
     "output_type": "execute_result"
    }
   ],
   "source": [
    "de"
   ]
  },
  {
   "cell_type": "markdown",
   "metadata": {
    "id": "Gc9kITeg4FDB"
   },
   "source": [
    "### Heap\n",
    "Heap merupakan struktur data yang digunakan untuk kebutuhan antrian dengan prioritas"
   ]
  },
  {
   "cell_type": "code",
   "execution_count": 71,
   "metadata": {
    "id": "GHOu9YcR4h49"
   },
   "outputs": [],
   "source": [
    "import heapq"
   ]
  },
  {
   "cell_type": "code",
   "execution_count": 72,
   "metadata": {
    "id": "4Viwvinq4oUn"
   },
   "outputs": [],
   "source": [
    "ls = [5, 7, 9, 1, 3]"
   ]
  },
  {
   "cell_type": "code",
   "execution_count": 73,
   "metadata": {
    "id": "J1yphVOS4tVI"
   },
   "outputs": [],
   "source": [
    "heapq.heapify(ls)"
   ]
  },
  {
   "cell_type": "code",
   "execution_count": 74,
   "metadata": {
    "id": "Zvyf6PcF43h-"
   },
   "outputs": [],
   "source": [
    "heapq.heappush(ls, 4)"
   ]
  },
  {
   "cell_type": "code",
   "execution_count": 75,
   "metadata": {},
   "outputs": [
    {
     "data": {
      "text/plain": [
       "<module 'heapq' from 'D:\\\\INSTALASI\\\\anaconda3\\\\lib\\\\heapq.py'>"
      ]
     },
     "execution_count": 75,
     "metadata": {},
     "output_type": "execute_result"
    }
   ],
   "source": []
  },
  {
   "cell_type": "markdown",
   "metadata": {
    "id": "Gq_b6KC8_7j3"
   },
   "source": [
    "## Control Flow"
   ]
  },
  {
   "cell_type": "markdown",
   "metadata": {
    "id": "8usKAJVS_7c_"
   },
   "source": [
    "### Sequence"
   ]
  },
  {
   "cell_type": "code",
   "execution_count": 76,
   "metadata": {
    "colab": {
     "base_uri": "https://localhost:8080/"
    },
    "id": "gSPCrjO6_6GY",
    "outputId": "d52d8b3d-0cfd-4e69-fec8-0e20b1ac9baf"
   },
   "outputs": [
    {
     "name": "stdout",
     "output_type": "stream",
     "text": [
      "dari baris ke 1\n",
      "dari baris ke 2\n"
     ]
    }
   ],
   "source": [
    "var1 = 1\n",
    "print(\"dari baris ke \"+str(var1))\n",
    "var1 = 2\n",
    "print(\"dari baris ke \"+str(var1))\n"
   ]
  },
  {
   "cell_type": "markdown",
   "metadata": {
    "id": "E5P-hVENAkQ0"
   },
   "source": [
    "### Selection"
   ]
  },
  {
   "cell_type": "markdown",
   "metadata": {
    "id": "BEzLis2lDM9m"
   },
   "source": [
    "#### If Else"
   ]
  },
  {
   "cell_type": "code",
   "execution_count": 81,
   "metadata": {
    "colab": {
     "base_uri": "https://localhost:8080/"
    },
    "id": "744S5MXlAji2",
    "outputId": "0ae20911-5004-48a7-b154-1aec47cbe763"
   },
   "outputs": [
    {
     "name": "stdout",
     "output_type": "stream",
     "text": [
      "ditemukan\n"
     ]
    }
   ],
   "source": [
    "cek = 'ada'\n",
    "if(cek == 'ada'):\n",
    "  print('ditemukan')\n",
    "elif(cek == 'tidak ada'):\n",
    "  print('tidak ditemukan')\n",
    "else:\n",
    "  print('tidak diketahui')"
   ]
  },
  {
   "cell_type": "markdown",
   "metadata": {
    "id": "EDQRImlRDPyh"
   },
   "source": [
    "#### Match Case"
   ]
  },
  {
   "cell_type": "code",
   "execution_count": 82,
   "metadata": {
    "colab": {
     "base_uri": "https://localhost:8080/"
    },
    "id": "NwdB4oAMCzIX",
    "outputId": "d898c721-5dd6-4a34-f2d0-90cc541bb57a"
   },
   "outputs": [
    {
     "name": "stdout",
     "output_type": "stream",
     "text": [
      "ditemukan\n"
     ]
    }
   ],
   "source": [
    "match cek:\n",
    "  case \"ada\":\n",
    "    print(\"ditemukan\")\n",
    "  case \"tidak ada\":\n",
    "    print(\"tidak ditemukan\")\n",
    "  case _:\n",
    "    print(\"tidak diketahui\")"
   ]
  },
  {
   "cell_type": "markdown",
   "metadata": {
    "id": "ZJDt3K3DDa7O"
   },
   "source": [
    "### Iteration/ Loop"
   ]
  },
  {
   "cell_type": "markdown",
   "metadata": {
    "id": "mnNSGHCIvE5r"
   },
   "source": [
    "#### Looping dari Data Berupa List"
   ]
  },
  {
   "cell_type": "code",
   "execution_count": 83,
   "metadata": {
    "colab": {
     "base_uri": "https://localhost:8080/"
    },
    "id": "zefPt0jMDcdt",
    "outputId": "e79a5971-817f-4b15-f1f9-0c974c3089b9"
   },
   "outputs": [
    {
     "name": "stdout",
     "output_type": "stream",
     "text": [
      "1\n",
      "Aris Budi Santoso\n",
      "2023-07-07 00:00:00\n",
      "[100, 90, 95, 85, 98]\n",
      "['SD', 'SMP', 'SMU', 'DIII', 'DIV', 'S2']\n",
      "['2c', '3a', '3b']\n"
     ]
    }
   ],
   "source": [
    "for a in daftar1:\n",
    "  print(a)"
   ]
  },
  {
   "cell_type": "code",
   "execution_count": 84,
   "metadata": {
    "colab": {
     "base_uri": "https://localhost:8080/"
    },
    "id": "E4LsZ2hPwofR",
    "outputId": "72a122c0-abd8-4e75-81ca-06b4730599e8"
   },
   "outputs": [
    {
     "name": "stdout",
     "output_type": "stream",
     "text": [
      "1\n",
      "Aris Budi Santoso\n",
      "2023-07-07 00:00:00\n",
      "[100, 90, 95, 85, 98]\n",
      "['SD', 'SMP', 'SMU', 'DIII', 'DIV', 'S2']\n",
      "['2c', '3a', '3b']\n"
     ]
    }
   ],
   "source": [
    "for i in range(len(daftar1)):\n",
    "  print(daftar1[i])"
   ]
  },
  {
   "cell_type": "markdown",
   "metadata": {
    "id": "v7F2iFCSwejf"
   },
   "source": [
    "#### Looping Data Berupa Set"
   ]
  },
  {
   "cell_type": "code",
   "execution_count": 85,
   "metadata": {
    "colab": {
     "base_uri": "https://localhost:8080/"
    },
    "id": "OIECHjlqwhWN",
    "outputId": "f802221d-9037-4210-a932-19f6dfc29032"
   },
   "outputs": [
    {
     "name": "stdout",
     "output_type": "stream",
     "text": [
      "3\n",
      "4\n",
      "5\n",
      "2023-07-07 00:00:00\n",
      "A\n",
      "a\n"
     ]
    }
   ],
   "source": [
    "for s in set1:\n",
    "  print(s)"
   ]
  },
  {
   "cell_type": "markdown",
   "metadata": {
    "id": "YA_nWj6YvXdD"
   },
   "source": [
    "#### Looping dari Data Berupa Dictionary"
   ]
  },
  {
   "cell_type": "code",
   "execution_count": 86,
   "metadata": {
    "colab": {
     "base_uri": "https://localhost:8080/"
    },
    "id": "WYrt1YyIva4C",
    "outputId": "3ac25dce-946b-4b1c-9aa5-b3536bdb0133"
   },
   "outputs": [
    {
     "name": "stdout",
     "output_type": "stream",
     "text": [
      "key : SD dan value : Sekolah Dasar\n",
      "key : SMP dan value : Sekolah Menengah Pertama\n",
      "key : SMA dan value : Sekolah Menengah Tingkat Atas\n",
      "key : D3 dan value : Diploma 3 atau akademi\n"
     ]
    }
   ],
   "source": [
    "for k,v in dict1.items():\n",
    "  print(f\"key : {k} dan value : {v}\")"
   ]
  },
  {
   "cell_type": "code",
   "execution_count": 87,
   "metadata": {},
   "outputs": [
    {
     "name": "stdout",
     "output_type": "stream",
     "text": [
      "SD\n",
      "SMP\n",
      "SMA\n",
      "D3\n"
     ]
    }
   ],
   "source": [
    "for k in dict1.keys():\n",
    "    print(k)"
   ]
  },
  {
   "cell_type": "code",
   "execution_count": 90,
   "metadata": {},
   "outputs": [],
   "source": [
    "lsn=[]\n",
    "for a in range(100):\n",
    "    lsn.append(a)"
   ]
  },
  {
   "cell_type": "code",
   "execution_count": 91,
   "metadata": {},
   "outputs": [
    {
     "data": {
      "text/plain": [
       "100"
      ]
     },
     "execution_count": 91,
     "metadata": {},
     "output_type": "execute_result"
    }
   ],
   "source": [
    "len(lsn)"
   ]
  },
  {
   "cell_type": "code",
   "execution_count": 94,
   "metadata": {},
   "outputs": [],
   "source": [
    "lsnum = [a+1 for a in range(100)]"
   ]
  },
  {
   "cell_type": "code",
   "execution_count": 95,
   "metadata": {},
   "outputs": [
    {
     "data": {
      "text/plain": [
       "[1, 2, 3, 4, 5, 6, 7, 8, 9, 10]"
      ]
     },
     "execution_count": 95,
     "metadata": {},
     "output_type": "execute_result"
    }
   ],
   "source": [
    "lsnum[:10]"
   ]
  },
  {
   "cell_type": "code",
   "execution_count": 96,
   "metadata": {},
   "outputs": [],
   "source": [
    "lsganjil = [a+1 for a in range(100) if (a+1)%2 != 0]"
   ]
  },
  {
   "cell_type": "code",
   "execution_count": 97,
   "metadata": {},
   "outputs": [
    {
     "data": {
      "text/plain": [
       "[1, 3, 5, 7, 9, 11, 13, 15, 17, 19]"
      ]
     },
     "execution_count": 97,
     "metadata": {},
     "output_type": "execute_result"
    }
   ],
   "source": [
    "lsganjil[:10]"
   ]
  },
  {
   "cell_type": "code",
   "execution_count": 98,
   "metadata": {},
   "outputs": [],
   "source": [
    "lsg=[]\n",
    "for a in range(100):\n",
    "    c = (a+1)\n",
    "    if(c%2 != 0):\n",
    "        lsg.append(c)"
   ]
  },
  {
   "cell_type": "markdown",
   "metadata": {
    "id": "2f9s4aetyECk"
   },
   "source": [
    "## Function\n",
    "Function adalah objek yang dapat menerima input, melakukan operasi, dan menghasilkan output"
   ]
  },
  {
   "cell_type": "markdown",
   "metadata": {
    "id": "PIjIIY3j1lHN"
   },
   "source": [
    "### Simple Function"
   ]
  },
  {
   "cell_type": "code",
   "execution_count": 99,
   "metadata": {
    "id": "GTeE4gUD0Tyc"
   },
   "outputs": [],
   "source": [
    "def func1(a,b):\n",
    "  out = (a**2 + b **2)**0.5\n",
    "  return out"
   ]
  },
  {
   "cell_type": "code",
   "execution_count": 100,
   "metadata": {
    "colab": {
     "base_uri": "https://localhost:8080/"
    },
    "id": "eCh3UKlI1MDn",
    "outputId": "7135bf94-f06f-4ac2-edb4-11d66cbbd3b4"
   },
   "outputs": [
    {
     "data": {
      "text/plain": [
       "5.0"
      ]
     },
     "execution_count": 100,
     "metadata": {},
     "output_type": "execute_result"
    }
   ],
   "source": [
    "func1(3,4)"
   ]
  },
  {
   "cell_type": "code",
   "execution_count": 101,
   "metadata": {},
   "outputs": [],
   "source": [
    "ls3 = [(3,4),(5,6),(7,9)]"
   ]
  },
  {
   "cell_type": "code",
   "execution_count": 102,
   "metadata": {},
   "outputs": [
    {
     "name": "stdout",
     "output_type": "stream",
     "text": [
      "5.0\n",
      "7.810249675906654\n",
      "11.40175425099138\n"
     ]
    }
   ],
   "source": [
    "for t in ls3:\n",
    "    print(func1(t[0],t[1]))"
   ]
  },
  {
   "cell_type": "markdown",
   "metadata": {
    "id": "nFShsZOZ4RFZ"
   },
   "source": [
    "### Anonymous Function"
   ]
  },
  {
   "cell_type": "code",
   "execution_count": 103,
   "metadata": {
    "colab": {
     "base_uri": "https://localhost:8080/"
    },
    "id": "63jQKg7d3sQo",
    "outputId": "2f26d061-2e7e-4e1f-fa30-3d333b2adb9c"
   },
   "outputs": [
    {
     "data": {
      "text/plain": [
       "5.0"
      ]
     },
     "execution_count": 103,
     "metadata": {},
     "output_type": "execute_result"
    }
   ],
   "source": [
    "(lambda a,b : (a**2 + b **2)**0.5)(3,4)"
   ]
  },
  {
   "cell_type": "markdown",
   "metadata": {
    "id": "g2zNujd64e6D"
   },
   "source": [
    "### Decorated Function"
   ]
  },
  {
   "cell_type": "code",
   "execution_count": 32,
   "metadata": {
    "id": "uQQ6ibxn5-2M"
   },
   "outputs": [],
   "source": [
    "import time\n",
    "import math\n",
    "\n",
    "# decorator to calculate duration\n",
    "# taken by any function.\n",
    "def calculate_time(func):\n",
    "\n",
    "    # added arguments inside the inner1,\n",
    "    # if function takes any arguments,\n",
    "    # can be added like this.\n",
    "    def inner1(*args, **kwargs):\n",
    "\n",
    "        # storing time before function execution\n",
    "        begin = time.time()\n",
    "\n",
    "        func(*args, **kwargs)\n",
    "\n",
    "        # storing time after function execution\n",
    "        end = time.time()\n",
    "        print(f\"{func.__name__} total time taken in : {end - begin} s\")\n",
    "\n",
    "    return inner1"
   ]
  },
  {
   "cell_type": "code",
   "execution_count": 105,
   "metadata": {
    "id": "CbkKiea88UsA"
   },
   "outputs": [],
   "source": [
    "@calculate_time\n",
    "def factorial(num):\n",
    "\n",
    "    # sleep 2 seconds because it takes very less time\n",
    "    # so that you can see the actual difference\n",
    "    time.sleep(2)\n",
    "    print(math.factorial(num))\n"
   ]
  },
  {
   "cell_type": "code",
   "execution_count": 106,
   "metadata": {
    "colab": {
     "base_uri": "https://localhost:8080/"
    },
    "id": "PmFgp-TI8gyQ",
    "outputId": "f94c9f58-f094-4a1e-ef0b-a085cb8a7c20"
   },
   "outputs": [
    {
     "name": "stdout",
     "output_type": "stream",
     "text": [
      "3628800\n",
      "factorial total time taken in : 2.0004191398620605 s\n"
     ]
    }
   ],
   "source": [
    "# calling the function.\n",
    "factorial(10)"
   ]
  },
  {
   "cell_type": "markdown",
   "metadata": {
    "id": "eGy0uC909YiI"
   },
   "source": [
    "### Function in Iteration"
   ]
  },
  {
   "cell_type": "code",
   "execution_count": null,
   "metadata": {
    "id": "85zYNKmN9d9l"
   },
   "outputs": [],
   "source": [
    "def square(x):\n",
    "  return x**2"
   ]
  },
  {
   "cell_type": "code",
   "execution_count": null,
   "metadata": {
    "id": "xCkEMZDS9ncz"
   },
   "outputs": [],
   "source": [
    "ls = [a+1 for a in range(100)]"
   ]
  },
  {
   "cell_type": "code",
   "execution_count": null,
   "metadata": {
    "colab": {
     "base_uri": "https://localhost:8080/"
    },
    "id": "iX6nyKng9umG",
    "outputId": "b893b878-a564-46f6-fb27-952877a3da8c"
   },
   "outputs": [
    {
     "data": {
      "text/plain": [
       "100"
      ]
     },
     "execution_count": 79,
     "metadata": {},
     "output_type": "execute_result"
    }
   ],
   "source": [
    "len(ls)"
   ]
  },
  {
   "cell_type": "code",
   "execution_count": null,
   "metadata": {
    "id": "3fgrTD_C93FI"
   },
   "outputs": [],
   "source": [
    "mapsquare = map(square, ls)"
   ]
  },
  {
   "cell_type": "code",
   "execution_count": null,
   "metadata": {
    "id": "25Jkh2Ab9xJT"
   },
   "outputs": [],
   "source": [
    "lssquare = list(mapsquare)"
   ]
  },
  {
   "cell_type": "code",
   "execution_count": null,
   "metadata": {
    "colab": {
     "base_uri": "https://localhost:8080/"
    },
    "id": "uQQoKrCq-UPg",
    "outputId": "bb85cb65-1acd-4433-abca-d1d506ebe4a5"
   },
   "outputs": [
    {
     "data": {
      "text/plain": [
       "[1, 4, 9, 16, 25, 36, 49, 64, 81, 100]"
      ]
     },
     "execution_count": 89,
     "metadata": {},
     "output_type": "execute_result"
    }
   ],
   "source": [
    "lssquare[:10]"
   ]
  },
  {
   "cell_type": "markdown",
   "metadata": {
    "id": "oKWk1SL2Zslk"
   },
   "source": [
    "### Object Oriented Programming"
   ]
  },
  {
   "cell_type": "markdown",
   "metadata": {
    "id": "c1dXueBNZzKA"
   },
   "source": [
    "#### Class"
   ]
  },
  {
   "cell_type": "code",
   "execution_count": 14,
   "metadata": {
    "id": "rKsS1IQuW_zO"
   },
   "outputs": [],
   "source": [
    "class Orang:\n",
    "  def __init__(self, nik, nama, usia, lsharta):\n",
    "    self.nik=nik\n",
    "    self.nama=nama\n",
    "    self.usia=usia\n",
    "    self.lsharta=lsharta\n",
    "  def bicara(self):\n",
    "    print(f\"Perkenalkan saya {self.nama}\")"
   ]
  },
  {
   "cell_type": "code",
   "execution_count": 15,
   "metadata": {},
   "outputs": [],
   "source": [
    "class Harta:\n",
    "    def __init__(self, jenis, nilai, tahun):\n",
    "        self.jenis=jenis\n",
    "        self.nilai=nilai\n",
    "        self.tahun=tahun"
   ]
  },
  {
   "cell_type": "code",
   "execution_count": 9,
   "metadata": {},
   "outputs": [],
   "source": [
    "mobil = Harta('mobil', 100000000, 2012)"
   ]
  },
  {
   "cell_type": "code",
   "execution_count": 10,
   "metadata": {},
   "outputs": [],
   "source": [
    "rumah = Harta('rumah', 700000000, 2020)"
   ]
  },
  {
   "cell_type": "code",
   "execution_count": 11,
   "metadata": {},
   "outputs": [],
   "source": [
    "lsharta = [mobil, rumah]"
   ]
  },
  {
   "cell_type": "markdown",
   "metadata": {
    "id": "guI98HDlcxRJ"
   },
   "source": [
    "#### Object"
   ]
  },
  {
   "cell_type": "code",
   "execution_count": 16,
   "metadata": {
    "id": "sR1wmyQ3b4vX"
   },
   "outputs": [],
   "source": [
    "jaka = Orang('12345678', 'jaka wibawa',40, lsharta)"
   ]
  },
  {
   "cell_type": "code",
   "execution_count": 19,
   "metadata": {
    "colab": {
     "base_uri": "https://localhost:8080/",
     "height": 35
    },
    "id": "QMhzqjWQcqQH",
    "outputId": "430e58d6-3335-43b2-f26e-9a36f9057a3a"
   },
   "outputs": [
    {
     "data": {
      "text/plain": [
       "'mobil'"
      ]
     },
     "execution_count": 19,
     "metadata": {},
     "output_type": "execute_result"
    }
   ],
   "source": [
    "jaka.lsharta[0].jenis"
   ]
  },
  {
   "cell_type": "code",
   "execution_count": 4,
   "metadata": {
    "colab": {
     "base_uri": "https://localhost:8080/"
    },
    "id": "1-nLmljdfl1a",
    "outputId": "9f6ea78c-3eb3-470f-ffdf-034e9515be4e"
   },
   "outputs": [
    {
     "name": "stdout",
     "output_type": "stream",
     "text": [
      "Perkenalkan saya jaka wibawa\n"
     ]
    }
   ],
   "source": [
    "jaka.bicara()"
   ]
  },
  {
   "cell_type": "code",
   "execution_count": 5,
   "metadata": {},
   "outputs": [],
   "source": [
    "aris = Orang('7895643', 'aris budi s', 39)"
   ]
  },
  {
   "cell_type": "code",
   "execution_count": 6,
   "metadata": {},
   "outputs": [
    {
     "name": "stdout",
     "output_type": "stream",
     "text": [
      "Perkenalkan saya aris budi s\n"
     ]
    }
   ],
   "source": [
    "aris.bicara()"
   ]
  },
  {
   "cell_type": "markdown",
   "metadata": {
    "id": "IVYBhI27d9l-"
   },
   "source": [
    "### Pewarisan/ Inheritance"
   ]
  },
  {
   "cell_type": "code",
   "execution_count": 26,
   "metadata": {
    "id": "3UIV6QJ2eEI_"
   },
   "outputs": [],
   "source": [
    "class Pegawai(Orang):\n",
    "  def __init__(self,nik, nama, usia,lsharta, grade, jabatan):\n",
    "    self.grade=grade\n",
    "    self.jabatan=jabatan\n",
    "    Orang.__init__(self,nik,nama,usia,lsharta)\n",
    "  def bekerja(self):\n",
    "    print(f\"Bekerja sebagai {self.jabatan}\")"
   ]
  },
  {
   "cell_type": "code",
   "execution_count": 40,
   "metadata": {
    "id": "pCAGkn9rfjA3"
   },
   "outputs": [],
   "source": [
    "peg_jaka = Pegawai('12345678','Jaka Wibawa',40, lsharta, 13,'Pranata Komputer')"
   ]
  },
  {
   "cell_type": "code",
   "execution_count": 28,
   "metadata": {
    "colab": {
     "base_uri": "https://localhost:8080/"
    },
    "id": "2tJSngdvciuz",
    "outputId": "9afa8898-4acf-4aa2-8720-c71524f1b0e1"
   },
   "outputs": [
    {
     "name": "stdout",
     "output_type": "stream",
     "text": [
      "Perkenalkan saya Jaka Wibawa\n"
     ]
    }
   ],
   "source": [
    "peg_jaka.bicara()"
   ]
  },
  {
   "cell_type": "code",
   "execution_count": 29,
   "metadata": {
    "colab": {
     "base_uri": "https://localhost:8080/",
     "height": 35
    },
    "id": "hHj5ySSif8yz",
    "outputId": "819957ef-d52e-44e4-fbfa-6c48e1bf8231"
   },
   "outputs": [
    {
     "name": "stdout",
     "output_type": "stream",
     "text": [
      "Bekerja sebagai Pranata Komputer\n"
     ]
    }
   ],
   "source": [
    "peg_jaka.bekerja()"
   ]
  },
  {
   "cell_type": "markdown",
   "metadata": {
    "id": "dktknspq2_ir"
   },
   "source": [
    "## Multi Threading\n",
    "Thread adalah bagian terkecil dari proses yang dijalankan oleh Sistem Operasi. Multi threading adalah mekanisme untuk menjalankan banyak thread secara bersamaan."
   ]
  },
  {
   "cell_type": "markdown",
   "metadata": {
    "id": "2HO9fgvxgcHl"
   },
   "source": [
    "### Menggunakan Threading"
   ]
  },
  {
   "cell_type": "code",
   "execution_count": 30,
   "metadata": {
    "id": "ffxAPC6z5GL7"
   },
   "outputs": [],
   "source": [
    "import threading\n",
    "from math import sqrt"
   ]
  },
  {
   "cell_type": "code",
   "execution_count": 31,
   "metadata": {
    "id": "S9kZPuaHVSyb"
   },
   "outputs": [],
   "source": [
    "inp = 20\n",
    "def cek(n):\n",
    "  for i in range(n):\n",
    "    time.sleep(1)"
   ]
  },
  {
   "cell_type": "code",
   "execution_count": 33,
   "metadata": {
    "id": "imIC39zGVmyh"
   },
   "outputs": [],
   "source": [
    "@calculate_time\n",
    "def singlecek(inp):\n",
    "  cek(inp)"
   ]
  },
  {
   "cell_type": "code",
   "execution_count": 34,
   "metadata": {
    "colab": {
     "base_uri": "https://localhost:8080/"
    },
    "id": "lN_ZkIyoV0my",
    "outputId": "327db8f9-d616-4d2c-b6b8-26ca8be7713f"
   },
   "outputs": [
    {
     "name": "stdout",
     "output_type": "stream",
     "text": [
      "singlecek total time taken in : 20.011759519577026 s\n"
     ]
    }
   ],
   "source": [
    "singlecek(20)"
   ]
  },
  {
   "cell_type": "code",
   "execution_count": 35,
   "metadata": {
    "id": "xOjgX_BXV6Jp"
   },
   "outputs": [],
   "source": [
    "@calculate_time\n",
    "def multicek(inp):\n",
    "  t1 = threading.Thread(target=cek, args=(int(inp/2),))\n",
    "  t2 = threading.Thread(target=cek, args=(int(inp/2),))\n",
    "  t1.start()\n",
    "  t2.start()\n",
    "  t1.join()\n",
    "  t2.join()\n",
    "  print(\"done\")"
   ]
  },
  {
   "cell_type": "code",
   "execution_count": 36,
   "metadata": {
    "colab": {
     "base_uri": "https://localhost:8080/"
    },
    "id": "-z1pD1MYWmlg",
    "outputId": "65f6bda0-8480-4257-ea76-a5a618fb172a"
   },
   "outputs": [
    {
     "name": "stdout",
     "output_type": "stream",
     "text": [
      "done\n",
      "multicek total time taken in : 10.018400192260742 s\n"
     ]
    }
   ],
   "source": [
    "multicek(20)"
   ]
  },
  {
   "cell_type": "code",
   "execution_count": null,
   "metadata": {
    "id": "G5Iv0cYN6pjM"
   },
   "outputs": [],
   "source": [
    "nums = [(a, a+2) for a in range(100000)]"
   ]
  },
  {
   "cell_type": "code",
   "execution_count": null,
   "metadata": {
    "id": "fcGliVoI7F-N"
   },
   "outputs": [],
   "source": [
    "def hitung(dt):\n",
    "  out = [sqrt(tup[0]**2 + tup[1]**2) for tup in dt]\n",
    "  return out"
   ]
  },
  {
   "cell_type": "code",
   "execution_count": null,
   "metadata": {
    "id": "-r7T7_RI766z"
   },
   "outputs": [],
   "source": [
    "@calculate_time\n",
    "def single_proses(dt):\n",
    "  hasil = hitung(nums)\n",
    "  return hasil"
   ]
  },
  {
   "cell_type": "code",
   "execution_count": null,
   "metadata": {
    "colab": {
     "base_uri": "https://localhost:8080/"
    },
    "id": "g54DHXll9QOe",
    "outputId": "62e897d9-3956-4d9a-ded5-137b7263d736"
   },
   "outputs": [
    {
     "name": "stdout",
     "output_type": "stream",
     "text": [
      "single_proses total time taken in : 0.07531213760375977 s\n"
     ]
    }
   ],
   "source": [
    "single_proses(nums)"
   ]
  },
  {
   "cell_type": "code",
   "execution_count": null,
   "metadata": {
    "id": "EEwLXVOL9bEn"
   },
   "outputs": [],
   "source": [
    "import threading\n",
    "import sys\n",
    "\n",
    "\n",
    "class ReturnValueThread(threading.Thread):\n",
    "    def __init__(self, *args, **kwargs):\n",
    "        super().__init__(*args, **kwargs)\n",
    "        self.result = None\n",
    "\n",
    "    def run(self):\n",
    "        if self._target is None:\n",
    "            return  # could alternatively raise an exception, depends on the use case\n",
    "        try:\n",
    "            self.result = self._target(*self._args, **self._kwargs)\n",
    "        except Exception as exc:\n",
    "            print(f'{type(exc).__name__}: {exc}', file=sys.stderr)  # properly handle the exception\n",
    "\n",
    "    def join(self, *args, **kwargs):\n",
    "        super().join(*args, **kwargs)\n",
    "        return self.result"
   ]
  },
  {
   "cell_type": "code",
   "execution_count": null,
   "metadata": {
    "id": "HsN2oaeIL2BT"
   },
   "outputs": [],
   "source": [
    "@calculate_time\n",
    "def doall(nums):\n",
    "    thread1 = ReturnValueThread(target=hitung, args=(nums[:50000],))\n",
    "    thread2 = ReturnValueThread(target=hitung, args=(nums[50000:],))\n",
    "    thread1.start()\n",
    "    thread2.start()\n",
    "    result = thread1.join()\n",
    "    result.extend(thread2.join())\n",
    "    return result"
   ]
  },
  {
   "cell_type": "code",
   "execution_count": null,
   "metadata": {
    "colab": {
     "base_uri": "https://localhost:8080/"
    },
    "id": "JIxbmqSUMqTx",
    "outputId": "838f8dfd-fa14-4b21-b2b3-bced84d0e7d6"
   },
   "outputs": [
    {
     "name": "stdout",
     "output_type": "stream",
     "text": [
      "doall total time taken in : 0.0883321762084961 s\n"
     ]
    }
   ],
   "source": [
    "data = doall(nums)"
   ]
  },
  {
   "cell_type": "markdown",
   "metadata": {
    "id": "VmjW4v8rgPay"
   },
   "source": [
    "### Menggunakan multiprocessing"
   ]
  },
  {
   "cell_type": "code",
   "execution_count": 1,
   "metadata": {
    "id": "uig00ad0f_Vg"
   },
   "outputs": [],
   "source": [
    "import multiprocessing\n",
    "import time\n",
    "\n",
    "def square(x):\n",
    "\treturn x * x"
   ]
  },
  {
   "cell_type": "code",
   "execution_count": 2,
   "metadata": {
    "colab": {
     "base_uri": "https://localhost:8080/"
    },
    "id": "ZSKnYcwcVbs_",
    "outputId": "ae17a0a9-2fc0-4720-a1b6-f557a957985a"
   },
   "outputs": [
    {
     "name": "stdout",
     "output_type": "stream",
     "text": [
      "Input: [0, 1, 2, 3, 4, 5, 6, 7, 8, 9, 10, 11, 12, 13, 14, 15, 16, 17, 18, 19, 20, 21, 22, 23, 24, 25, 26, 27, 28, 29, 30, 31, 32, 33, 34, 35, 36, 37, 38, 39, 40, 41, 42, 43, 44, 45, 46, 47, 48, 49, 50, 51, 52, 53, 54, 55, 56, 57, 58, 59, 60, 61, 62, 63, 64, 65, 66, 67, 68, 69, 70, 71, 72, 73, 74, 75, 76, 77, 78, 79, 80, 81, 82, 83, 84, 85, 86, 87, 88, 89, 90, 91, 92, 93, 94, 95, 96, 97, 98, 99]\n",
      "Output: [0, 1, 4, 9, 16, 25, 36, 49, 64, 81, 100, 121, 144, 169, 196, 225, 256, 289, 324, 361, 400, 441, 484, 529, 576, 625, 676, 729, 784, 841, 900, 961, 1024, 1089, 1156, 1225, 1296, 1369, 1444, 1521, 1600, 1681, 1764, 1849, 1936, 2025, 2116, 2209, 2304, 2401, 2500, 2601, 2704, 2809, 2916, 3025, 3136, 3249, 3364, 3481, 3600, 3721, 3844, 3969, 4096, 4225, 4356, 4489, 4624, 4761, 4900, 5041, 5184, 5329, 5476, 5625, 5776, 5929, 6084, 6241, 6400, 6561, 6724, 6889, 7056, 7225, 7396, 7569, 7744, 7921, 8100, 8281, 8464, 8649, 8836, 9025, 9216, 9409, 9604, 9801]\n"
     ]
    }
   ],
   "source": [
    "pool = multiprocessing.Pool()\n",
    "pool = multiprocessing.Pool(processes=4)\n",
    "inputs = [a for a in range(100)]\n",
    "outputs = pool.map(square, inputs)\n",
    "print(\"Input: {}\".format(inputs))\n",
    "print(\"Output: {}\".format(outputs))\n"
   ]
  },
  {
   "cell_type": "markdown",
   "metadata": {
    "id": "kFPQbQZeniV6"
   },
   "source": [
    "## Latihan"
   ]
  },
  {
   "cell_type": "markdown",
   "metadata": {
    "id": "3uA3U7OSnklg"
   },
   "source": [
    "### 1. Buatlah list yang terdiri dari bilangan ganjil dari 1 hingga 1000\n",
    "Gunakan looping dan if satement untuk menyelesaikannya"
   ]
  },
  {
   "cell_type": "code",
   "execution_count": null,
   "metadata": {
    "id": "FtxSi4PAoNh-"
   },
   "outputs": [],
   "source": []
  },
  {
   "cell_type": "markdown",
   "metadata": {
    "id": "7FHTBNWkoLUB"
   },
   "source": [
    "### 2. Buatlah list yang berisi kumpulan 1000 tuple. Setiap tuple berisi angka dan hasil kuadratnya secara berurutan\n",
    "Gunakan looping dan function"
   ]
  },
  {
   "cell_type": "code",
   "execution_count": null,
   "metadata": {
    "id": "UzpzSOidqx5D"
   },
   "outputs": [],
   "source": []
  },
  {
   "cell_type": "markdown",
   "metadata": {
    "id": "4Lw4fpf5q74U"
   },
   "source": [
    "### 3. Membuat dictionary dari 2 list\n",
    "1. Buatlah list yang berisi 100 nilai integer secara random.\n",
    "\n",
    "2. Kemudian, buatlah list yang berisi 100 string (8 karakter) yg dibentuk secara random.\n",
    "\n",
    "3. Selanjutnya buatlah dictionary dengan keys dari list of integer pada langkah 1 dan values dari list of string pada langkah 2\n",
    "\n",
    "4. Buat objek dictionary, gunakan looping, pada setiap iterasi set key dan value\n",
    "\n",
    "5. Contoh hasil yang diharapkan {4 : 'abcdefgh', 2 : 'xhucdqrt', 6 : 'nbklbvmk'}"
   ]
  },
  {
   "cell_type": "code",
   "execution_count": null,
   "metadata": {
    "id": "ru9NeRyBBQlf"
   },
   "outputs": [],
   "source": []
  },
  {
   "cell_type": "markdown",
   "metadata": {
    "id": "a5uNxvlPwJWp"
   },
   "source": [
    "## Referensi\n"
   ]
  },
  {
   "cell_type": "markdown",
   "metadata": {
    "id": "fab1VIe6wIsL"
   },
   "source": [
    "Donald R. Sheehy. A First Course on Data Structure in Python\n",
    "\n",
    "Nelli, Fabio. 2015. Python Data Analytics\n",
    "\n",
    "https://docs.python.org/3\n",
    "\n",
    "https://www.geeksforgeeks.org/decorators-in-python/\n",
    "\n",
    "https://alexandra-zaharia.github.io/posts/how-to-return-a-result-from-a-python-thread/\n",
    "\n"
   ]
  }
 ],
 "metadata": {
  "colab": {
   "provenance": [],
   "toc_visible": true
  },
  "kernelspec": {
   "display_name": "Python 3 (ipykernel)",
   "language": "python",
   "name": "python3"
  },
  "language_info": {
   "codemirror_mode": {
    "name": "ipython",
    "version": 3
   },
   "file_extension": ".py",
   "mimetype": "text/x-python",
   "name": "python",
   "nbconvert_exporter": "python",
   "pygments_lexer": "ipython3",
   "version": "3.10.9"
  }
 },
 "nbformat": 4,
 "nbformat_minor": 1
}
